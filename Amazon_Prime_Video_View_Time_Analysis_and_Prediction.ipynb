{
  "nbformat": 4,
  "nbformat_minor": 0,
  "metadata": {
    "colab": {
      "provenance": [],
      "collapsed_sections": [],
      "authorship_tag": "ABX9TyPX1lB2yVs9hi8tFi0hJX7r",
      "include_colab_link": true
    },
    "kernelspec": {
      "name": "python3",
      "display_name": "Python 3"
    },
    "language_info": {
      "name": "python"
    }
  },
  "cells": [
    {
      "cell_type": "markdown",
      "metadata": {
        "id": "view-in-github",
        "colab_type": "text"
      },
      "source": [
        "<a href=\"https://colab.research.google.com/github/yuzhenke1122/video_view_analysis_n_prediction/blob/main/Amazon_Prime_Video_View_Time_Analysis_and_Prediction.ipynb\" target=\"_parent\"><img src=\"https://colab.research.google.com/assets/colab-badge.svg\" alt=\"Open In Colab\"/></a>"
      ]
    },
    {
      "cell_type": "markdown",
      "source": [
        "# Part 0. Load Packages and Data"
      ],
      "metadata": {
        "id": "6oCaJ9egcFm2"
      }
    },
    {
      "cell_type": "code",
      "execution_count": null,
      "metadata": {
        "id": "0yW1H54hYnUv"
      },
      "outputs": [],
      "source": [
        "import numpy as np\n",
        "import pandas as pd\n",
        "import sklearn as sk\n",
        "import sklearn.preprocessing as preprocessing\n",
        "from sklearn.model_selection import train_test_split\n",
        "from sklearn.linear_model import LinearRegression, Lasso, Ridge\n",
        "from sklearn.metrics import mean_squared_error, r2_score\n",
        "from sklearn.ensemble import RandomForestRegressor\n",
        "from sklearn.model_selection import GridSearchCV\n",
        "from sklearn.metrics import mean_squared_error\n",
        "import seaborn as sns\n",
        "import matplotlib.pyplot as plt\n",
        "from math import sqrt\n",
        "\n",
        "pd.set_option('display.float_format', lambda x: '%.3f' % x)\n",
        "pd.set_option('display.max_columns', None)\n",
        "pd.set_option('display.max_rows', None)"
      ]
    },
    {
      "cell_type": "code",
      "source": [
        "!pip install -U -q PyDrive\n",
        "\n",
        "from pydrive.auth import GoogleAuth\n",
        "from pydrive.drive import GoogleDrive\n",
        "from google.colab import auth\n",
        "from oauth2client.client import GoogleCredentials\n",
        "\n",
        "auth.authenticate_user()\n",
        "gauth = GoogleAuth()\n",
        "gauth.credentials = GoogleCredentials.get_application_default()\n",
        "drive = GoogleDrive(gauth)"
      ],
      "metadata": {
        "id": "hlvyNSOqdU-Y"
      },
      "execution_count": null,
      "outputs": []
    },
    {
      "cell_type": "code",
      "source": [
        "# Shared link from my google drive\n",
        "# https://drive.google.com/file/d/1BLYtnPH_pkcIaRw_DaWHrrXyxivMUi10/view?usp=sharing\n",
        "\n",
        "id = \"1BLYtnPH_pkcIaRw_DaWHrrXyxivMUi10\"\n",
        "file = drive.CreateFile({'id':id})\n",
        "file.GetContentFile('TVdata.txt')"
      ],
      "metadata": {
        "id": "qIH7ATbddyVJ",
        "colab": {
          "base_uri": "https://localhost:8080/"
        },
        "outputId": "aac41ece-738d-4c19-f8bf-51c9dfa7d500"
      },
      "execution_count": null,
      "outputs": [
        {
          "output_type": "stream",
          "name": "stderr",
          "text": [
            "WARNING:googleapiclient.discovery_cache:file_cache is unavailable when using oauth2client >= 4.0.0 or google-auth\n",
            "Traceback (most recent call last):\n",
            "  File \"/usr/local/lib/python3.7/dist-packages/googleapiclient/discovery_cache/file_cache.py\", line 33, in <module>\n",
            "    from oauth2client.contrib.locked_file import LockedFile\n",
            "ModuleNotFoundError: No module named 'oauth2client.contrib.locked_file'\n",
            "\n",
            "During handling of the above exception, another exception occurred:\n",
            "\n",
            "Traceback (most recent call last):\n",
            "  File \"/usr/local/lib/python3.7/dist-packages/googleapiclient/discovery_cache/file_cache.py\", line 37, in <module>\n",
            "    from oauth2client.locked_file import LockedFile\n",
            "ModuleNotFoundError: No module named 'oauth2client.locked_file'\n",
            "\n",
            "During handling of the above exception, another exception occurred:\n",
            "\n",
            "Traceback (most recent call last):\n",
            "  File \"/usr/local/lib/python3.7/dist-packages/googleapiclient/discovery_cache/__init__.py\", line 44, in autodetect\n",
            "    from . import file_cache\n",
            "  File \"/usr/local/lib/python3.7/dist-packages/googleapiclient/discovery_cache/file_cache.py\", line 41, in <module>\n",
            "    \"file_cache is unavailable when using oauth2client >= 4.0.0 or google-auth\"\n",
            "ImportError: file_cache is unavailable when using oauth2client >= 4.0.0 or google-auth\n"
          ]
        }
      ]
    },
    {
      "cell_type": "code",
      "source": [
        "# Import dataset as TV_file\n",
        "TV_file = pd.read_csv('TVdata.txt')\n",
        "\n",
        "# Rename the column 'weighted_horizontal_position'\n",
        "TV_file.rename(columns = {'weighted_horizontal_poition':'weighted_horizontal_position'}, inplace = True)\n",
        "\n",
        "# Check the first 10 rows\n",
        "TV_file.head(10)"
      ],
      "metadata": {
        "colab": {
          "base_uri": "https://localhost:8080/",
          "height": 583
        },
        "id": "VJKQx54-dzfx",
        "outputId": "79e9c5eb-c474-4098-9fd9-21b8ca04fe51"
      },
      "execution_count": null,
      "outputs": [
        {
          "output_type": "execute_result",
          "data": {
            "text/plain": [
              "   video_id  cvt_per_day  weighted_categorical_position  \\\n",
              "0    385504 307127.60561                              1   \n",
              "1    300175 270338.42637                              1   \n",
              "2    361899 256165.86745                              1   \n",
              "3    308314 196622.72100                              3   \n",
              "4    307201 159841.65206                              1   \n",
              "5    389496 135076.60975                              1   \n",
              "6    385507 134155.74020                              1   \n",
              "7    380517 116906.00792                              1   \n",
              "8    369857 116871.12162                              2   \n",
              "9    393463 111565.59675                              2   \n",
              "\n",
              "   weighted_horizontal_position  import_id  release_year  \\\n",
              "0                             3  lionsgate          2013   \n",
              "1                             3  lionsgate          2013   \n",
              "2                             3      other          2012   \n",
              "3                             4  lionsgate          2008   \n",
              "4                             3  lionsgate          2013   \n",
              "5                             5        mgm          2000   \n",
              "6                             6  lionsgate          2013   \n",
              "7                             7  lionsgate          2014   \n",
              "8                             9  lionsgate          2013   \n",
              "9                             7  lionsgate          2009   \n",
              "\n",
              "                                          genres  imdb_votes    budget  \\\n",
              "0                          Action,Thriller,Drama       69614  15000000   \n",
              "1                          Comedy,Crime,Thriller       46705  15000000   \n",
              "2                                    Crime,Drama      197596  26000000   \n",
              "3  Thriller,Drama,War,Documentary,Mystery,Action      356339  15000000   \n",
              "4             Crime,Thriller,Mystery,Documentary       46720  27220000   \n",
              "5                                         Comedy       13250  60000000   \n",
              "6                      Action,Adventure,Thriller       16188  11000000   \n",
              "7                                  Western,Drama       24321  16000000   \n",
              "8                         Thriller,Crime,Western      119679  45000000   \n",
              "9       Action,Adventure,Sci-Fi,Fantasy,Thriller           0         0   \n",
              "\n",
              "   boxoffice  imdb_rating  duration_in_mins  metacritic_score       awards  \\\n",
              "0   42930462      6.50000         112.30102                51  other award   \n",
              "1    3301046      6.50000          94.98325                41     no award   \n",
              "2   37397291      7.30000         115.76367                58  other award   \n",
              "3   15700000      7.60000         130.70358                94        Oscar   \n",
              "4    8551228      6.40000         105.54553                37  other award   \n",
              "5   32095318      5.50000          98.46835                37     no award   \n",
              "6    8551228      5.20000          94.33642                57  other award   \n",
              "7    2428883      6.60000         123.30252                68  other award   \n",
              "8   12026670      6.40000         107.21283                54  other award   \n",
              "9          0      0.00000          94.74845                 0  other award   \n",
              "\n",
              "    mpaa  star_category  \n",
              "0  PG-13        1.71000  \n",
              "1      R        3.25000  \n",
              "2      R        2.64667  \n",
              "3      R        1.66667  \n",
              "4      R        3.06667  \n",
              "5  PG-13        2.75000  \n",
              "6      R        2.74000  \n",
              "7      R        3.00278  \n",
              "8      R        1.82222  \n",
              "9      R        2.07963  "
            ],
            "text/html": [
              "\n",
              "  <div id=\"df-b0b34747-8506-4c8f-90ca-5d4ff3c01bc8\">\n",
              "    <div class=\"colab-df-container\">\n",
              "      <div>\n",
              "<style scoped>\n",
              "    .dataframe tbody tr th:only-of-type {\n",
              "        vertical-align: middle;\n",
              "    }\n",
              "\n",
              "    .dataframe tbody tr th {\n",
              "        vertical-align: top;\n",
              "    }\n",
              "\n",
              "    .dataframe thead th {\n",
              "        text-align: right;\n",
              "    }\n",
              "</style>\n",
              "<table border=\"1\" class=\"dataframe\">\n",
              "  <thead>\n",
              "    <tr style=\"text-align: right;\">\n",
              "      <th></th>\n",
              "      <th>video_id</th>\n",
              "      <th>cvt_per_day</th>\n",
              "      <th>weighted_categorical_position</th>\n",
              "      <th>weighted_horizontal_position</th>\n",
              "      <th>import_id</th>\n",
              "      <th>release_year</th>\n",
              "      <th>genres</th>\n",
              "      <th>imdb_votes</th>\n",
              "      <th>budget</th>\n",
              "      <th>boxoffice</th>\n",
              "      <th>imdb_rating</th>\n",
              "      <th>duration_in_mins</th>\n",
              "      <th>metacritic_score</th>\n",
              "      <th>awards</th>\n",
              "      <th>mpaa</th>\n",
              "      <th>star_category</th>\n",
              "    </tr>\n",
              "  </thead>\n",
              "  <tbody>\n",
              "    <tr>\n",
              "      <th>0</th>\n",
              "      <td>385504</td>\n",
              "      <td>307127.60561</td>\n",
              "      <td>1</td>\n",
              "      <td>3</td>\n",
              "      <td>lionsgate</td>\n",
              "      <td>2013</td>\n",
              "      <td>Action,Thriller,Drama</td>\n",
              "      <td>69614</td>\n",
              "      <td>15000000</td>\n",
              "      <td>42930462</td>\n",
              "      <td>6.50000</td>\n",
              "      <td>112.30102</td>\n",
              "      <td>51</td>\n",
              "      <td>other award</td>\n",
              "      <td>PG-13</td>\n",
              "      <td>1.71000</td>\n",
              "    </tr>\n",
              "    <tr>\n",
              "      <th>1</th>\n",
              "      <td>300175</td>\n",
              "      <td>270338.42637</td>\n",
              "      <td>1</td>\n",
              "      <td>3</td>\n",
              "      <td>lionsgate</td>\n",
              "      <td>2013</td>\n",
              "      <td>Comedy,Crime,Thriller</td>\n",
              "      <td>46705</td>\n",
              "      <td>15000000</td>\n",
              "      <td>3301046</td>\n",
              "      <td>6.50000</td>\n",
              "      <td>94.98325</td>\n",
              "      <td>41</td>\n",
              "      <td>no award</td>\n",
              "      <td>R</td>\n",
              "      <td>3.25000</td>\n",
              "    </tr>\n",
              "    <tr>\n",
              "      <th>2</th>\n",
              "      <td>361899</td>\n",
              "      <td>256165.86745</td>\n",
              "      <td>1</td>\n",
              "      <td>3</td>\n",
              "      <td>other</td>\n",
              "      <td>2012</td>\n",
              "      <td>Crime,Drama</td>\n",
              "      <td>197596</td>\n",
              "      <td>26000000</td>\n",
              "      <td>37397291</td>\n",
              "      <td>7.30000</td>\n",
              "      <td>115.76367</td>\n",
              "      <td>58</td>\n",
              "      <td>other award</td>\n",
              "      <td>R</td>\n",
              "      <td>2.64667</td>\n",
              "    </tr>\n",
              "    <tr>\n",
              "      <th>3</th>\n",
              "      <td>308314</td>\n",
              "      <td>196622.72100</td>\n",
              "      <td>3</td>\n",
              "      <td>4</td>\n",
              "      <td>lionsgate</td>\n",
              "      <td>2008</td>\n",
              "      <td>Thriller,Drama,War,Documentary,Mystery,Action</td>\n",
              "      <td>356339</td>\n",
              "      <td>15000000</td>\n",
              "      <td>15700000</td>\n",
              "      <td>7.60000</td>\n",
              "      <td>130.70358</td>\n",
              "      <td>94</td>\n",
              "      <td>Oscar</td>\n",
              "      <td>R</td>\n",
              "      <td>1.66667</td>\n",
              "    </tr>\n",
              "    <tr>\n",
              "      <th>4</th>\n",
              "      <td>307201</td>\n",
              "      <td>159841.65206</td>\n",
              "      <td>1</td>\n",
              "      <td>3</td>\n",
              "      <td>lionsgate</td>\n",
              "      <td>2013</td>\n",
              "      <td>Crime,Thriller,Mystery,Documentary</td>\n",
              "      <td>46720</td>\n",
              "      <td>27220000</td>\n",
              "      <td>8551228</td>\n",
              "      <td>6.40000</td>\n",
              "      <td>105.54553</td>\n",
              "      <td>37</td>\n",
              "      <td>other award</td>\n",
              "      <td>R</td>\n",
              "      <td>3.06667</td>\n",
              "    </tr>\n",
              "    <tr>\n",
              "      <th>5</th>\n",
              "      <td>389496</td>\n",
              "      <td>135076.60975</td>\n",
              "      <td>1</td>\n",
              "      <td>5</td>\n",
              "      <td>mgm</td>\n",
              "      <td>2000</td>\n",
              "      <td>Comedy</td>\n",
              "      <td>13250</td>\n",
              "      <td>60000000</td>\n",
              "      <td>32095318</td>\n",
              "      <td>5.50000</td>\n",
              "      <td>98.46835</td>\n",
              "      <td>37</td>\n",
              "      <td>no award</td>\n",
              "      <td>PG-13</td>\n",
              "      <td>2.75000</td>\n",
              "    </tr>\n",
              "    <tr>\n",
              "      <th>6</th>\n",
              "      <td>385507</td>\n",
              "      <td>134155.74020</td>\n",
              "      <td>1</td>\n",
              "      <td>6</td>\n",
              "      <td>lionsgate</td>\n",
              "      <td>2013</td>\n",
              "      <td>Action,Adventure,Thriller</td>\n",
              "      <td>16188</td>\n",
              "      <td>11000000</td>\n",
              "      <td>8551228</td>\n",
              "      <td>5.20000</td>\n",
              "      <td>94.33642</td>\n",
              "      <td>57</td>\n",
              "      <td>other award</td>\n",
              "      <td>R</td>\n",
              "      <td>2.74000</td>\n",
              "    </tr>\n",
              "    <tr>\n",
              "      <th>7</th>\n",
              "      <td>380517</td>\n",
              "      <td>116906.00792</td>\n",
              "      <td>1</td>\n",
              "      <td>7</td>\n",
              "      <td>lionsgate</td>\n",
              "      <td>2014</td>\n",
              "      <td>Western,Drama</td>\n",
              "      <td>24321</td>\n",
              "      <td>16000000</td>\n",
              "      <td>2428883</td>\n",
              "      <td>6.60000</td>\n",
              "      <td>123.30252</td>\n",
              "      <td>68</td>\n",
              "      <td>other award</td>\n",
              "      <td>R</td>\n",
              "      <td>3.00278</td>\n",
              "    </tr>\n",
              "    <tr>\n",
              "      <th>8</th>\n",
              "      <td>369857</td>\n",
              "      <td>116871.12162</td>\n",
              "      <td>2</td>\n",
              "      <td>9</td>\n",
              "      <td>lionsgate</td>\n",
              "      <td>2013</td>\n",
              "      <td>Thriller,Crime,Western</td>\n",
              "      <td>119679</td>\n",
              "      <td>45000000</td>\n",
              "      <td>12026670</td>\n",
              "      <td>6.40000</td>\n",
              "      <td>107.21283</td>\n",
              "      <td>54</td>\n",
              "      <td>other award</td>\n",
              "      <td>R</td>\n",
              "      <td>1.82222</td>\n",
              "    </tr>\n",
              "    <tr>\n",
              "      <th>9</th>\n",
              "      <td>393463</td>\n",
              "      <td>111565.59675</td>\n",
              "      <td>2</td>\n",
              "      <td>7</td>\n",
              "      <td>lionsgate</td>\n",
              "      <td>2009</td>\n",
              "      <td>Action,Adventure,Sci-Fi,Fantasy,Thriller</td>\n",
              "      <td>0</td>\n",
              "      <td>0</td>\n",
              "      <td>0</td>\n",
              "      <td>0.00000</td>\n",
              "      <td>94.74845</td>\n",
              "      <td>0</td>\n",
              "      <td>other award</td>\n",
              "      <td>R</td>\n",
              "      <td>2.07963</td>\n",
              "    </tr>\n",
              "  </tbody>\n",
              "</table>\n",
              "</div>\n",
              "      <button class=\"colab-df-convert\" onclick=\"convertToInteractive('df-b0b34747-8506-4c8f-90ca-5d4ff3c01bc8')\"\n",
              "              title=\"Convert this dataframe to an interactive table.\"\n",
              "              style=\"display:none;\">\n",
              "        \n",
              "  <svg xmlns=\"http://www.w3.org/2000/svg\" height=\"24px\"viewBox=\"0 0 24 24\"\n",
              "       width=\"24px\">\n",
              "    <path d=\"M0 0h24v24H0V0z\" fill=\"none\"/>\n",
              "    <path d=\"M18.56 5.44l.94 2.06.94-2.06 2.06-.94-2.06-.94-.94-2.06-.94 2.06-2.06.94zm-11 1L8.5 8.5l.94-2.06 2.06-.94-2.06-.94L8.5 2.5l-.94 2.06-2.06.94zm10 10l.94 2.06.94-2.06 2.06-.94-2.06-.94-.94-2.06-.94 2.06-2.06.94z\"/><path d=\"M17.41 7.96l-1.37-1.37c-.4-.4-.92-.59-1.43-.59-.52 0-1.04.2-1.43.59L10.3 9.45l-7.72 7.72c-.78.78-.78 2.05 0 2.83L4 21.41c.39.39.9.59 1.41.59.51 0 1.02-.2 1.41-.59l7.78-7.78 2.81-2.81c.8-.78.8-2.07 0-2.86zM5.41 20L4 18.59l7.72-7.72 1.47 1.35L5.41 20z\"/>\n",
              "  </svg>\n",
              "      </button>\n",
              "      \n",
              "  <style>\n",
              "    .colab-df-container {\n",
              "      display:flex;\n",
              "      flex-wrap:wrap;\n",
              "      gap: 12px;\n",
              "    }\n",
              "\n",
              "    .colab-df-convert {\n",
              "      background-color: #E8F0FE;\n",
              "      border: none;\n",
              "      border-radius: 50%;\n",
              "      cursor: pointer;\n",
              "      display: none;\n",
              "      fill: #1967D2;\n",
              "      height: 32px;\n",
              "      padding: 0 0 0 0;\n",
              "      width: 32px;\n",
              "    }\n",
              "\n",
              "    .colab-df-convert:hover {\n",
              "      background-color: #E2EBFA;\n",
              "      box-shadow: 0px 1px 2px rgba(60, 64, 67, 0.3), 0px 1px 3px 1px rgba(60, 64, 67, 0.15);\n",
              "      fill: #174EA6;\n",
              "    }\n",
              "\n",
              "    [theme=dark] .colab-df-convert {\n",
              "      background-color: #3B4455;\n",
              "      fill: #D2E3FC;\n",
              "    }\n",
              "\n",
              "    [theme=dark] .colab-df-convert:hover {\n",
              "      background-color: #434B5C;\n",
              "      box-shadow: 0px 1px 3px 1px rgba(0, 0, 0, 0.15);\n",
              "      filter: drop-shadow(0px 1px 2px rgba(0, 0, 0, 0.3));\n",
              "      fill: #FFFFFF;\n",
              "    }\n",
              "  </style>\n",
              "\n",
              "      <script>\n",
              "        const buttonEl =\n",
              "          document.querySelector('#df-b0b34747-8506-4c8f-90ca-5d4ff3c01bc8 button.colab-df-convert');\n",
              "        buttonEl.style.display =\n",
              "          google.colab.kernel.accessAllowed ? 'block' : 'none';\n",
              "\n",
              "        async function convertToInteractive(key) {\n",
              "          const element = document.querySelector('#df-b0b34747-8506-4c8f-90ca-5d4ff3c01bc8');\n",
              "          const dataTable =\n",
              "            await google.colab.kernel.invokeFunction('convertToInteractive',\n",
              "                                                     [key], {});\n",
              "          if (!dataTable) return;\n",
              "\n",
              "          const docLinkHtml = 'Like what you see? Visit the ' +\n",
              "            '<a target=\"_blank\" href=https://colab.research.google.com/notebooks/data_table.ipynb>data table notebook</a>'\n",
              "            + ' to learn more about interactive tables.';\n",
              "          element.innerHTML = '';\n",
              "          dataTable['output_type'] = 'display_data';\n",
              "          await google.colab.output.renderOutput(dataTable, element);\n",
              "          const docLink = document.createElement('div');\n",
              "          docLink.innerHTML = docLinkHtml;\n",
              "          element.appendChild(docLink);\n",
              "        }\n",
              "      </script>\n",
              "    </div>\n",
              "  </div>\n",
              "  "
            ]
          },
          "metadata": {},
          "execution_count": 4
        }
      ]
    },
    {
      "cell_type": "markdown",
      "source": [
        "# Part 1. Data Exploration"
      ],
      "metadata": {
        "id": "NDWvXOJB110e"
      }
    },
    {
      "cell_type": "markdown",
      "source": [
        "## 1.1 Overview of the Dataset"
      ],
      "metadata": {
        "id": "dncHACeh3orv"
      }
    },
    {
      "cell_type": "code",
      "source": [
        "TV_file.shape"
      ],
      "metadata": {
        "colab": {
          "base_uri": "https://localhost:8080/"
        },
        "id": "xLiFB86Qd2MB",
        "outputId": "33c12445-71eb-4650-c009-2541b8cf40c1"
      },
      "execution_count": null,
      "outputs": [
        {
          "output_type": "execute_result",
          "data": {
            "text/plain": [
              "(4226, 16)"
            ]
          },
          "metadata": {},
          "execution_count": 5
        }
      ]
    },
    {
      "cell_type": "markdown",
      "source": [
        "There are 4226 rows and 16 columns in this data file."
      ],
      "metadata": {
        "id": "OsCe26k-3zKA"
      }
    },
    {
      "cell_type": "code",
      "source": [
        "TV_file.info()"
      ],
      "metadata": {
        "colab": {
          "base_uri": "https://localhost:8080/"
        },
        "id": "r5eXLdLk4M-i",
        "outputId": "90f07efc-5d81-4e57-abd9-aa4a232bc1d5"
      },
      "execution_count": null,
      "outputs": [
        {
          "output_type": "stream",
          "name": "stdout",
          "text": [
            "<class 'pandas.core.frame.DataFrame'>\n",
            "RangeIndex: 4226 entries, 0 to 4225\n",
            "Data columns (total 16 columns):\n",
            " #   Column                         Non-Null Count  Dtype  \n",
            "---  ------                         --------------  -----  \n",
            " 0   video_id                       4226 non-null   int64  \n",
            " 1   cvt_per_day                    4226 non-null   float64\n",
            " 2   weighted_categorical_position  4226 non-null   int64  \n",
            " 3   weighted_horizontal_position   4226 non-null   int64  \n",
            " 4   import_id                      4226 non-null   object \n",
            " 5   release_year                   4226 non-null   int64  \n",
            " 6   genres                         4226 non-null   object \n",
            " 7   imdb_votes                     4226 non-null   int64  \n",
            " 8   budget                         4226 non-null   int64  \n",
            " 9   boxoffice                      4226 non-null   int64  \n",
            " 10  imdb_rating                    4226 non-null   float64\n",
            " 11  duration_in_mins               4226 non-null   float64\n",
            " 12  metacritic_score               4226 non-null   int64  \n",
            " 13  awards                         4226 non-null   object \n",
            " 14  mpaa                           4226 non-null   object \n",
            " 15  star_category                  4226 non-null   float64\n",
            "dtypes: float64(4), int64(8), object(4)\n",
            "memory usage: 528.4+ KB\n"
          ]
        }
      ]
    },
    {
      "cell_type": "markdown",
      "source": [
        "There are 8 integer variables, 4 float variables, and 4 objects. It seems that there is no Null value in this data, but we need further investigation on whether it has missing values."
      ],
      "metadata": {
        "id": "YBVn099n4fug"
      }
    },
    {
      "cell_type": "code",
      "source": [
        "TV_file.drop(columns = ['video_id']).describe(percentiles = [0.1, 0.25, 0.5, 0.75, 0.95])"
      ],
      "metadata": {
        "colab": {
          "base_uri": "https://localhost:8080/",
          "height": 427
        },
        "id": "P3kDgwuO6t4g",
        "outputId": "9a110050-5d3e-4e0b-b86e-c5188ccf9a17"
      },
      "execution_count": null,
      "outputs": [
        {
          "output_type": "execute_result",
          "data": {
            "text/plain": [
              "       cvt_per_day  weighted_categorical_position  \\\n",
              "count   4226.00000                     4226.00000   \n",
              "mean    4218.63024                        7.78254   \n",
              "std    13036.07996                        6.13418   \n",
              "min        2.18762                        1.00000   \n",
              "10%      141.98491                        3.00000   \n",
              "25%      351.16878                        4.00000   \n",
              "50%     1193.49999                        6.00000   \n",
              "75%     3356.78882                        9.00000   \n",
              "95%    14692.83393                       22.00000   \n",
              "max   307127.60561                       41.00000   \n",
              "\n",
              "       weighted_horizontal_position  release_year   imdb_votes  \\\n",
              "count                    4226.00000    4226.00000   4226.00000   \n",
              "mean                       28.10364    2001.05679   6462.92404   \n",
              "std                        11.86365      17.49685  31596.00679   \n",
              "min                         1.00000    1916.00000      0.00000   \n",
              "10%                        13.00000    1974.00000      8.00000   \n",
              "25%                        20.00000    1998.00000     81.00000   \n",
              "50%                        28.00000    2008.00000    535.00000   \n",
              "75%                        36.00000    2012.00000   3053.00000   \n",
              "95%                        48.00000    2015.00000  26199.50000   \n",
              "max                        70.00000    2017.00000 948630.00000   \n",
              "\n",
              "               budget       boxoffice  imdb_rating  duration_in_mins  \\\n",
              "count      4226.00000      4226.00000   4226.00000        4226.00000   \n",
              "mean    2150743.43942   2536338.47160      5.25710          89.55612   \n",
              "std     7176604.48302   8243516.26593      2.12281          21.08618   \n",
              "min           0.00000         0.00000      0.00000           4.03725   \n",
              "10%           0.00000         0.00000      2.30000          62.39078   \n",
              "25%           0.00000         0.00000      4.30000          82.60171   \n",
              "50%           0.00000         0.00000      5.80000          90.73031   \n",
              "75%     1500000.00000         0.00000      6.80000          99.50031   \n",
              "95%    12000000.00000   8551228.00000      7.80000         119.13118   \n",
              "max   107000000.00000 184208848.00000     10.00000         246.01677   \n",
              "\n",
              "       metacritic_score  star_category  \n",
              "count        4226.00000     4226.00000  \n",
              "mean           15.97373        0.95465  \n",
              "std            26.20522        0.95505  \n",
              "min             0.00000        0.00000  \n",
              "10%             0.00000        0.00000  \n",
              "25%             0.00000        0.00000  \n",
              "50%             0.00000        1.00000  \n",
              "75%            41.00000        1.66667  \n",
              "95%            65.00000        2.59722  \n",
              "max           100.00000        4.00000  "
            ],
            "text/html": [
              "\n",
              "  <div id=\"df-8c7e3604-ddeb-4388-a12e-dbcbe03a330b\">\n",
              "    <div class=\"colab-df-container\">\n",
              "      <div>\n",
              "<style scoped>\n",
              "    .dataframe tbody tr th:only-of-type {\n",
              "        vertical-align: middle;\n",
              "    }\n",
              "\n",
              "    .dataframe tbody tr th {\n",
              "        vertical-align: top;\n",
              "    }\n",
              "\n",
              "    .dataframe thead th {\n",
              "        text-align: right;\n",
              "    }\n",
              "</style>\n",
              "<table border=\"1\" class=\"dataframe\">\n",
              "  <thead>\n",
              "    <tr style=\"text-align: right;\">\n",
              "      <th></th>\n",
              "      <th>cvt_per_day</th>\n",
              "      <th>weighted_categorical_position</th>\n",
              "      <th>weighted_horizontal_position</th>\n",
              "      <th>release_year</th>\n",
              "      <th>imdb_votes</th>\n",
              "      <th>budget</th>\n",
              "      <th>boxoffice</th>\n",
              "      <th>imdb_rating</th>\n",
              "      <th>duration_in_mins</th>\n",
              "      <th>metacritic_score</th>\n",
              "      <th>star_category</th>\n",
              "    </tr>\n",
              "  </thead>\n",
              "  <tbody>\n",
              "    <tr>\n",
              "      <th>count</th>\n",
              "      <td>4226.00000</td>\n",
              "      <td>4226.00000</td>\n",
              "      <td>4226.00000</td>\n",
              "      <td>4226.00000</td>\n",
              "      <td>4226.00000</td>\n",
              "      <td>4226.00000</td>\n",
              "      <td>4226.00000</td>\n",
              "      <td>4226.00000</td>\n",
              "      <td>4226.00000</td>\n",
              "      <td>4226.00000</td>\n",
              "      <td>4226.00000</td>\n",
              "    </tr>\n",
              "    <tr>\n",
              "      <th>mean</th>\n",
              "      <td>4218.63024</td>\n",
              "      <td>7.78254</td>\n",
              "      <td>28.10364</td>\n",
              "      <td>2001.05679</td>\n",
              "      <td>6462.92404</td>\n",
              "      <td>2150743.43942</td>\n",
              "      <td>2536338.47160</td>\n",
              "      <td>5.25710</td>\n",
              "      <td>89.55612</td>\n",
              "      <td>15.97373</td>\n",
              "      <td>0.95465</td>\n",
              "    </tr>\n",
              "    <tr>\n",
              "      <th>std</th>\n",
              "      <td>13036.07996</td>\n",
              "      <td>6.13418</td>\n",
              "      <td>11.86365</td>\n",
              "      <td>17.49685</td>\n",
              "      <td>31596.00679</td>\n",
              "      <td>7176604.48302</td>\n",
              "      <td>8243516.26593</td>\n",
              "      <td>2.12281</td>\n",
              "      <td>21.08618</td>\n",
              "      <td>26.20522</td>\n",
              "      <td>0.95505</td>\n",
              "    </tr>\n",
              "    <tr>\n",
              "      <th>min</th>\n",
              "      <td>2.18762</td>\n",
              "      <td>1.00000</td>\n",
              "      <td>1.00000</td>\n",
              "      <td>1916.00000</td>\n",
              "      <td>0.00000</td>\n",
              "      <td>0.00000</td>\n",
              "      <td>0.00000</td>\n",
              "      <td>0.00000</td>\n",
              "      <td>4.03725</td>\n",
              "      <td>0.00000</td>\n",
              "      <td>0.00000</td>\n",
              "    </tr>\n",
              "    <tr>\n",
              "      <th>10%</th>\n",
              "      <td>141.98491</td>\n",
              "      <td>3.00000</td>\n",
              "      <td>13.00000</td>\n",
              "      <td>1974.00000</td>\n",
              "      <td>8.00000</td>\n",
              "      <td>0.00000</td>\n",
              "      <td>0.00000</td>\n",
              "      <td>2.30000</td>\n",
              "      <td>62.39078</td>\n",
              "      <td>0.00000</td>\n",
              "      <td>0.00000</td>\n",
              "    </tr>\n",
              "    <tr>\n",
              "      <th>25%</th>\n",
              "      <td>351.16878</td>\n",
              "      <td>4.00000</td>\n",
              "      <td>20.00000</td>\n",
              "      <td>1998.00000</td>\n",
              "      <td>81.00000</td>\n",
              "      <td>0.00000</td>\n",
              "      <td>0.00000</td>\n",
              "      <td>4.30000</td>\n",
              "      <td>82.60171</td>\n",
              "      <td>0.00000</td>\n",
              "      <td>0.00000</td>\n",
              "    </tr>\n",
              "    <tr>\n",
              "      <th>50%</th>\n",
              "      <td>1193.49999</td>\n",
              "      <td>6.00000</td>\n",
              "      <td>28.00000</td>\n",
              "      <td>2008.00000</td>\n",
              "      <td>535.00000</td>\n",
              "      <td>0.00000</td>\n",
              "      <td>0.00000</td>\n",
              "      <td>5.80000</td>\n",
              "      <td>90.73031</td>\n",
              "      <td>0.00000</td>\n",
              "      <td>1.00000</td>\n",
              "    </tr>\n",
              "    <tr>\n",
              "      <th>75%</th>\n",
              "      <td>3356.78882</td>\n",
              "      <td>9.00000</td>\n",
              "      <td>36.00000</td>\n",
              "      <td>2012.00000</td>\n",
              "      <td>3053.00000</td>\n",
              "      <td>1500000.00000</td>\n",
              "      <td>0.00000</td>\n",
              "      <td>6.80000</td>\n",
              "      <td>99.50031</td>\n",
              "      <td>41.00000</td>\n",
              "      <td>1.66667</td>\n",
              "    </tr>\n",
              "    <tr>\n",
              "      <th>95%</th>\n",
              "      <td>14692.83393</td>\n",
              "      <td>22.00000</td>\n",
              "      <td>48.00000</td>\n",
              "      <td>2015.00000</td>\n",
              "      <td>26199.50000</td>\n",
              "      <td>12000000.00000</td>\n",
              "      <td>8551228.00000</td>\n",
              "      <td>7.80000</td>\n",
              "      <td>119.13118</td>\n",
              "      <td>65.00000</td>\n",
              "      <td>2.59722</td>\n",
              "    </tr>\n",
              "    <tr>\n",
              "      <th>max</th>\n",
              "      <td>307127.60561</td>\n",
              "      <td>41.00000</td>\n",
              "      <td>70.00000</td>\n",
              "      <td>2017.00000</td>\n",
              "      <td>948630.00000</td>\n",
              "      <td>107000000.00000</td>\n",
              "      <td>184208848.00000</td>\n",
              "      <td>10.00000</td>\n",
              "      <td>246.01677</td>\n",
              "      <td>100.00000</td>\n",
              "      <td>4.00000</td>\n",
              "    </tr>\n",
              "  </tbody>\n",
              "</table>\n",
              "</div>\n",
              "      <button class=\"colab-df-convert\" onclick=\"convertToInteractive('df-8c7e3604-ddeb-4388-a12e-dbcbe03a330b')\"\n",
              "              title=\"Convert this dataframe to an interactive table.\"\n",
              "              style=\"display:none;\">\n",
              "        \n",
              "  <svg xmlns=\"http://www.w3.org/2000/svg\" height=\"24px\"viewBox=\"0 0 24 24\"\n",
              "       width=\"24px\">\n",
              "    <path d=\"M0 0h24v24H0V0z\" fill=\"none\"/>\n",
              "    <path d=\"M18.56 5.44l.94 2.06.94-2.06 2.06-.94-2.06-.94-.94-2.06-.94 2.06-2.06.94zm-11 1L8.5 8.5l.94-2.06 2.06-.94-2.06-.94L8.5 2.5l-.94 2.06-2.06.94zm10 10l.94 2.06.94-2.06 2.06-.94-2.06-.94-.94-2.06-.94 2.06-2.06.94z\"/><path d=\"M17.41 7.96l-1.37-1.37c-.4-.4-.92-.59-1.43-.59-.52 0-1.04.2-1.43.59L10.3 9.45l-7.72 7.72c-.78.78-.78 2.05 0 2.83L4 21.41c.39.39.9.59 1.41.59.51 0 1.02-.2 1.41-.59l7.78-7.78 2.81-2.81c.8-.78.8-2.07 0-2.86zM5.41 20L4 18.59l7.72-7.72 1.47 1.35L5.41 20z\"/>\n",
              "  </svg>\n",
              "      </button>\n",
              "      \n",
              "  <style>\n",
              "    .colab-df-container {\n",
              "      display:flex;\n",
              "      flex-wrap:wrap;\n",
              "      gap: 12px;\n",
              "    }\n",
              "\n",
              "    .colab-df-convert {\n",
              "      background-color: #E8F0FE;\n",
              "      border: none;\n",
              "      border-radius: 50%;\n",
              "      cursor: pointer;\n",
              "      display: none;\n",
              "      fill: #1967D2;\n",
              "      height: 32px;\n",
              "      padding: 0 0 0 0;\n",
              "      width: 32px;\n",
              "    }\n",
              "\n",
              "    .colab-df-convert:hover {\n",
              "      background-color: #E2EBFA;\n",
              "      box-shadow: 0px 1px 2px rgba(60, 64, 67, 0.3), 0px 1px 3px 1px rgba(60, 64, 67, 0.15);\n",
              "      fill: #174EA6;\n",
              "    }\n",
              "\n",
              "    [theme=dark] .colab-df-convert {\n",
              "      background-color: #3B4455;\n",
              "      fill: #D2E3FC;\n",
              "    }\n",
              "\n",
              "    [theme=dark] .colab-df-convert:hover {\n",
              "      background-color: #434B5C;\n",
              "      box-shadow: 0px 1px 3px 1px rgba(0, 0, 0, 0.15);\n",
              "      filter: drop-shadow(0px 1px 2px rgba(0, 0, 0, 0.3));\n",
              "      fill: #FFFFFF;\n",
              "    }\n",
              "  </style>\n",
              "\n",
              "      <script>\n",
              "        const buttonEl =\n",
              "          document.querySelector('#df-8c7e3604-ddeb-4388-a12e-dbcbe03a330b button.colab-df-convert');\n",
              "        buttonEl.style.display =\n",
              "          google.colab.kernel.accessAllowed ? 'block' : 'none';\n",
              "\n",
              "        async function convertToInteractive(key) {\n",
              "          const element = document.querySelector('#df-8c7e3604-ddeb-4388-a12e-dbcbe03a330b');\n",
              "          const dataTable =\n",
              "            await google.colab.kernel.invokeFunction('convertToInteractive',\n",
              "                                                     [key], {});\n",
              "          if (!dataTable) return;\n",
              "\n",
              "          const docLinkHtml = 'Like what you see? Visit the ' +\n",
              "            '<a target=\"_blank\" href=https://colab.research.google.com/notebooks/data_table.ipynb>data table notebook</a>'\n",
              "            + ' to learn more about interactive tables.';\n",
              "          element.innerHTML = '';\n",
              "          dataTable['output_type'] = 'display_data';\n",
              "          await google.colab.output.renderOutput(dataTable, element);\n",
              "          const docLink = document.createElement('div');\n",
              "          docLink.innerHTML = docLinkHtml;\n",
              "          element.appendChild(docLink);\n",
              "        }\n",
              "      </script>\n",
              "    </div>\n",
              "  </div>\n",
              "  "
            ]
          },
          "metadata": {},
          "execution_count": 7
        }
      ]
    },
    {
      "cell_type": "markdown",
      "source": [
        "In the percentile table above, only integer and float variables are presented; objects (or string variables) such as 'genres' are excluded. Because 'video_id' does not contain any useful information for percentile analysis, it is also excluded. Notice that 'budget', 'boxoffice', 'metacritic_score' and 'star_category' columns have lots of 0 in lower percentiles, which causes the distributions very skewed. The excessive 0 values may indicate missing values, and further investigation is needed."
      ],
      "metadata": {
        "id": "UtvJ4YIkwjwT"
      }
    },
    {
      "cell_type": "code",
      "source": [
        "# Check the unique values for each column\n",
        "TV_file.nunique()"
      ],
      "metadata": {
        "colab": {
          "base_uri": "https://localhost:8080/"
        },
        "id": "GdB4TQE236yy",
        "outputId": "c422d27e-bd6d-4092-ee7f-901357d6c80f"
      },
      "execution_count": null,
      "outputs": [
        {
          "output_type": "execute_result",
          "data": {
            "text/plain": [
              "video_id                         4226\n",
              "cvt_per_day                      4226\n",
              "weighted_categorical_position      37\n",
              "weighted_horizontal_position       68\n",
              "import_id                           4\n",
              "release_year                       97\n",
              "genres                           1165\n",
              "imdb_votes                       2282\n",
              "budget                            253\n",
              "boxoffice                         410\n",
              "imdb_rating                        85\n",
              "duration_in_mins                 4097\n",
              "metacritic_score                   90\n",
              "awards                              5\n",
              "mpaa                                6\n",
              "star_category                     630\n",
              "dtype: int64"
            ]
          },
          "metadata": {},
          "execution_count": 8
        }
      ]
    },
    {
      "cell_type": "markdown",
      "source": [
        "From the result above, we can see that both variables, video_id and cvt_per_dat, have 4226 unique values, which indicate that there are no duplicates in these two columns."
      ],
      "metadata": {
        "id": "Ls7D8tzJ5rZH"
      }
    },
    {
      "cell_type": "code",
      "source": [
        "# Double check wheather there are duplicates in video_id column\n",
        "if TV_file['video_id'].duplicated().sum() == 0:\n",
        "  print(\"There is no duplicate in 'video_id' column.\")\n",
        "if TV_file['cvt_per_day'].duplicated().sum() == 0:\n",
        "  print(\"There is no duplicate in 'cvt_per_day' column.\")"
      ],
      "metadata": {
        "colab": {
          "base_uri": "https://localhost:8080/"
        },
        "id": "ZgvVV1wC6bx6",
        "outputId": "bab8b308-db99-4b8e-c538-1a2eaa2ee113"
      },
      "execution_count": null,
      "outputs": [
        {
          "output_type": "stream",
          "name": "stdout",
          "text": [
            "There is no duplicate in 'video_id' column.\n",
            "There is no duplicate in 'cvt_per_day' column.\n"
          ]
        }
      ]
    },
    {
      "cell_type": "markdown",
      "source": [
        "Therefore, we can conclude that there are no duplicates in this dataset."
      ],
      "metadata": {
        "id": "08E9x0UR04vg"
      }
    },
    {
      "cell_type": "markdown",
      "source": [
        "## 1.2 Explore the Numerical Features"
      ],
      "metadata": {
        "id": "R2q47tj01RfV"
      }
    },
    {
      "cell_type": "markdown",
      "source": [
        "### 1.2.1 Correlation Among Numerical Features"
      ],
      "metadata": {
        "id": "Ejp_y5Fg_JkG"
      }
    },
    {
      "cell_type": "code",
      "source": [
        "# Subset of numerical features\n",
        "num_ft = TV_file[['cvt_per_day', 'weighted_categorical_position', 'weighted_horizontal_position', \n",
        "          'release_year', 'imdb_votes', 'budget', 'boxoffice', 'imdb_rating',\n",
        "          'duration_in_mins', 'metacritic_score', 'star_category']]\n",
        "\n",
        "num_ft.head(10)"
      ],
      "metadata": {
        "colab": {
          "base_uri": "https://localhost:8080/",
          "height": 236
        },
        "id": "Uy0tmmxZ3y7v",
        "outputId": "3a4a4254-49a1-4b12-b84e-543feef637ff"
      },
      "execution_count": null,
      "outputs": [
        {
          "output_type": "error",
          "ename": "NameError",
          "evalue": "ignored",
          "traceback": [
            "\u001b[0;31m---------------------------------------------------------------------------\u001b[0m",
            "\u001b[0;31mNameError\u001b[0m                                 Traceback (most recent call last)",
            "\u001b[0;32m<ipython-input-1-3706e0fe2afe>\u001b[0m in \u001b[0;36m<module>\u001b[0;34m\u001b[0m\n\u001b[1;32m      1\u001b[0m \u001b[0;31m# Subset of numerical features\u001b[0m\u001b[0;34m\u001b[0m\u001b[0;34m\u001b[0m\u001b[0;34m\u001b[0m\u001b[0m\n\u001b[0;32m----> 2\u001b[0;31m num_ft = TV_file[['cvt_per_day', 'weighted_categorical_position', 'weighted_horizontal_position', \n\u001b[0m\u001b[1;32m      3\u001b[0m           \u001b[0;34m'release_year'\u001b[0m\u001b[0;34m,\u001b[0m \u001b[0;34m'imdb_votes'\u001b[0m\u001b[0;34m,\u001b[0m \u001b[0;34m'budget'\u001b[0m\u001b[0;34m,\u001b[0m \u001b[0;34m'boxoffice'\u001b[0m\u001b[0;34m,\u001b[0m \u001b[0;34m'imdb_rating'\u001b[0m\u001b[0;34m,\u001b[0m\u001b[0;34m\u001b[0m\u001b[0;34m\u001b[0m\u001b[0m\n\u001b[1;32m      4\u001b[0m           'duration_in_mins', 'metacritic_score', 'star_category']]\n\u001b[1;32m      5\u001b[0m \u001b[0;34m\u001b[0m\u001b[0m\n",
            "\u001b[0;31mNameError\u001b[0m: name 'TV_file' is not defined"
          ]
        }
      ]
    },
    {
      "cell_type": "code",
      "source": [
        "corr = num_ft.corr()\n",
        "# Check the correlation matrix\n",
        "corr"
      ],
      "metadata": {
        "colab": {
          "base_uri": "https://localhost:8080/",
          "height": 458
        },
        "id": "_-EPTnFJ6k3L",
        "outputId": "c4b0f097-3335-46e7-9140-2a8bf0103d28"
      },
      "execution_count": null,
      "outputs": [
        {
          "output_type": "execute_result",
          "data": {
            "text/plain": [
              "                               cvt_per_day  weighted_categorical_position  \\\n",
              "cvt_per_day                        1.00000                       -0.14800   \n",
              "weighted_categorical_position     -0.14800                        1.00000   \n",
              "weighted_horizontal_position      -0.30166                       -0.08407   \n",
              "release_year                       0.04586                       -0.06890   \n",
              "imdb_votes                         0.29770                       -0.06370   \n",
              "budget                             0.31589                       -0.08990   \n",
              "boxoffice                          0.31221                       -0.07363   \n",
              "imdb_rating                        0.05889                       -0.11644   \n",
              "duration_in_mins                   0.15222                       -0.17446   \n",
              "metacritic_score                   0.24916                       -0.04432   \n",
              "star_category                      0.24696                       -0.12285   \n",
              "\n",
              "                               weighted_horizontal_position  release_year  \\\n",
              "cvt_per_day                                        -0.30166       0.04586   \n",
              "weighted_categorical_position                      -0.08407      -0.06890   \n",
              "weighted_horizontal_position                        1.00000       0.02663   \n",
              "release_year                                        0.02663       1.00000   \n",
              "imdb_votes                                         -0.22075      -0.08266   \n",
              "budget                                             -0.21136      -0.04012   \n",
              "boxoffice                                          -0.24471      -0.12809   \n",
              "imdb_rating                                        -0.16202      -0.19886   \n",
              "duration_in_mins                                   -0.10234      -0.09681   \n",
              "metacritic_score                                   -0.25502      -0.16704   \n",
              "star_category                                      -0.16780      -0.19845   \n",
              "\n",
              "                               imdb_votes   budget  boxoffice  imdb_rating  \\\n",
              "cvt_per_day                       0.29770  0.31589    0.31221      0.05889   \n",
              "weighted_categorical_position    -0.06370 -0.08990   -0.07363     -0.11644   \n",
              "weighted_horizontal_position     -0.22075 -0.21136   -0.24471     -0.16202   \n",
              "release_year                     -0.08266 -0.04012   -0.12809     -0.19886   \n",
              "imdb_votes                        1.00000  0.27285    0.53147      0.16326   \n",
              "budget                            0.27285  1.00000    0.50462      0.10567   \n",
              "boxoffice                         0.53147  0.50462    1.00000      0.16367   \n",
              "imdb_rating                       0.16326  0.10567    0.16367      1.00000   \n",
              "duration_in_mins                  0.15567  0.25134    0.22618      0.34405   \n",
              "metacritic_score                  0.32186  0.31461    0.46496      0.34693   \n",
              "star_category                     0.22519  0.32172    0.32233      0.19177   \n",
              "\n",
              "                               duration_in_mins  metacritic_score  \\\n",
              "cvt_per_day                             0.15222           0.24916   \n",
              "weighted_categorical_position          -0.17446          -0.04432   \n",
              "weighted_horizontal_position           -0.10234          -0.25502   \n",
              "release_year                           -0.09681          -0.16704   \n",
              "imdb_votes                              0.15567           0.32186   \n",
              "budget                                  0.25134           0.31461   \n",
              "boxoffice                               0.22618           0.46496   \n",
              "imdb_rating                             0.34405           0.34693   \n",
              "duration_in_mins                        1.00000           0.32705   \n",
              "metacritic_score                        0.32705           1.00000   \n",
              "star_category                           0.30911           0.45245   \n",
              "\n",
              "                               star_category  \n",
              "cvt_per_day                          0.24696  \n",
              "weighted_categorical_position       -0.12285  \n",
              "weighted_horizontal_position        -0.16780  \n",
              "release_year                        -0.19845  \n",
              "imdb_votes                           0.22519  \n",
              "budget                               0.32172  \n",
              "boxoffice                            0.32233  \n",
              "imdb_rating                          0.19177  \n",
              "duration_in_mins                     0.30911  \n",
              "metacritic_score                     0.45245  \n",
              "star_category                        1.00000  "
            ],
            "text/html": [
              "\n",
              "  <div id=\"df-a7407910-863d-4190-a7ae-f797617171d6\">\n",
              "    <div class=\"colab-df-container\">\n",
              "      <div>\n",
              "<style scoped>\n",
              "    .dataframe tbody tr th:only-of-type {\n",
              "        vertical-align: middle;\n",
              "    }\n",
              "\n",
              "    .dataframe tbody tr th {\n",
              "        vertical-align: top;\n",
              "    }\n",
              "\n",
              "    .dataframe thead th {\n",
              "        text-align: right;\n",
              "    }\n",
              "</style>\n",
              "<table border=\"1\" class=\"dataframe\">\n",
              "  <thead>\n",
              "    <tr style=\"text-align: right;\">\n",
              "      <th></th>\n",
              "      <th>cvt_per_day</th>\n",
              "      <th>weighted_categorical_position</th>\n",
              "      <th>weighted_horizontal_position</th>\n",
              "      <th>release_year</th>\n",
              "      <th>imdb_votes</th>\n",
              "      <th>budget</th>\n",
              "      <th>boxoffice</th>\n",
              "      <th>imdb_rating</th>\n",
              "      <th>duration_in_mins</th>\n",
              "      <th>metacritic_score</th>\n",
              "      <th>star_category</th>\n",
              "    </tr>\n",
              "  </thead>\n",
              "  <tbody>\n",
              "    <tr>\n",
              "      <th>cvt_per_day</th>\n",
              "      <td>1.00000</td>\n",
              "      <td>-0.14800</td>\n",
              "      <td>-0.30166</td>\n",
              "      <td>0.04586</td>\n",
              "      <td>0.29770</td>\n",
              "      <td>0.31589</td>\n",
              "      <td>0.31221</td>\n",
              "      <td>0.05889</td>\n",
              "      <td>0.15222</td>\n",
              "      <td>0.24916</td>\n",
              "      <td>0.24696</td>\n",
              "    </tr>\n",
              "    <tr>\n",
              "      <th>weighted_categorical_position</th>\n",
              "      <td>-0.14800</td>\n",
              "      <td>1.00000</td>\n",
              "      <td>-0.08407</td>\n",
              "      <td>-0.06890</td>\n",
              "      <td>-0.06370</td>\n",
              "      <td>-0.08990</td>\n",
              "      <td>-0.07363</td>\n",
              "      <td>-0.11644</td>\n",
              "      <td>-0.17446</td>\n",
              "      <td>-0.04432</td>\n",
              "      <td>-0.12285</td>\n",
              "    </tr>\n",
              "    <tr>\n",
              "      <th>weighted_horizontal_position</th>\n",
              "      <td>-0.30166</td>\n",
              "      <td>-0.08407</td>\n",
              "      <td>1.00000</td>\n",
              "      <td>0.02663</td>\n",
              "      <td>-0.22075</td>\n",
              "      <td>-0.21136</td>\n",
              "      <td>-0.24471</td>\n",
              "      <td>-0.16202</td>\n",
              "      <td>-0.10234</td>\n",
              "      <td>-0.25502</td>\n",
              "      <td>-0.16780</td>\n",
              "    </tr>\n",
              "    <tr>\n",
              "      <th>release_year</th>\n",
              "      <td>0.04586</td>\n",
              "      <td>-0.06890</td>\n",
              "      <td>0.02663</td>\n",
              "      <td>1.00000</td>\n",
              "      <td>-0.08266</td>\n",
              "      <td>-0.04012</td>\n",
              "      <td>-0.12809</td>\n",
              "      <td>-0.19886</td>\n",
              "      <td>-0.09681</td>\n",
              "      <td>-0.16704</td>\n",
              "      <td>-0.19845</td>\n",
              "    </tr>\n",
              "    <tr>\n",
              "      <th>imdb_votes</th>\n",
              "      <td>0.29770</td>\n",
              "      <td>-0.06370</td>\n",
              "      <td>-0.22075</td>\n",
              "      <td>-0.08266</td>\n",
              "      <td>1.00000</td>\n",
              "      <td>0.27285</td>\n",
              "      <td>0.53147</td>\n",
              "      <td>0.16326</td>\n",
              "      <td>0.15567</td>\n",
              "      <td>0.32186</td>\n",
              "      <td>0.22519</td>\n",
              "    </tr>\n",
              "    <tr>\n",
              "      <th>budget</th>\n",
              "      <td>0.31589</td>\n",
              "      <td>-0.08990</td>\n",
              "      <td>-0.21136</td>\n",
              "      <td>-0.04012</td>\n",
              "      <td>0.27285</td>\n",
              "      <td>1.00000</td>\n",
              "      <td>0.50462</td>\n",
              "      <td>0.10567</td>\n",
              "      <td>0.25134</td>\n",
              "      <td>0.31461</td>\n",
              "      <td>0.32172</td>\n",
              "    </tr>\n",
              "    <tr>\n",
              "      <th>boxoffice</th>\n",
              "      <td>0.31221</td>\n",
              "      <td>-0.07363</td>\n",
              "      <td>-0.24471</td>\n",
              "      <td>-0.12809</td>\n",
              "      <td>0.53147</td>\n",
              "      <td>0.50462</td>\n",
              "      <td>1.00000</td>\n",
              "      <td>0.16367</td>\n",
              "      <td>0.22618</td>\n",
              "      <td>0.46496</td>\n",
              "      <td>0.32233</td>\n",
              "    </tr>\n",
              "    <tr>\n",
              "      <th>imdb_rating</th>\n",
              "      <td>0.05889</td>\n",
              "      <td>-0.11644</td>\n",
              "      <td>-0.16202</td>\n",
              "      <td>-0.19886</td>\n",
              "      <td>0.16326</td>\n",
              "      <td>0.10567</td>\n",
              "      <td>0.16367</td>\n",
              "      <td>1.00000</td>\n",
              "      <td>0.34405</td>\n",
              "      <td>0.34693</td>\n",
              "      <td>0.19177</td>\n",
              "    </tr>\n",
              "    <tr>\n",
              "      <th>duration_in_mins</th>\n",
              "      <td>0.15222</td>\n",
              "      <td>-0.17446</td>\n",
              "      <td>-0.10234</td>\n",
              "      <td>-0.09681</td>\n",
              "      <td>0.15567</td>\n",
              "      <td>0.25134</td>\n",
              "      <td>0.22618</td>\n",
              "      <td>0.34405</td>\n",
              "      <td>1.00000</td>\n",
              "      <td>0.32705</td>\n",
              "      <td>0.30911</td>\n",
              "    </tr>\n",
              "    <tr>\n",
              "      <th>metacritic_score</th>\n",
              "      <td>0.24916</td>\n",
              "      <td>-0.04432</td>\n",
              "      <td>-0.25502</td>\n",
              "      <td>-0.16704</td>\n",
              "      <td>0.32186</td>\n",
              "      <td>0.31461</td>\n",
              "      <td>0.46496</td>\n",
              "      <td>0.34693</td>\n",
              "      <td>0.32705</td>\n",
              "      <td>1.00000</td>\n",
              "      <td>0.45245</td>\n",
              "    </tr>\n",
              "    <tr>\n",
              "      <th>star_category</th>\n",
              "      <td>0.24696</td>\n",
              "      <td>-0.12285</td>\n",
              "      <td>-0.16780</td>\n",
              "      <td>-0.19845</td>\n",
              "      <td>0.22519</td>\n",
              "      <td>0.32172</td>\n",
              "      <td>0.32233</td>\n",
              "      <td>0.19177</td>\n",
              "      <td>0.30911</td>\n",
              "      <td>0.45245</td>\n",
              "      <td>1.00000</td>\n",
              "    </tr>\n",
              "  </tbody>\n",
              "</table>\n",
              "</div>\n",
              "      <button class=\"colab-df-convert\" onclick=\"convertToInteractive('df-a7407910-863d-4190-a7ae-f797617171d6')\"\n",
              "              title=\"Convert this dataframe to an interactive table.\"\n",
              "              style=\"display:none;\">\n",
              "        \n",
              "  <svg xmlns=\"http://www.w3.org/2000/svg\" height=\"24px\"viewBox=\"0 0 24 24\"\n",
              "       width=\"24px\">\n",
              "    <path d=\"M0 0h24v24H0V0z\" fill=\"none\"/>\n",
              "    <path d=\"M18.56 5.44l.94 2.06.94-2.06 2.06-.94-2.06-.94-.94-2.06-.94 2.06-2.06.94zm-11 1L8.5 8.5l.94-2.06 2.06-.94-2.06-.94L8.5 2.5l-.94 2.06-2.06.94zm10 10l.94 2.06.94-2.06 2.06-.94-2.06-.94-.94-2.06-.94 2.06-2.06.94z\"/><path d=\"M17.41 7.96l-1.37-1.37c-.4-.4-.92-.59-1.43-.59-.52 0-1.04.2-1.43.59L10.3 9.45l-7.72 7.72c-.78.78-.78 2.05 0 2.83L4 21.41c.39.39.9.59 1.41.59.51 0 1.02-.2 1.41-.59l7.78-7.78 2.81-2.81c.8-.78.8-2.07 0-2.86zM5.41 20L4 18.59l7.72-7.72 1.47 1.35L5.41 20z\"/>\n",
              "  </svg>\n",
              "      </button>\n",
              "      \n",
              "  <style>\n",
              "    .colab-df-container {\n",
              "      display:flex;\n",
              "      flex-wrap:wrap;\n",
              "      gap: 12px;\n",
              "    }\n",
              "\n",
              "    .colab-df-convert {\n",
              "      background-color: #E8F0FE;\n",
              "      border: none;\n",
              "      border-radius: 50%;\n",
              "      cursor: pointer;\n",
              "      display: none;\n",
              "      fill: #1967D2;\n",
              "      height: 32px;\n",
              "      padding: 0 0 0 0;\n",
              "      width: 32px;\n",
              "    }\n",
              "\n",
              "    .colab-df-convert:hover {\n",
              "      background-color: #E2EBFA;\n",
              "      box-shadow: 0px 1px 2px rgba(60, 64, 67, 0.3), 0px 1px 3px 1px rgba(60, 64, 67, 0.15);\n",
              "      fill: #174EA6;\n",
              "    }\n",
              "\n",
              "    [theme=dark] .colab-df-convert {\n",
              "      background-color: #3B4455;\n",
              "      fill: #D2E3FC;\n",
              "    }\n",
              "\n",
              "    [theme=dark] .colab-df-convert:hover {\n",
              "      background-color: #434B5C;\n",
              "      box-shadow: 0px 1px 3px 1px rgba(0, 0, 0, 0.15);\n",
              "      filter: drop-shadow(0px 1px 2px rgba(0, 0, 0, 0.3));\n",
              "      fill: #FFFFFF;\n",
              "    }\n",
              "  </style>\n",
              "\n",
              "      <script>\n",
              "        const buttonEl =\n",
              "          document.querySelector('#df-a7407910-863d-4190-a7ae-f797617171d6 button.colab-df-convert');\n",
              "        buttonEl.style.display =\n",
              "          google.colab.kernel.accessAllowed ? 'block' : 'none';\n",
              "\n",
              "        async function convertToInteractive(key) {\n",
              "          const element = document.querySelector('#df-a7407910-863d-4190-a7ae-f797617171d6');\n",
              "          const dataTable =\n",
              "            await google.colab.kernel.invokeFunction('convertToInteractive',\n",
              "                                                     [key], {});\n",
              "          if (!dataTable) return;\n",
              "\n",
              "          const docLinkHtml = 'Like what you see? Visit the ' +\n",
              "            '<a target=\"_blank\" href=https://colab.research.google.com/notebooks/data_table.ipynb>data table notebook</a>'\n",
              "            + ' to learn more about interactive tables.';\n",
              "          element.innerHTML = '';\n",
              "          dataTable['output_type'] = 'display_data';\n",
              "          await google.colab.output.renderOutput(dataTable, element);\n",
              "          const docLink = document.createElement('div');\n",
              "          docLink.innerHTML = docLinkHtml;\n",
              "          element.appendChild(docLink);\n",
              "        }\n",
              "      </script>\n",
              "    </div>\n",
              "  </div>\n",
              "  "
            ]
          },
          "metadata": {},
          "execution_count": 11
        }
      ]
    },
    {
      "cell_type": "code",
      "source": [
        "sns.heatmap(corr, cmap = 'Blues', annot = True, annot_kws = {\"size\": 6}, linewidths=.3)"
      ],
      "metadata": {
        "colab": {
          "base_uri": "https://localhost:8080/",
          "height": 429
        },
        "id": "WPm13H1u9__T",
        "outputId": "3367de3b-fcd8-4167-9fed-d5bb32447925"
      },
      "execution_count": null,
      "outputs": [
        {
          "output_type": "execute_result",
          "data": {
            "text/plain": [
              "<matplotlib.axes._subplots.AxesSubplot at 0x7fb829b92bd0>"
            ]
          },
          "metadata": {},
          "execution_count": 12
        },
        {
          "output_type": "display_data",
          "data": {
            "text/plain": [
              "<Figure size 432x288 with 2 Axes>"
            ],
            "image/png": "[encoded data removed]"
          },
          "metadata": {
            "needs_background": "light"
          }
        }
      ]
    },
    {
      "cell_type": "markdown",
      "source": [
        "The matrix of correlation and heatmap above do not present any high correlaiton between variables as the absolute correlation values are smaller than 0.80, which indicate that there are no highly correlated relationship among these numerical variables. "
      ],
      "metadata": {
        "id": "fmZMS_9-JIg9"
      }
    },
    {
      "cell_type": "markdown",
      "source": [
        "### 1.2.2 Graphs of Important Numerical Features "
      ],
      "metadata": {
        "id": "X8GdtV9e_Rn_"
      }
    },
    {
      "cell_type": "code",
      "source": [
        "# cvt_per_day\n",
        "plt.hist(TV_file['cvt_per_day'], bins = range(0, 16000, 30), color = 'skyblue', label = 'cvt_per_day', density = True)\n",
        "plt.title('Histograms of cvt_per_day')\n",
        "plt.legend(loc = 'upper right')\n",
        "plt.xlabel('cvt_per_day')\n",
        "plt.ylabel('density')\n",
        "plt.show()"
      ],
      "metadata": {
        "colab": {
          "base_uri": "https://localhost:8080/",
          "height": 296
        },
        "id": "PGk6VXdz_kLR",
        "outputId": "cf0d14d0-39cf-44d2-8d7f-61ea3ce47e73"
      },
      "execution_count": null,
      "outputs": [
        {
          "output_type": "display_data",
          "data": {
            "text/plain": [
              "<Figure size 432x288 with 1 Axes>"
            ],
            "image/png": "[encoded data removed]"
          },
          "metadata": {
            "needs_background": "light"
          }
        }
      ]
    },
    {
      "cell_type": "markdown",
      "source": [
        "The left-skewed density of 'cvt_per_day' shows that most of the data points are under 2000"
      ],
      "metadata": {
        "id": "5WVh7kZzJF6y"
      }
    },
    {
      "cell_type": "code",
      "source": [
        "plt.hist(num_ft['release_year'].values, bins = range(1910, 2017, 1), color='skyblue', label = 'release_year')\n",
        "plt.legend(loc ='upper left')\n",
        "plt.title('Historgrams of release_year')\n",
        "plt.xlabel('release_year')\n",
        "plt.ylabel('Count')\n",
        "plt.show()\n"
      ],
      "metadata": {
        "colab": {
          "base_uri": "https://localhost:8080/",
          "height": 296
        },
        "id": "quePiY9Terbi",
        "outputId": "f2d99b20-4eeb-4b16-bf6a-7a163319e216"
      },
      "execution_count": null,
      "outputs": [
        {
          "output_type": "display_data",
          "data": {
            "text/plain": [
              "<Figure size 432x288 with 1 Axes>"
            ],
            "image/png": "[encoded data removed]"
          },
          "metadata": {
            "needs_background": "light"
          }
        }
      ]
    },
    {
      "cell_type": "markdown",
      "source": [
        "The histogram of 'release_year' is right-skewed, which is expected because the production of movies explodes based on the advantages of modern technologies. However, since the popularity of a video will decrease over time, the 'release_year' can be bucketed based on the 'release_year' range."
      ],
      "metadata": {
        "id": "utudtvcmgDYc"
      }
    },
    {
      "cell_type": "markdown",
      "source": [
        "### 1.2.3 Explore Suspicious 0 Values"
      ],
      "metadata": {
        "id": "0JjbLkoIe83H"
      }
    },
    {
      "cell_type": "code",
      "source": [
        "print(\"=== Counts of 0 Value in Each Column ===\")\n",
        "print((TV_file == 0).sum(axis = 0))\n",
        "print(\" \")\n",
        "print(\"=== Percentages of 0 Value in Each Column ===\")\n",
        "print((TV_file == 0).sum(axis = 0)/TV_file.shape[0]*100)"
      ],
      "metadata": {
        "colab": {
          "base_uri": "https://localhost:8080/"
        },
        "id": "dRwj3TZ0EXaB",
        "outputId": "04d843dd-5595-44de-90cf-89bc4cfdebd2"
      },
      "execution_count": null,
      "outputs": [
        {
          "output_type": "stream",
          "name": "stdout",
          "text": [
            "=== Counts of 0 Value in Each Column ===\n",
            "video_id                            0\n",
            "cvt_per_day                         0\n",
            "weighted_categorical_position       0\n",
            "weighted_horizontal_position        0\n",
            "import_id                           0\n",
            "release_year                        0\n",
            "genres                              0\n",
            "imdb_votes                        344\n",
            "budget                           2454\n",
            "boxoffice                        3194\n",
            "imdb_rating                       344\n",
            "duration_in_mins                    0\n",
            "metacritic_score                 3012\n",
            "awards                              0\n",
            "mpaa                                0\n",
            "star_category                    1846\n",
            "dtype: int64\n",
            " \n",
            "=== Percentages of 0 Value in Each Column ===\n",
            "video_id                         0.00000\n",
            "cvt_per_day                      0.00000\n",
            "weighted_categorical_position    0.00000\n",
            "weighted_horizontal_position     0.00000\n",
            "import_id                        0.00000\n",
            "release_year                     0.00000\n",
            "genres                           0.00000\n",
            "imdb_votes                       8.14009\n",
            "budget                          58.06910\n",
            "boxoffice                       75.57974\n",
            "imdb_rating                      8.14009\n",
            "duration_in_mins                 0.00000\n",
            "metacritic_score                71.27307\n",
            "awards                           0.00000\n",
            "mpaa                             0.00000\n",
            "star_category                   43.68197\n",
            "dtype: float64\n"
          ]
        }
      ]
    },
    {
      "cell_type": "markdown",
      "source": [
        "The two tables above present that 6 variables have 0 values, and 3 of these columns have more than 50% of 0 values. Also, 'boxoffice' and 'metacritic_socre' columns may have possible excessive 0 values as the percentages are greater than 70%."
      ],
      "metadata": {
        "id": "BBwuPN5fJEMx"
      }
    },
    {
      "cell_type": "markdown",
      "source": [
        "## 1.3 Explore the Categorical Variables"
      ],
      "metadata": {
        "id": "38rm7Ql6MSaD"
      }
    },
    {
      "cell_type": "code",
      "source": [
        "# Subset of categorical variables\n",
        "cat_ft = TV_file[['cvt_per_day', 'import_id', 'genres', 'awards', 'mpaa']]\n",
        "\n",
        "cat_ft.head(10)"
      ],
      "metadata": {
        "colab": {
          "base_uri": "https://localhost:8080/",
          "height": 583
        },
        "id": "owKbiB9_Q5-0",
        "outputId": "8fce96d4-cd74-4bb1-aef6-27341200ef65"
      },
      "execution_count": null,
      "outputs": [
        {
          "output_type": "execute_result",
          "data": {
            "text/plain": [
              "   cvt_per_day  import_id                                         genres  \\\n",
              "0 307127.60561  lionsgate                          Action,Thriller,Drama   \n",
              "1 270338.42637  lionsgate                          Comedy,Crime,Thriller   \n",
              "2 256165.86745      other                                    Crime,Drama   \n",
              "3 196622.72100  lionsgate  Thriller,Drama,War,Documentary,Mystery,Action   \n",
              "4 159841.65206  lionsgate             Crime,Thriller,Mystery,Documentary   \n",
              "5 135076.60975        mgm                                         Comedy   \n",
              "6 134155.74020  lionsgate                      Action,Adventure,Thriller   \n",
              "7 116906.00792  lionsgate                                  Western,Drama   \n",
              "8 116871.12162  lionsgate                         Thriller,Crime,Western   \n",
              "9 111565.59675  lionsgate       Action,Adventure,Sci-Fi,Fantasy,Thriller   \n",
              "\n",
              "        awards   mpaa  \n",
              "0  other award  PG-13  \n",
              "1     no award      R  \n",
              "2  other award      R  \n",
              "3        Oscar      R  \n",
              "4  other award      R  \n",
              "5     no award  PG-13  \n",
              "6  other award      R  \n",
              "7  other award      R  \n",
              "8  other award      R  \n",
              "9  other award      R  "
            ],
            "text/html": [
              "\n",
              "  <div id=\"df-e02f503f-30b8-4390-b50b-d944cf6b11bf\">\n",
              "    <div class=\"colab-df-container\">\n",
              "      <div>\n",
              "<style scoped>\n",
              "    .dataframe tbody tr th:only-of-type {\n",
              "        vertical-align: middle;\n",
              "    }\n",
              "\n",
              "    .dataframe tbody tr th {\n",
              "        vertical-align: top;\n",
              "    }\n",
              "\n",
              "    .dataframe thead th {\n",
              "        text-align: right;\n",
              "    }\n",
              "</style>\n",
              "<table border=\"1\" class=\"dataframe\">\n",
              "  <thead>\n",
              "    <tr style=\"text-align: right;\">\n",
              "      <th></th>\n",
              "      <th>cvt_per_day</th>\n",
              "      <th>import_id</th>\n",
              "      <th>genres</th>\n",
              "      <th>awards</th>\n",
              "      <th>mpaa</th>\n",
              "    </tr>\n",
              "  </thead>\n",
              "  <tbody>\n",
              "    <tr>\n",
              "      <th>0</th>\n",
              "      <td>307127.60561</td>\n",
              "      <td>lionsgate</td>\n",
              "      <td>Action,Thriller,Drama</td>\n",
              "      <td>other award</td>\n",
              "      <td>PG-13</td>\n",
              "    </tr>\n",
              "    <tr>\n",
              "      <th>1</th>\n",
              "      <td>270338.42637</td>\n",
              "      <td>lionsgate</td>\n",
              "      <td>Comedy,Crime,Thriller</td>\n",
              "      <td>no award</td>\n",
              "      <td>R</td>\n",
              "    </tr>\n",
              "    <tr>\n",
              "      <th>2</th>\n",
              "      <td>256165.86745</td>\n",
              "      <td>other</td>\n",
              "      <td>Crime,Drama</td>\n",
              "      <td>other award</td>\n",
              "      <td>R</td>\n",
              "    </tr>\n",
              "    <tr>\n",
              "      <th>3</th>\n",
              "      <td>196622.72100</td>\n",
              "      <td>lionsgate</td>\n",
              "      <td>Thriller,Drama,War,Documentary,Mystery,Action</td>\n",
              "      <td>Oscar</td>\n",
              "      <td>R</td>\n",
              "    </tr>\n",
              "    <tr>\n",
              "      <th>4</th>\n",
              "      <td>159841.65206</td>\n",
              "      <td>lionsgate</td>\n",
              "      <td>Crime,Thriller,Mystery,Documentary</td>\n",
              "      <td>other award</td>\n",
              "      <td>R</td>\n",
              "    </tr>\n",
              "    <tr>\n",
              "      <th>5</th>\n",
              "      <td>135076.60975</td>\n",
              "      <td>mgm</td>\n",
              "      <td>Comedy</td>\n",
              "      <td>no award</td>\n",
              "      <td>PG-13</td>\n",
              "    </tr>\n",
              "    <tr>\n",
              "      <th>6</th>\n",
              "      <td>134155.74020</td>\n",
              "      <td>lionsgate</td>\n",
              "      <td>Action,Adventure,Thriller</td>\n",
              "      <td>other award</td>\n",
              "      <td>R</td>\n",
              "    </tr>\n",
              "    <tr>\n",
              "      <th>7</th>\n",
              "      <td>116906.00792</td>\n",
              "      <td>lionsgate</td>\n",
              "      <td>Western,Drama</td>\n",
              "      <td>other award</td>\n",
              "      <td>R</td>\n",
              "    </tr>\n",
              "    <tr>\n",
              "      <th>8</th>\n",
              "      <td>116871.12162</td>\n",
              "      <td>lionsgate</td>\n",
              "      <td>Thriller,Crime,Western</td>\n",
              "      <td>other award</td>\n",
              "      <td>R</td>\n",
              "    </tr>\n",
              "    <tr>\n",
              "      <th>9</th>\n",
              "      <td>111565.59675</td>\n",
              "      <td>lionsgate</td>\n",
              "      <td>Action,Adventure,Sci-Fi,Fantasy,Thriller</td>\n",
              "      <td>other award</td>\n",
              "      <td>R</td>\n",
              "    </tr>\n",
              "  </tbody>\n",
              "</table>\n",
              "</div>\n",
              "      <button class=\"colab-df-convert\" onclick=\"convertToInteractive('df-e02f503f-30b8-4390-b50b-d944cf6b11bf')\"\n",
              "              title=\"Convert this dataframe to an interactive table.\"\n",
              "              style=\"display:none;\">\n",
              "        \n",
              "  <svg xmlns=\"http://www.w3.org/2000/svg\" height=\"24px\"viewBox=\"0 0 24 24\"\n",
              "       width=\"24px\">\n",
              "    <path d=\"M0 0h24v24H0V0z\" fill=\"none\"/>\n",
              "    <path d=\"M18.56 5.44l.94 2.06.94-2.06 2.06-.94-2.06-.94-.94-2.06-.94 2.06-2.06.94zm-11 1L8.5 8.5l.94-2.06 2.06-.94-2.06-.94L8.5 2.5l-.94 2.06-2.06.94zm10 10l.94 2.06.94-2.06 2.06-.94-2.06-.94-.94-2.06-.94 2.06-2.06.94z\"/><path d=\"M17.41 7.96l-1.37-1.37c-.4-.4-.92-.59-1.43-.59-.52 0-1.04.2-1.43.59L10.3 9.45l-7.72 7.72c-.78.78-.78 2.05 0 2.83L4 21.41c.39.39.9.59 1.41.59.51 0 1.02-.2 1.41-.59l7.78-7.78 2.81-2.81c.8-.78.8-2.07 0-2.86zM5.41 20L4 18.59l7.72-7.72 1.47 1.35L5.41 20z\"/>\n",
              "  </svg>\n",
              "      </button>\n",
              "      \n",
              "  <style>\n",
              "    .colab-df-container {\n",
              "      display:flex;\n",
              "      flex-wrap:wrap;\n",
              "      gap: 12px;\n",
              "    }\n",
              "\n",
              "    .colab-df-convert {\n",
              "      background-color: #E8F0FE;\n",
              "      border: none;\n",
              "      border-radius: 50%;\n",
              "      cursor: pointer;\n",
              "      display: none;\n",
              "      fill: #1967D2;\n",
              "      height: 32px;\n",
              "      padding: 0 0 0 0;\n",
              "      width: 32px;\n",
              "    }\n",
              "\n",
              "    .colab-df-convert:hover {\n",
              "      background-color: #E2EBFA;\n",
              "      box-shadow: 0px 1px 2px rgba(60, 64, 67, 0.3), 0px 1px 3px 1px rgba(60, 64, 67, 0.15);\n",
              "      fill: #174EA6;\n",
              "    }\n",
              "\n",
              "    [theme=dark] .colab-df-convert {\n",
              "      background-color: #3B4455;\n",
              "      fill: #D2E3FC;\n",
              "    }\n",
              "\n",
              "    [theme=dark] .colab-df-convert:hover {\n",
              "      background-color: #434B5C;\n",
              "      box-shadow: 0px 1px 3px 1px rgba(0, 0, 0, 0.15);\n",
              "      filter: drop-shadow(0px 1px 2px rgba(0, 0, 0, 0.3));\n",
              "      fill: #FFFFFF;\n",
              "    }\n",
              "  </style>\n",
              "\n",
              "      <script>\n",
              "        const buttonEl =\n",
              "          document.querySelector('#df-e02f503f-30b8-4390-b50b-d944cf6b11bf button.colab-df-convert');\n",
              "        buttonEl.style.display =\n",
              "          google.colab.kernel.accessAllowed ? 'block' : 'none';\n",
              "\n",
              "        async function convertToInteractive(key) {\n",
              "          const element = document.querySelector('#df-e02f503f-30b8-4390-b50b-d944cf6b11bf');\n",
              "          const dataTable =\n",
              "            await google.colab.kernel.invokeFunction('convertToInteractive',\n",
              "                                                     [key], {});\n",
              "          if (!dataTable) return;\n",
              "\n",
              "          const docLinkHtml = 'Like what you see? Visit the ' +\n",
              "            '<a target=\"_blank\" href=https://colab.research.google.com/notebooks/data_table.ipynb>data table notebook</a>'\n",
              "            + ' to learn more about interactive tables.';\n",
              "          element.innerHTML = '';\n",
              "          dataTable['output_type'] = 'display_data';\n",
              "          await google.colab.output.renderOutput(dataTable, element);\n",
              "          const docLink = document.createElement('div');\n",
              "          docLink.innerHTML = docLinkHtml;\n",
              "          element.appendChild(docLink);\n",
              "        }\n",
              "      </script>\n",
              "    </div>\n",
              "  </div>\n",
              "  "
            ]
          },
          "metadata": {},
          "execution_count": 16
        }
      ]
    },
    {
      "cell_type": "markdown",
      "source": [
        "The subset of data shown above presents that one data point has only one sub-type in 'import_id', 'awards', and 'mpaa' categorical variables, but it can have muptiple sub-types in 'genres'. For example, a movie can be not rated or can be rated by MAPP (the Motion Picture Association of America) as only one of the following: G, PG, PG-13, R, or NC-17. But it can have multiple sub-types (or, tags) as it can be both Drama and Action. Therefore, we can check the 'import_id', 'awards', and 'mpaa' variables first."
      ],
      "metadata": {
        "id": "dzmFKy4QWD-N"
      }
    },
    {
      "cell_type": "code",
      "source": [
        "# Check for import_id\n",
        "sns.stripplot(x = 'import_id', y = 'cvt_per_day', data = cat_ft, jitter = True)\n",
        "plt.title(\"Strip Plot of import_id\")\n",
        "plt.show()\n",
        "\n",
        "print(\" \")\n",
        "\n",
        "sns.violinplot(x = 'import_id', y = 'cvt_per_day', data = cat_ft)\n",
        "plt.title(\"Violin Plot of import_id\")\n",
        "plt.show()\n",
        "\n",
        "print('=================================')\n",
        "print('Counts of Each Sub-ype in import_id')\n",
        "print(cat_ft['import_id'].value_counts())\n",
        "print('=================================')\n",
        "print('Percentages of Each Sub-type in import_id')\n",
        "print(cat_ft['import_id'].value_counts()/cat_ft.shape[0])\n",
        "print('=================================')"
      ],
      "metadata": {
        "colab": {
          "base_uri": "https://localhost:8080/",
          "height": 861
        },
        "id": "kU4WEuCsQc6a",
        "outputId": "5df19d34-61b6-437b-a820-b6a3c266d701"
      },
      "execution_count": null,
      "outputs": [
        {
          "output_type": "display_data",
          "data": {
            "text/plain": [
              "<Figure size 432x288 with 1 Axes>"
            ],
            "image/png": "[encoded data removed]"
          },
          "metadata": {
            "needs_background": "light"
          }
        },
        {
          "output_type": "stream",
          "name": "stdout",
          "text": [
            " \n"
          ]
        },
        {
          "output_type": "display_data",
          "data": {
            "text/plain": [
              "<Figure size 432x288 with 1 Axes>"
            ],
            "image/png": "[encoded data removed]"
          },
          "metadata": {
            "needs_background": "light"
          }
        },
        {
          "output_type": "stream",
          "name": "stdout",
          "text": [
            "=================================\n",
            "Counts of Each Sub-ype in import_id\n",
            "other        2963\n",
            "lionsgate     677\n",
            "mgm           445\n",
            "paramount     141\n",
            "Name: import_id, dtype: int64\n",
            "=================================\n",
            "Percentages of Each Sub-type in import_id\n",
            "other       0.70114\n",
            "lionsgate   0.16020\n",
            "mgm         0.10530\n",
            "paramount   0.03336\n",
            "Name: import_id, dtype: float64\n",
            "=================================\n"
          ]
        }
      ]
    },
    {
      "cell_type": "code",
      "source": [
        "# Check for mpaa\n",
        "sns.stripplot(x = 'mpaa', y = 'cvt_per_day', data = cat_ft, jitter = True)\n",
        "plt.title(\"Strip Plot of mpaa\")\n",
        "plt.show()\n",
        "\n",
        "print(\" \")\n",
        "\n",
        "sns.violinplot(x = 'mpaa', y = 'cvt_per_day', data = cat_ft)\n",
        "plt.title(\"Violin Plot of mpaa\")\n",
        "plt.show()\n",
        "\n",
        "print('=================================')\n",
        "print('Counts of Each Sub-type in mpaa')\n",
        "print(cat_ft['mpaa'].value_counts())\n",
        "print('=================================')\n",
        "print('Percentages of Each Sub-type in mpaa')\n",
        "print(cat_ft['mpaa'].value_counts()/cat_ft.shape[0])\n",
        "print('=================================')"
      ],
      "metadata": {
        "colab": {
          "base_uri": "https://localhost:8080/",
          "height": 930
        },
        "id": "YYVo-QO1asw4",
        "outputId": "70a3d3a9-8eb6-4b61-ebb2-4a16afc4098e"
      },
      "execution_count": null,
      "outputs": [
        {
          "output_type": "display_data",
          "data": {
            "text/plain": [
              "<Figure size 432x288 with 1 Axes>"
            ],
            "image/png": "[encoded data removed]"
          },
          "metadata": {
            "needs_background": "light"
          }
        },
        {
          "output_type": "stream",
          "name": "stdout",
          "text": [
            " \n"
          ]
        },
        {
          "output_type": "display_data",
          "data": {
            "text/plain": [
              "<Figure size 432x288 with 1 Axes>"
            ],
            "image/png": "[encoded data removed]"
          },
          "metadata": {
            "needs_background": "light"
          }
        },
        {
          "output_type": "stream",
          "name": "stdout",
          "text": [
            "=================================\n",
            "Counts of Each Sub-type in mpaa\n",
            "NotRated    2158\n",
            "R           1158\n",
            "PG-13        426\n",
            "PG           353\n",
            "G            125\n",
            "NC-17          6\n",
            "Name: mpaa, dtype: int64\n",
            "=================================\n",
            "Percentages of Each Sub-type in mpaa\n",
            "NotRated   0.51065\n",
            "R          0.27402\n",
            "PG-13      0.10080\n",
            "PG         0.08353\n",
            "G          0.02958\n",
            "NC-17      0.00142\n",
            "Name: mpaa, dtype: float64\n",
            "=================================\n"
          ]
        }
      ]
    },
    {
      "cell_type": "code",
      "source": [
        "# Check for awards\n",
        "sns.stripplot(x = 'awards', y = 'cvt_per_day', data = cat_ft, jitter = True)\n",
        "plt.title(\"Strip Plot of awards\")\n",
        "plt.show()\n",
        "\n",
        "print(\" \")\n",
        "\n",
        "sns.violinplot(x = 'awards', y = 'cvt_per_day', data = cat_ft)\n",
        "plt.title(\"Violin Plot of awards\")\n",
        "plt.show()\n",
        "\n",
        "print('=================================')\n",
        "print('Counts of Each Sub-type in awards')\n",
        "print(cat_ft['awards'].value_counts())\n",
        "print('=================================')\n",
        "print('Percentages of Each Sub-type in awards')\n",
        "print(cat_ft['awards'].value_counts()/cat_ft.shape[0])\n",
        "print('=================================')\n"
      ],
      "metadata": {
        "colab": {
          "base_uri": "https://localhost:8080/",
          "height": 894
        },
        "id": "jyiRVEMwatJ2",
        "outputId": "df8afaee-09ed-4231-a76c-c75f33c7ac6d"
      },
      "execution_count": null,
      "outputs": [
        {
          "output_type": "display_data",
          "data": {
            "text/plain": [
              "<Figure size 432x288 with 1 Axes>"
            ],
            "image/png": "[encoded data removed]"
          },
          "metadata": {
            "needs_background": "light"
          }
        },
        {
          "output_type": "stream",
          "name": "stdout",
          "text": [
            " \n"
          ]
        },
        {
          "output_type": "display_data",
          "data": {
            "text/plain": [
              "<Figure size 432x288 with 1 Axes>"
            ],
            "image/png": "[encoded data removed]"
          },
          "metadata": {
            "needs_background": "light"
          }
        },
        {
          "output_type": "stream",
          "name": "stdout",
          "text": [
            "=================================\n",
            "Counts of Each Sub-type in awards\n",
            "no award        2569\n",
            "other award     1453\n",
            "Oscar            141\n",
            "Golden Globe      44\n",
            "BAFTA             19\n",
            "Name: awards, dtype: int64\n",
            "=================================\n",
            "Percentages of Each Sub-type in awards\n",
            "no award       0.60790\n",
            "other award    0.34382\n",
            "Oscar          0.03336\n",
            "Golden Globe   0.01041\n",
            "BAFTA          0.00450\n",
            "Name: awards, dtype: float64\n",
            "=================================\n"
          ]
        }
      ]
    },
    {
      "cell_type": "markdown",
      "source": [
        "From the plots above, it seems that most of the data point are skewed and clustered at 0."
      ],
      "metadata": {
        "id": "QS9OIdDCdfLF"
      }
    },
    {
      "cell_type": "code",
      "source": [
        "# genres\n",
        "gen_split = cat_ft['genres'].str.get_dummies(sep = ',').sum()\n",
        "\n",
        "gen_df = gen_split.to_frame()\n",
        "gen_df.reset_index(inplace = True)\n",
        "gen_df.rename(columns = {'index': 'genres', 0: 'counts'}, inplace = True)\n",
        "\n",
        "gen_sorted = gen_df.sort_values(by = ['counts'], ascending = False).reset_index(drop = True)\n",
        "\n",
        "# Print Sorted\n",
        "print(gen_sorted)\n",
        "\n",
        "genres = gen_sorted['genres']\n",
        "counts = gen_sorted['counts']\n",
        "\n",
        "# Figure Size\n",
        "fig, ax = plt.subplots(figsize = (20, 16))\n",
        "\n",
        "# Horizontal Bar Plot\n",
        "ax.barh(genres, counts)\n",
        "\n",
        "# Descending Order\n",
        "ax.invert_yaxis()\n",
        "\n",
        "# Add Annotation\n",
        "for i in ax.patches:\n",
        "  plt.text(i.get_width() + 0.2, i.get_y() + 0.5, \n",
        "           str(round((i.get_width()), 2)), fontsize = 10, \n",
        "           fontweight = 'bold', color = 'grey')\n",
        "\n"
      ],
      "metadata": {
        "colab": {
          "base_uri": "https://localhost:8080/",
          "height": 974
        },
        "id": "JIJvXo7ghuPU",
        "outputId": "4673a012-94ba-45c9-fccf-cf6d82af3503"
      },
      "execution_count": null,
      "outputs": [
        {
          "output_type": "stream",
          "name": "stdout",
          "text": [
            "                   genres  counts\n",
            "0                   Drama    1677\n",
            "1                  Comedy    1184\n",
            "2                Thriller     879\n",
            "3                  Horror     762\n",
            "4                  Action     739\n",
            "5             Documentary     671\n",
            "6                 Romance     591\n",
            "7                   Crime     437\n",
            "8             Independent     393\n",
            "9                 Mystery     375\n",
            "10              Adventure     363\n",
            "11                 Sci-Fi     363\n",
            "12          Kids & Family     280\n",
            "13                Fantasy     243\n",
            "14                  Music     171\n",
            "15              Animation     129\n",
            "16                    War     102\n",
            "17                Western     102\n",
            "18                  Sport      77\n",
            "19               Musicals      68\n",
            "20  Foreign/International      64\n",
            "21                  Anime      11\n",
            "22                Reality       9\n",
            "23              Lifestyle       7\n",
            "24                  Adult       3\n",
            "25                   LGBT       2\n",
            "26                Holiday       1\n"
          ]
        },
        {
          "output_type": "display_data",
          "data": {
            "text/plain": [
              "<Figure size 1440x1152 with 1 Axes>"
            ],
            "image/png": "[encoded data removed]"
          },
          "metadata": {
            "needs_background": "light"
          }
        }
      ]
    },
    {
      "cell_type": "markdown",
      "source": [
        "There are total 27 different sub-types in geres. Notice that there are fewer than 12 counts in 'Anime', 'Reality', 'Lifestyle', 'Adult', 'LGBT', and 'Holiday'."
      ],
      "metadata": {
        "id": "Nf916siVrggi"
      }
    },
    {
      "cell_type": "markdown",
      "source": [
        "# Part 2. Data Preprocessing"
      ],
      "metadata": {
        "id": "B7Jg5NTdsMKO"
      }
    },
    {
      "cell_type": "markdown",
      "source": [
        "## 2.1 Numerical Features"
      ],
      "metadata": {
        "id": "9k8I_tzzsQrq"
      }
    },
    {
      "cell_type": "markdown",
      "source": [
        "There are 10 numerical explanatory variables, excluding 'video_id' and 'release_year': 'weighted_categorical_position', 'weighted_horizontal_position', 'import_id', 'imdb_votes', 'budget', 'boxoffice', 'imdb_rating', 'duration_in_mins', 'metacritic_score', and 'star_category'."
      ],
      "metadata": {
        "id": "V_cY0YRatX5o"
      }
    },
    {
      "cell_type": "markdown",
      "source": [
        "### 2.1.1 Imputation on Missing Data"
      ],
      "metadata": {
        "id": "FOPD1jia5q1_"
      }
    },
    {
      "cell_type": "markdown",
      "source": [
        "Although that the dataset does not contain any null values, but it is also important to check possible missing values such as 0. Among these features, there are 4 features which have over 25% of 0 values: 'budget' (58.1%), 'boxoffice' (75.6%), 'metacritic_score' (71.3%) and 'star_category' (43.7%); and there are 2 features which have less than 10% of 0 values: 'imdb_votes' (8.1%) and 'imdb_rating' (8.1%). These 0 values are considered missing values and further investigation is needed. In total, there are 3242 data points which have at least one missing data."
      ],
      "metadata": {
        "id": "rpUYYQ-pA9tp"
      }
    },
    {
      "cell_type": "code",
      "source": [
        "# Replace 0 values by NA \n",
        "TV_file[['budget', 'boxoffice', 'metacritic_score', 'star_category', 'imdb_votes', 'imdb_rating']] = TV_file[['budget', 'boxoffice', 'metacritic_score', 'star_category', 'imdb_votes', 'imdb_rating']].replace(0, np.nan)\n",
        "print(TV_file.info())"
      ],
      "metadata": {
        "colab": {
          "base_uri": "https://localhost:8080/"
        },
        "id": "NQvkbThQ7mDS",
        "outputId": "0d7fb9b1-61bf-4471-ebce-1544d3b1035d"
      },
      "execution_count": null,
      "outputs": [
        {
          "output_type": "stream",
          "name": "stdout",
          "text": [
            "<class 'pandas.core.frame.DataFrame'>\n",
            "RangeIndex: 4226 entries, 0 to 4225\n",
            "Data columns (total 16 columns):\n",
            " #   Column                         Non-Null Count  Dtype  \n",
            "---  ------                         --------------  -----  \n",
            " 0   video_id                       4226 non-null   int64  \n",
            " 1   cvt_per_day                    4226 non-null   float64\n",
            " 2   weighted_categorical_position  4226 non-null   int64  \n",
            " 3   weighted_horizontal_position   4226 non-null   int64  \n",
            " 4   import_id                      4226 non-null   object \n",
            " 5   release_year                   4226 non-null   int64  \n",
            " 6   genres                         4226 non-null   object \n",
            " 7   imdb_votes                     3882 non-null   float64\n",
            " 8   budget                         1772 non-null   float64\n",
            " 9   boxoffice                      1032 non-null   float64\n",
            " 10  imdb_rating                    3882 non-null   float64\n",
            " 11  duration_in_mins               4226 non-null   float64\n",
            " 12  metacritic_score               1214 non-null   float64\n",
            " 13  awards                         4226 non-null   object \n",
            " 14  mpaa                           4226 non-null   object \n",
            " 15  star_category                  2380 non-null   float64\n",
            "dtypes: float64(8), int64(4), object(4)\n",
            "memory usage: 528.4+ KB\n",
            "None\n"
          ]
        }
      ]
    },
    {
      "cell_type": "code",
      "source": [
        "# Replace NA by mean\n",
        "TV_1 = TV_file.copy()\n",
        "TV_1['imdb_votes'] = TV_1['imdb_votes'].fillna(TV_1['imdb_votes'].mean())\n",
        "TV_1['budget'] = TV_1['budget'].fillna(TV_1['budget'].mean())\n",
        "TV_1['boxoffice'] = TV_1['boxoffice'].fillna(TV_1['boxoffice'].mean())\n",
        "TV_1['imdb_rating'] = TV_1['imdb_rating'].fillna(TV_1['imdb_rating'].mean())\n",
        "TV_1['metacritic_score'] = TV_1['metacritic_score'].fillna(TV_1['metacritic_score'].mean())\n",
        "TV_1['star_category'] = TV_1['star_category'].fillna(TV_1['star_category'].mean())\n",
        "print(TV_1.info())\n",
        "type(TV_1)"
      ],
      "metadata": {
        "colab": {
          "base_uri": "https://localhost:8080/"
        },
        "id": "-3j0E5eVF2NN",
        "outputId": "e16a26e9-e0b0-4752-9f4f-b87f6fff020a"
      },
      "execution_count": null,
      "outputs": [
        {
          "output_type": "stream",
          "name": "stdout",
          "text": [
            "<class 'pandas.core.frame.DataFrame'>\n",
            "RangeIndex: 4226 entries, 0 to 4225\n",
            "Data columns (total 16 columns):\n",
            " #   Column                         Non-Null Count  Dtype  \n",
            "---  ------                         --------------  -----  \n",
            " 0   video_id                       4226 non-null   int64  \n",
            " 1   cvt_per_day                    4226 non-null   float64\n",
            " 2   weighted_categorical_position  4226 non-null   int64  \n",
            " 3   weighted_horizontal_position   4226 non-null   int64  \n",
            " 4   import_id                      4226 non-null   object \n",
            " 5   release_year                   4226 non-null   int64  \n",
            " 6   genres                         4226 non-null   object \n",
            " 7   imdb_votes                     4226 non-null   float64\n",
            " 8   budget                         4226 non-null   float64\n",
            " 9   boxoffice                      4226 non-null   float64\n",
            " 10  imdb_rating                    4226 non-null   float64\n",
            " 11  duration_in_mins               4226 non-null   float64\n",
            " 12  metacritic_score               4226 non-null   float64\n",
            " 13  awards                         4226 non-null   object \n",
            " 14  mpaa                           4226 non-null   object \n",
            " 15  star_category                  4226 non-null   float64\n",
            "dtypes: float64(8), int64(4), object(4)\n",
            "memory usage: 528.4+ KB\n",
            "None\n"
          ]
        },
        {
          "output_type": "execute_result",
          "data": {
            "text/plain": [
              "pandas.core.frame.DataFrame"
            ]
          },
          "metadata": {},
          "execution_count": 22
        }
      ]
    },
    {
      "cell_type": "markdown",
      "source": [
        "### 2.1.2 Feature Scaling"
      ],
      "metadata": {
        "id": "aP-uFxTQ5vjs"
      }
    },
    {
      "cell_type": "markdown",
      "source": [
        "'import_id' is not included in feature scaling process because it does not contain useful information in this case."
      ],
      "metadata": {
        "id": "I9l6T-5FNS93"
      }
    },
    {
      "cell_type": "code",
      "source": [
        "scale_lst = ['weighted_categorical_position', 'weighted_horizontal_position', 'budget','boxoffice', \n",
        "             'imdb_votes','imdb_rating','duration_in_mins', 'metacritic_score','star_category']\n",
        "\n",
        "TV_1[scale_lst].describe()"
      ],
      "metadata": {
        "colab": {
          "base_uri": "https://localhost:8080/",
          "height": 364
        },
        "id": "lcTD2GUuJKwV",
        "outputId": "94291032-df85-404e-8fea-8677e4bd547d"
      },
      "execution_count": null,
      "outputs": [
        {
          "output_type": "execute_result",
          "data": {
            "text/plain": [
              "       weighted_categorical_position  weighted_horizontal_position  \\\n",
              "count                     4226.00000                    4226.00000   \n",
              "mean                         7.78254                      28.10364   \n",
              "std                          6.13418                      11.86365   \n",
              "min                          1.00000                       1.00000   \n",
              "25%                          4.00000                      20.00000   \n",
              "50%                          6.00000                      28.00000   \n",
              "75%                          9.00000                      36.00000   \n",
              "max                         41.00000                      70.00000   \n",
              "\n",
              "               budget       boxoffice   imdb_votes  imdb_rating  \\\n",
              "count      4226.00000      4226.00000   4226.00000   4226.00000   \n",
              "mean    5129256.08070  10386207.73353   7035.63035      5.72295   \n",
              "std     6715364.41054   6931155.93622  31537.36533      1.43412   \n",
              "min           1.00000      1316.00000      5.00000      1.00000   \n",
              "25%     1500000.00000  10386207.73353    165.00000      4.90000   \n",
              "50%     5129256.08070  10386207.73353    871.00000      5.80000   \n",
              "75%     5129256.08070  10386207.73353   5753.25000      6.80000   \n",
              "max   107000000.00000 184208848.00000 948630.00000     10.00000   \n",
              "\n",
              "       duration_in_mins  metacritic_score  star_category  \n",
              "count        4226.00000        4226.00000     4226.00000  \n",
              "mean           89.55612          55.60544        1.69511  \n",
              "std            21.08618           7.31418        0.45284  \n",
              "min             4.03725           1.00000        1.00000  \n",
              "25%            82.60171          55.60544        1.57500  \n",
              "50%            90.73031          55.60544        1.69511  \n",
              "75%            99.50031          55.60544        1.69511  \n",
              "max           246.01677         100.00000        4.00000  "
            ],
            "text/html": [
              "\n",
              "  <div id=\"df-6e72264e-c450-496f-a300-316e16ead10e\">\n",
              "    <div class=\"colab-df-container\">\n",
              "      <div>\n",
              "<style scoped>\n",
              "    .dataframe tbody tr th:only-of-type {\n",
              "        vertical-align: middle;\n",
              "    }\n",
              "\n",
              "    .dataframe tbody tr th {\n",
              "        vertical-align: top;\n",
              "    }\n",
              "\n",
              "    .dataframe thead th {\n",
              "        text-align: right;\n",
              "    }\n",
              "</style>\n",
              "<table border=\"1\" class=\"dataframe\">\n",
              "  <thead>\n",
              "    <tr style=\"text-align: right;\">\n",
              "      <th></th>\n",
              "      <th>weighted_categorical_position</th>\n",
              "      <th>weighted_horizontal_position</th>\n",
              "      <th>budget</th>\n",
              "      <th>boxoffice</th>\n",
              "      <th>imdb_votes</th>\n",
              "      <th>imdb_rating</th>\n",
              "      <th>duration_in_mins</th>\n",
              "      <th>metacritic_score</th>\n",
              "      <th>star_category</th>\n",
              "    </tr>\n",
              "  </thead>\n",
              "  <tbody>\n",
              "    <tr>\n",
              "      <th>count</th>\n",
              "      <td>4226.00000</td>\n",
              "      <td>4226.00000</td>\n",
              "      <td>4226.00000</td>\n",
              "      <td>4226.00000</td>\n",
              "      <td>4226.00000</td>\n",
              "      <td>4226.00000</td>\n",
              "      <td>4226.00000</td>\n",
              "      <td>4226.00000</td>\n",
              "      <td>4226.00000</td>\n",
              "    </tr>\n",
              "    <tr>\n",
              "      <th>mean</th>\n",
              "      <td>7.78254</td>\n",
              "      <td>28.10364</td>\n",
              "      <td>5129256.08070</td>\n",
              "      <td>10386207.73353</td>\n",
              "      <td>7035.63035</td>\n",
              "      <td>5.72295</td>\n",
              "      <td>89.55612</td>\n",
              "      <td>55.60544</td>\n",
              "      <td>1.69511</td>\n",
              "    </tr>\n",
              "    <tr>\n",
              "      <th>std</th>\n",
              "      <td>6.13418</td>\n",
              "      <td>11.86365</td>\n",
              "      <td>6715364.41054</td>\n",
              "      <td>6931155.93622</td>\n",
              "      <td>31537.36533</td>\n",
              "      <td>1.43412</td>\n",
              "      <td>21.08618</td>\n",
              "      <td>7.31418</td>\n",
              "      <td>0.45284</td>\n",
              "    </tr>\n",
              "    <tr>\n",
              "      <th>min</th>\n",
              "      <td>1.00000</td>\n",
              "      <td>1.00000</td>\n",
              "      <td>1.00000</td>\n",
              "      <td>1316.00000</td>\n",
              "      <td>5.00000</td>\n",
              "      <td>1.00000</td>\n",
              "      <td>4.03725</td>\n",
              "      <td>1.00000</td>\n",
              "      <td>1.00000</td>\n",
              "    </tr>\n",
              "    <tr>\n",
              "      <th>25%</th>\n",
              "      <td>4.00000</td>\n",
              "      <td>20.00000</td>\n",
              "      <td>1500000.00000</td>\n",
              "      <td>10386207.73353</td>\n",
              "      <td>165.00000</td>\n",
              "      <td>4.90000</td>\n",
              "      <td>82.60171</td>\n",
              "      <td>55.60544</td>\n",
              "      <td>1.57500</td>\n",
              "    </tr>\n",
              "    <tr>\n",
              "      <th>50%</th>\n",
              "      <td>6.00000</td>\n",
              "      <td>28.00000</td>\n",
              "      <td>5129256.08070</td>\n",
              "      <td>10386207.73353</td>\n",
              "      <td>871.00000</td>\n",
              "      <td>5.80000</td>\n",
              "      <td>90.73031</td>\n",
              "      <td>55.60544</td>\n",
              "      <td>1.69511</td>\n",
              "    </tr>\n",
              "    <tr>\n",
              "      <th>75%</th>\n",
              "      <td>9.00000</td>\n",
              "      <td>36.00000</td>\n",
              "      <td>5129256.08070</td>\n",
              "      <td>10386207.73353</td>\n",
              "      <td>5753.25000</td>\n",
              "      <td>6.80000</td>\n",
              "      <td>99.50031</td>\n",
              "      <td>55.60544</td>\n",
              "      <td>1.69511</td>\n",
              "    </tr>\n",
              "    <tr>\n",
              "      <th>max</th>\n",
              "      <td>41.00000</td>\n",
              "      <td>70.00000</td>\n",
              "      <td>107000000.00000</td>\n",
              "      <td>184208848.00000</td>\n",
              "      <td>948630.00000</td>\n",
              "      <td>10.00000</td>\n",
              "      <td>246.01677</td>\n",
              "      <td>100.00000</td>\n",
              "      <td>4.00000</td>\n",
              "    </tr>\n",
              "  </tbody>\n",
              "</table>\n",
              "</div>\n",
              "      <button class=\"colab-df-convert\" onclick=\"convertToInteractive('df-6e72264e-c450-496f-a300-316e16ead10e')\"\n",
              "              title=\"Convert this dataframe to an interactive table.\"\n",
              "              style=\"display:none;\">\n",
              "        \n",
              "  <svg xmlns=\"http://www.w3.org/2000/svg\" height=\"24px\"viewBox=\"0 0 24 24\"\n",
              "       width=\"24px\">\n",
              "    <path d=\"M0 0h24v24H0V0z\" fill=\"none\"/>\n",
              "    <path d=\"M18.56 5.44l.94 2.06.94-2.06 2.06-.94-2.06-.94-.94-2.06-.94 2.06-2.06.94zm-11 1L8.5 8.5l.94-2.06 2.06-.94-2.06-.94L8.5 2.5l-.94 2.06-2.06.94zm10 10l.94 2.06.94-2.06 2.06-.94-2.06-.94-.94-2.06-.94 2.06-2.06.94z\"/><path d=\"M17.41 7.96l-1.37-1.37c-.4-.4-.92-.59-1.43-.59-.52 0-1.04.2-1.43.59L10.3 9.45l-7.72 7.72c-.78.78-.78 2.05 0 2.83L4 21.41c.39.39.9.59 1.41.59.51 0 1.02-.2 1.41-.59l7.78-7.78 2.81-2.81c.8-.78.8-2.07 0-2.86zM5.41 20L4 18.59l7.72-7.72 1.47 1.35L5.41 20z\"/>\n",
              "  </svg>\n",
              "      </button>\n",
              "      \n",
              "  <style>\n",
              "    .colab-df-container {\n",
              "      display:flex;\n",
              "      flex-wrap:wrap;\n",
              "      gap: 12px;\n",
              "    }\n",
              "\n",
              "    .colab-df-convert {\n",
              "      background-color: #E8F0FE;\n",
              "      border: none;\n",
              "      border-radius: 50%;\n",
              "      cursor: pointer;\n",
              "      display: none;\n",
              "      fill: #1967D2;\n",
              "      height: 32px;\n",
              "      padding: 0 0 0 0;\n",
              "      width: 32px;\n",
              "    }\n",
              "\n",
              "    .colab-df-convert:hover {\n",
              "      background-color: #E2EBFA;\n",
              "      box-shadow: 0px 1px 2px rgba(60, 64, 67, 0.3), 0px 1px 3px 1px rgba(60, 64, 67, 0.15);\n",
              "      fill: #174EA6;\n",
              "    }\n",
              "\n",
              "    [theme=dark] .colab-df-convert {\n",
              "      background-color: #3B4455;\n",
              "      fill: #D2E3FC;\n",
              "    }\n",
              "\n",
              "    [theme=dark] .colab-df-convert:hover {\n",
              "      background-color: #434B5C;\n",
              "      box-shadow: 0px 1px 3px 1px rgba(0, 0, 0, 0.15);\n",
              "      filter: drop-shadow(0px 1px 2px rgba(0, 0, 0, 0.3));\n",
              "      fill: #FFFFFF;\n",
              "    }\n",
              "  </style>\n",
              "\n",
              "      <script>\n",
              "        const buttonEl =\n",
              "          document.querySelector('#df-6e72264e-c450-496f-a300-316e16ead10e button.colab-df-convert');\n",
              "        buttonEl.style.display =\n",
              "          google.colab.kernel.accessAllowed ? 'block' : 'none';\n",
              "\n",
              "        async function convertToInteractive(key) {\n",
              "          const element = document.querySelector('#df-6e72264e-c450-496f-a300-316e16ead10e');\n",
              "          const dataTable =\n",
              "            await google.colab.kernel.invokeFunction('convertToInteractive',\n",
              "                                                     [key], {});\n",
              "          if (!dataTable) return;\n",
              "\n",
              "          const docLinkHtml = 'Like what you see? Visit the ' +\n",
              "            '<a target=\"_blank\" href=https://colab.research.google.com/notebooks/data_table.ipynb>data table notebook</a>'\n",
              "            + ' to learn more about interactive tables.';\n",
              "          element.innerHTML = '';\n",
              "          dataTable['output_type'] = 'display_data';\n",
              "          await google.colab.output.renderOutput(dataTable, element);\n",
              "          const docLink = document.createElement('div');\n",
              "          docLink.innerHTML = docLinkHtml;\n",
              "          element.appendChild(docLink);\n",
              "        }\n",
              "      </script>\n",
              "    </div>\n",
              "  </div>\n",
              "  "
            ]
          },
          "metadata": {},
          "execution_count": 23
        }
      ]
    },
    {
      "cell_type": "markdown",
      "source": [
        "The ranges for numerical features are following: 'weighted_categorical_position': 1.000 - 41.000; 'weighted_horizontal_position': 1.000 - 70.000; 'budget': 1.000 - 107,000,000.000; 'boxoffice': 1,316.000 - 184,208,848.000; 'imdb_votes': 5.000 - 948,630.000; 'imdb_rating': 1.000 - 10.000; 'duration_in_min': 4.037 - 246.017; 'metacritic_score': 1.000 - 100.000; 'star_category': 1.000 - 4.000. \n",
        "\n",
        "\n",
        "Because machine learning algorithm is not able to distinguish units, magnitudes, and range of numerical features, the it makes the underlying assumption that higher ranging features have superiority than others, and these more significant numbers starts playing a more decisive role while training the model. Therefore, feature scaling is needed to bring every feature in the same footing without any upfront importance. \n",
        "\n",
        "\n",
        "Notice that the ranges of numerical feature vary obviously. In order to eliminate the superiority and significance of larger-range numerical variables, feature scaling is applied in preprocessing of data.\n",
        "\n",
        "\n",
        "There are two common way of feature scaling: Standard Scaling and Min Max Scaling."
      ],
      "metadata": {
        "id": "OfMHt79DuOVv"
      }
    },
    {
      "cell_type": "code",
      "source": [
        "# Standard Scaling\n",
        "TV_2 = TV_1.copy()\n",
        "sc_scale = preprocessing.StandardScaler().fit(TV_2[scale_lst])\n",
        "TV_2[scale_lst] = sc_scale.transform(TV_2[scale_lst])\n",
        "TV_2.head()\n"
      ],
      "metadata": {
        "colab": {
          "base_uri": "https://localhost:8080/",
          "height": 340
        },
        "id": "Mu7QnYZ14aDy",
        "outputId": "dabcf2da-2b83-4e35-abb4-5496595f17b3"
      },
      "execution_count": null,
      "outputs": [
        {
          "output_type": "execute_result",
          "data": {
            "text/plain": [
              "   video_id  cvt_per_day  weighted_categorical_position  \\\n",
              "0    385504 307127.60561                       -1.10583   \n",
              "1    300175 270338.42637                       -1.10583   \n",
              "2    361899 256165.86745                       -1.10583   \n",
              "3    308314 196622.72100                       -0.77975   \n",
              "4    307201 159841.65206                       -1.10583   \n",
              "\n",
              "   weighted_horizontal_position  import_id  release_year  \\\n",
              "0                      -2.11626  lionsgate          2013   \n",
              "1                      -2.11626  lionsgate          2013   \n",
              "2                      -2.11626      other          2012   \n",
              "3                      -2.03196  lionsgate          2008   \n",
              "4                      -2.11626  lionsgate          2013   \n",
              "\n",
              "                                          genres  imdb_votes  budget  \\\n",
              "0                          Action,Thriller,Drama     1.98450 1.47005   \n",
              "1                          Comedy,Crime,Thriller     1.25800 1.47005   \n",
              "2                                    Crime,Drama     6.04308 3.10828   \n",
              "3  Thriller,Drama,War,Documentary,Mystery,Action    11.07717 1.47005   \n",
              "4             Crime,Thriller,Mystery,Documentary     1.25848 3.28997   \n",
              "\n",
              "   boxoffice  imdb_rating  duration_in_mins  metacritic_score       awards  \\\n",
              "0    4.69591      0.54189           1.07879          -0.62973  other award   \n",
              "1   -1.02234      0.54189           0.25741          -1.99710     no award   \n",
              "2    3.89751      1.09979           1.24303           0.32743  other award   \n",
              "3    0.76674      1.30900           1.95163           5.24995        Oscar   \n",
              "4   -0.26478      0.47216           0.75838          -2.54405  other award   \n",
              "\n",
              "    mpaa  star_category  \n",
              "0  PG-13        0.03289  \n",
              "1      R        3.43403  \n",
              "2      R        2.10155  \n",
              "3      R       -0.06281  \n",
              "4      R        3.02913  "
            ],
            "text/html": [
              "\n",
              "  <div id=\"df-4a6f4f8e-a7a9-4316-8894-a5ef06989ad3\">\n",
              "    <div class=\"colab-df-container\">\n",
              "      <div>\n",
              "<style scoped>\n",
              "    .dataframe tbody tr th:only-of-type {\n",
              "        vertical-align: middle;\n",
              "    }\n",
              "\n",
              "    .dataframe tbody tr th {\n",
              "        vertical-align: top;\n",
              "    }\n",
              "\n",
              "    .dataframe thead th {\n",
              "        text-align: right;\n",
              "    }\n",
              "</style>\n",
              "<table border=\"1\" class=\"dataframe\">\n",
              "  <thead>\n",
              "    <tr style=\"text-align: right;\">\n",
              "      <th></th>\n",
              "      <th>video_id</th>\n",
              "      <th>cvt_per_day</th>\n",
              "      <th>weighted_categorical_position</th>\n",
              "      <th>weighted_horizontal_position</th>\n",
              "      <th>import_id</th>\n",
              "      <th>release_year</th>\n",
              "      <th>genres</th>\n",
              "      <th>imdb_votes</th>\n",
              "      <th>budget</th>\n",
              "      <th>boxoffice</th>\n",
              "      <th>imdb_rating</th>\n",
              "      <th>duration_in_mins</th>\n",
              "      <th>metacritic_score</th>\n",
              "      <th>awards</th>\n",
              "      <th>mpaa</th>\n",
              "      <th>star_category</th>\n",
              "    </tr>\n",
              "  </thead>\n",
              "  <tbody>\n",
              "    <tr>\n",
              "      <th>0</th>\n",
              "      <td>385504</td>\n",
              "      <td>307127.60561</td>\n",
              "      <td>-1.10583</td>\n",
              "      <td>-2.11626</td>\n",
              "      <td>lionsgate</td>\n",
              "      <td>2013</td>\n",
              "      <td>Action,Thriller,Drama</td>\n",
              "      <td>1.98450</td>\n",
              "      <td>1.47005</td>\n",
              "      <td>4.69591</td>\n",
              "      <td>0.54189</td>\n",
              "      <td>1.07879</td>\n",
              "      <td>-0.62973</td>\n",
              "      <td>other award</td>\n",
              "      <td>PG-13</td>\n",
              "      <td>0.03289</td>\n",
              "    </tr>\n",
              "    <tr>\n",
              "      <th>1</th>\n",
              "      <td>300175</td>\n",
              "      <td>270338.42637</td>\n",
              "      <td>-1.10583</td>\n",
              "      <td>-2.11626</td>\n",
              "      <td>lionsgate</td>\n",
              "      <td>2013</td>\n",
              "      <td>Comedy,Crime,Thriller</td>\n",
              "      <td>1.25800</td>\n",
              "      <td>1.47005</td>\n",
              "      <td>-1.02234</td>\n",
              "      <td>0.54189</td>\n",
              "      <td>0.25741</td>\n",
              "      <td>-1.99710</td>\n",
              "      <td>no award</td>\n",
              "      <td>R</td>\n",
              "      <td>3.43403</td>\n",
              "    </tr>\n",
              "    <tr>\n",
              "      <th>2</th>\n",
              "      <td>361899</td>\n",
              "      <td>256165.86745</td>\n",
              "      <td>-1.10583</td>\n",
              "      <td>-2.11626</td>\n",
              "      <td>other</td>\n",
              "      <td>2012</td>\n",
              "      <td>Crime,Drama</td>\n",
              "      <td>6.04308</td>\n",
              "      <td>3.10828</td>\n",
              "      <td>3.89751</td>\n",
              "      <td>1.09979</td>\n",
              "      <td>1.24303</td>\n",
              "      <td>0.32743</td>\n",
              "      <td>other award</td>\n",
              "      <td>R</td>\n",
              "      <td>2.10155</td>\n",
              "    </tr>\n",
              "    <tr>\n",
              "      <th>3</th>\n",
              "      <td>308314</td>\n",
              "      <td>196622.72100</td>\n",
              "      <td>-0.77975</td>\n",
              "      <td>-2.03196</td>\n",
              "      <td>lionsgate</td>\n",
              "      <td>2008</td>\n",
              "      <td>Thriller,Drama,War,Documentary,Mystery,Action</td>\n",
              "      <td>11.07717</td>\n",
              "      <td>1.47005</td>\n",
              "      <td>0.76674</td>\n",
              "      <td>1.30900</td>\n",
              "      <td>1.95163</td>\n",
              "      <td>5.24995</td>\n",
              "      <td>Oscar</td>\n",
              "      <td>R</td>\n",
              "      <td>-0.06281</td>\n",
              "    </tr>\n",
              "    <tr>\n",
              "      <th>4</th>\n",
              "      <td>307201</td>\n",
              "      <td>159841.65206</td>\n",
              "      <td>-1.10583</td>\n",
              "      <td>-2.11626</td>\n",
              "      <td>lionsgate</td>\n",
              "      <td>2013</td>\n",
              "      <td>Crime,Thriller,Mystery,Documentary</td>\n",
              "      <td>1.25848</td>\n",
              "      <td>3.28997</td>\n",
              "      <td>-0.26478</td>\n",
              "      <td>0.47216</td>\n",
              "      <td>0.75838</td>\n",
              "      <td>-2.54405</td>\n",
              "      <td>other award</td>\n",
              "      <td>R</td>\n",
              "      <td>3.02913</td>\n",
              "    </tr>\n",
              "  </tbody>\n",
              "</table>\n",
              "</div>\n",
              "      <button class=\"colab-df-convert\" onclick=\"convertToInteractive('df-4a6f4f8e-a7a9-4316-8894-a5ef06989ad3')\"\n",
              "              title=\"Convert this dataframe to an interactive table.\"\n",
              "              style=\"display:none;\">\n",
              "        \n",
              "  <svg xmlns=\"http://www.w3.org/2000/svg\" height=\"24px\"viewBox=\"0 0 24 24\"\n",
              "       width=\"24px\">\n",
              "    <path d=\"M0 0h24v24H0V0z\" fill=\"none\"/>\n",
              "    <path d=\"M18.56 5.44l.94 2.06.94-2.06 2.06-.94-2.06-.94-.94-2.06-.94 2.06-2.06.94zm-11 1L8.5 8.5l.94-2.06 2.06-.94-2.06-.94L8.5 2.5l-.94 2.06-2.06.94zm10 10l.94 2.06.94-2.06 2.06-.94-2.06-.94-.94-2.06-.94 2.06-2.06.94z\"/><path d=\"M17.41 7.96l-1.37-1.37c-.4-.4-.92-.59-1.43-.59-.52 0-1.04.2-1.43.59L10.3 9.45l-7.72 7.72c-.78.78-.78 2.05 0 2.83L4 21.41c.39.39.9.59 1.41.59.51 0 1.02-.2 1.41-.59l7.78-7.78 2.81-2.81c.8-.78.8-2.07 0-2.86zM5.41 20L4 18.59l7.72-7.72 1.47 1.35L5.41 20z\"/>\n",
              "  </svg>\n",
              "      </button>\n",
              "      \n",
              "  <style>\n",
              "    .colab-df-container {\n",
              "      display:flex;\n",
              "      flex-wrap:wrap;\n",
              "      gap: 12px;\n",
              "    }\n",
              "\n",
              "    .colab-df-convert {\n",
              "      background-color: #E8F0FE;\n",
              "      border: none;\n",
              "      border-radius: 50%;\n",
              "      cursor: pointer;\n",
              "      display: none;\n",
              "      fill: #1967D2;\n",
              "      height: 32px;\n",
              "      padding: 0 0 0 0;\n",
              "      width: 32px;\n",
              "    }\n",
              "\n",
              "    .colab-df-convert:hover {\n",
              "      background-color: #E2EBFA;\n",
              "      box-shadow: 0px 1px 2px rgba(60, 64, 67, 0.3), 0px 1px 3px 1px rgba(60, 64, 67, 0.15);\n",
              "      fill: #174EA6;\n",
              "    }\n",
              "\n",
              "    [theme=dark] .colab-df-convert {\n",
              "      background-color: #3B4455;\n",
              "      fill: #D2E3FC;\n",
              "    }\n",
              "\n",
              "    [theme=dark] .colab-df-convert:hover {\n",
              "      background-color: #434B5C;\n",
              "      box-shadow: 0px 1px 3px 1px rgba(0, 0, 0, 0.15);\n",
              "      filter: drop-shadow(0px 1px 2px rgba(0, 0, 0, 0.3));\n",
              "      fill: #FFFFFF;\n",
              "    }\n",
              "  </style>\n",
              "\n",
              "      <script>\n",
              "        const buttonEl =\n",
              "          document.querySelector('#df-4a6f4f8e-a7a9-4316-8894-a5ef06989ad3 button.colab-df-convert');\n",
              "        buttonEl.style.display =\n",
              "          google.colab.kernel.accessAllowed ? 'block' : 'none';\n",
              "\n",
              "        async function convertToInteractive(key) {\n",
              "          const element = document.querySelector('#df-4a6f4f8e-a7a9-4316-8894-a5ef06989ad3');\n",
              "          const dataTable =\n",
              "            await google.colab.kernel.invokeFunction('convertToInteractive',\n",
              "                                                     [key], {});\n",
              "          if (!dataTable) return;\n",
              "\n",
              "          const docLinkHtml = 'Like what you see? Visit the ' +\n",
              "            '<a target=\"_blank\" href=https://colab.research.google.com/notebooks/data_table.ipynb>data table notebook</a>'\n",
              "            + ' to learn more about interactive tables.';\n",
              "          element.innerHTML = '';\n",
              "          dataTable['output_type'] = 'display_data';\n",
              "          await google.colab.output.renderOutput(dataTable, element);\n",
              "          const docLink = document.createElement('div');\n",
              "          docLink.innerHTML = docLinkHtml;\n",
              "          element.appendChild(docLink);\n",
              "        }\n",
              "      </script>\n",
              "    </div>\n",
              "  </div>\n",
              "  "
            ]
          },
          "metadata": {},
          "execution_count": 24
        }
      ]
    },
    {
      "cell_type": "code",
      "source": [
        "# Min Max Scaling\n",
        "# TV_mm = TV_1.copy()\n",
        "# mm_scale = preprocessing.MinMaxScaler().fit(TV_mm[scale_lst])\n",
        "# TV_mm[scale_lst] = mm_scale.transform(TV_mm[scale_lst])"
      ],
      "metadata": {
        "id": "qEEhm8Ci5bic"
      },
      "execution_count": null,
      "outputs": []
    },
    {
      "cell_type": "markdown",
      "source": [
        "## 2.2 Categorical Features"
      ],
      "metadata": {
        "id": "2Fd6e0PV7PHS"
      }
    },
    {
      "cell_type": "markdown",
      "source": [
        "In this dataset, there are 5 categorical features: 'import_id', 'mpaa', 'awards', 'genres', and 'release_year'. There are no missing values in these categorical features. They can be converted into dummy/indicators."
      ],
      "metadata": {
        "id": "7bBsgmGb7Ybd"
      }
    },
    {
      "cell_type": "markdown",
      "source": [
        "'import_id', 'mpaa', and 'awards' have small sub-types, so they can be easily converted to dummies."
      ],
      "metadata": {
        "id": "lz2RRzaX9gPo"
      }
    },
    {
      "cell_type": "code",
      "source": [
        "# import_id\n",
        "d_import_id = pd.get_dummies(TV_2['import_id'])\n",
        "# mpaa\n",
        "d_mpaa = pd.get_dummies(TV_2['mpaa'])\n",
        "# awards\n",
        "d_awards = pd.get_dummies(TV_2['awards'])"
      ],
      "metadata": {
        "id": "lLySze1t9vR8"
      },
      "execution_count": null,
      "outputs": []
    },
    {
      "cell_type": "markdown",
      "source": [
        "The 'genres' variable has 27 different sub-types, and 6 ('Anime', 'Reality', 'Lifestyle','Adult', 'LGBT', 'Holiday') of them are rarely observed. Therefore, they are grouped into one sub-type. Because a video may have more than one genre, in the feature preprocessing, all genres are handled individually."
      ],
      "metadata": {
        "id": "DAJ4dQnV-Kp9"
      }
    },
    {
      "cell_type": "code",
      "source": [
        "d_genres = TV_2['genres'].str.get_dummies(sep = ',')\n",
        "d_genres['Others'] = d_genres['Anime']|d_genres['Reality']|d_genres['Lifestyle']|d_genres['Adult']|d_genres['LGBT']|d_genres['Holiday']\n",
        "d_genres.drop(['Anime', 'Reality', 'Lifestyle','Adult', 'LGBT', 'Holiday'], inplace = True, axis = 1)"
      ],
      "metadata": {
        "id": "lW-NgGwO-rjU"
      },
      "execution_count": null,
      "outputs": []
    },
    {
      "cell_type": "markdown",
      "source": [
        "The 'release_year' variable is binned into 10 buckets based on the year range between 1917 and 2017."
      ],
      "metadata": {
        "id": "h-0KjkkfCc_o"
      }
    },
    {
      "cell_type": "code",
      "source": [
        "TV_2['release_year'].quantile([0.1, 0.2, 0.3, 0.4, 0.5, 0.6, 0.7, 0.8, 0.9])"
      ],
      "metadata": {
        "colab": {
          "base_uri": "https://localhost:8080/"
        },
        "id": "2HDuqzgMIiWU",
        "outputId": "a46580f9-7273-4a0e-d47b-1a6d97c26334"
      },
      "execution_count": null,
      "outputs": [
        {
          "output_type": "execute_result",
          "data": {
            "text/plain": [
              "0.10000   1974.00000\n",
              "0.20000   1991.00000\n",
              "0.30000   2001.00000\n",
              "0.40000   2006.00000\n",
              "0.50000   2008.00000\n",
              "0.60000   2010.00000\n",
              "0.70000   2012.00000\n",
              "0.80000   2013.00000\n",
              "0.90000   2014.00000\n",
              "Name: release_year, dtype: float64"
            ]
          },
          "metadata": {},
          "execution_count": 28
        }
      ]
    },
    {
      "cell_type": "code",
      "source": [
        "# bin release_year and convert into dummies\n",
        "bin_year = [1916, 1974, 1991, 2001, 2006, 2008, 2010, 2012, 2013, 2014, 2017]\n",
        "year_range = ['1916-1974', '1974-1991', '1991-2001', '2001-2006','2006-2008', \n",
        "              '2008-2010','2010-2012', '2012-2013','2013-2014','2014-2017']\n",
        "\n",
        "year_bin = pd.cut(TV_2['release_year'], bin_year, labels = year_range)\n",
        "d_year = pd.get_dummies(year_bin)"
      ],
      "metadata": {
        "id": "k1TVCkFUI6_n"
      },
      "execution_count": null,
      "outputs": []
    },
    {
      "cell_type": "code",
      "source": [
        "temp_tv = TV_2.drop(['import_id', 'mpaa', 'awards', 'genres', 'release_year'], axis = 1)\n",
        "TV_final = pd.concat([temp_tv, d_import_id, d_mpaa, d_awards, d_genres, d_year], axis = 1)\n",
        "TV_final.head()"
      ],
      "metadata": {
        "colab": {
          "base_uri": "https://localhost:8080/",
          "height": 287
        },
        "id": "dZsX-ZwPJ0ao",
        "outputId": "7c16cd91-8681-4527-9cfb-7524811c120e"
      },
      "execution_count": null,
      "outputs": [
        {
          "output_type": "execute_result",
          "data": {
            "text/plain": [
              "   video_id  cvt_per_day  weighted_categorical_position  \\\n",
              "0    385504   307127.606                         -1.106   \n",
              "1    300175   270338.426                         -1.106   \n",
              "2    361899   256165.867                         -1.106   \n",
              "3    308314   196622.721                         -0.780   \n",
              "4    307201   159841.652                         -1.106   \n",
              "\n",
              "   weighted_horizontal_position  imdb_votes  budget  boxoffice  imdb_rating  \\\n",
              "0                        -2.116       1.984   1.470      4.696        0.542   \n",
              "1                        -2.116       1.258   1.470     -1.022        0.542   \n",
              "2                        -2.116       6.043   3.108      3.898        1.100   \n",
              "3                        -2.032      11.077   1.470      0.767        1.309   \n",
              "4                        -2.116       1.258   3.290     -0.265        0.472   \n",
              "\n",
              "   duration_in_mins  metacritic_score  star_category  lionsgate  mgm  other  \\\n",
              "0             1.079            -0.630          0.033          1    0      0   \n",
              "1             0.257            -1.997          3.434          1    0      0   \n",
              "2             1.243             0.327          2.102          0    0      1   \n",
              "3             1.952             5.250         -0.063          1    0      0   \n",
              "4             0.758            -2.544          3.029          1    0      0   \n",
              "\n",
              "   paramount  G  NC-17  NotRated  PG  PG-13  R  BAFTA  Golden Globe  Oscar  \\\n",
              "0          0  0      0         0   0      1  0      0             0      0   \n",
              "1          0  0      0         0   0      0  1      0             0      0   \n",
              "2          0  0      0         0   0      0  1      0             0      0   \n",
              "3          0  0      0         0   0      0  1      0             0      1   \n",
              "4          0  0      0         0   0      0  1      0             0      0   \n",
              "\n",
              "   no award  other award  Action  Adventure  Animation  Comedy  Crime  \\\n",
              "0         0            1       1          0          0       0      0   \n",
              "1         1            0       0          0          0       1      1   \n",
              "2         0            1       0          0          0       0      1   \n",
              "3         0            0       1          0          0       0      0   \n",
              "4         0            1       0          0          0       0      1   \n",
              "\n",
              "   Documentary  Drama  Fantasy  Foreign/International  Horror  Independent  \\\n",
              "0            0      1        0                      0       0            0   \n",
              "1            0      0        0                      0       0            0   \n",
              "2            0      1        0                      0       0            0   \n",
              "3            1      1        0                      0       0            0   \n",
              "4            1      0        0                      0       0            0   \n",
              "\n",
              "   Kids & Family  Music  Musicals  Mystery  Romance  Sci-Fi  Sport  Thriller  \\\n",
              "0              0      0         0        0        0       0      0         1   \n",
              "1              0      0         0        0        0       0      0         1   \n",
              "2              0      0         0        0        0       0      0         0   \n",
              "3              0      0         0        1        0       0      0         1   \n",
              "4              0      0         0        1        0       0      0         1   \n",
              "\n",
              "   War  Western  Others  1916-1974  1974-1991  1991-2001  2001-2006  \\\n",
              "0    0        0       0          0          0          0          0   \n",
              "1    0        0       0          0          0          0          0   \n",
              "2    0        0       0          0          0          0          0   \n",
              "3    1        0       0          0          0          0          0   \n",
              "4    0        0       0          0          0          0          0   \n",
              "\n",
              "   2006-2008  2008-2010  2010-2012  2012-2013  2013-2014  2014-2017  \n",
              "0          0          0          0          1          0          0  \n",
              "1          0          0          0          1          0          0  \n",
              "2          0          0          1          0          0          0  \n",
              "3          1          0          0          0          0          0  \n",
              "4          0          0          0          1          0          0  "
            ],
            "text/html": [
              "\n",
              "  <div id=\"df-9f5767b8-5081-4263-a6eb-8a99e744b20a\">\n",
              "    <div class=\"colab-df-container\">\n",
              "      <div>\n",
              "<style scoped>\n",
              "    .dataframe tbody tr th:only-of-type {\n",
              "        vertical-align: middle;\n",
              "    }\n",
              "\n",
              "    .dataframe tbody tr th {\n",
              "        vertical-align: top;\n",
              "    }\n",
              "\n",
              "    .dataframe thead th {\n",
              "        text-align: right;\n",
              "    }\n",
              "</style>\n",
              "<table border=\"1\" class=\"dataframe\">\n",
              "  <thead>\n",
              "    <tr style=\"text-align: right;\">\n",
              "      <th></th>\n",
              "      <th>video_id</th>\n",
              "      <th>cvt_per_day</th>\n",
              "      <th>weighted_categorical_position</th>\n",
              "      <th>weighted_horizontal_position</th>\n",
              "      <th>imdb_votes</th>\n",
              "      <th>budget</th>\n",
              "      <th>boxoffice</th>\n",
              "      <th>imdb_rating</th>\n",
              "      <th>duration_in_mins</th>\n",
              "      <th>metacritic_score</th>\n",
              "      <th>star_category</th>\n",
              "      <th>lionsgate</th>\n",
              "      <th>mgm</th>\n",
              "      <th>other</th>\n",
              "      <th>paramount</th>\n",
              "      <th>G</th>\n",
              "      <th>NC-17</th>\n",
              "      <th>NotRated</th>\n",
              "      <th>PG</th>\n",
              "      <th>PG-13</th>\n",
              "      <th>R</th>\n",
              "      <th>BAFTA</th>\n",
              "      <th>Golden Globe</th>\n",
              "      <th>Oscar</th>\n",
              "      <th>no award</th>\n",
              "      <th>other award</th>\n",
              "      <th>Action</th>\n",
              "      <th>Adventure</th>\n",
              "      <th>Animation</th>\n",
              "      <th>Comedy</th>\n",
              "      <th>Crime</th>\n",
              "      <th>Documentary</th>\n",
              "      <th>Drama</th>\n",
              "      <th>Fantasy</th>\n",
              "      <th>Foreign/International</th>\n",
              "      <th>Horror</th>\n",
              "      <th>Independent</th>\n",
              "      <th>Kids &amp; Family</th>\n",
              "      <th>Music</th>\n",
              "      <th>Musicals</th>\n",
              "      <th>Mystery</th>\n",
              "      <th>Romance</th>\n",
              "      <th>Sci-Fi</th>\n",
              "      <th>Sport</th>\n",
              "      <th>Thriller</th>\n",
              "      <th>War</th>\n",
              "      <th>Western</th>\n",
              "      <th>Others</th>\n",
              "      <th>1916-1974</th>\n",
              "      <th>1974-1991</th>\n",
              "      <th>1991-2001</th>\n",
              "      <th>2001-2006</th>\n",
              "      <th>2006-2008</th>\n",
              "      <th>2008-2010</th>\n",
              "      <th>2010-2012</th>\n",
              "      <th>2012-2013</th>\n",
              "      <th>2013-2014</th>\n",
              "      <th>2014-2017</th>\n",
              "    </tr>\n",
              "  </thead>\n",
              "  <tbody>\n",
              "    <tr>\n",
              "      <th>0</th>\n",
              "      <td>385504</td>\n",
              "      <td>307127.606</td>\n",
              "      <td>-1.106</td>\n",
              "      <td>-2.116</td>\n",
              "      <td>1.984</td>\n",
              "      <td>1.470</td>\n",
              "      <td>4.696</td>\n",
              "      <td>0.542</td>\n",
              "      <td>1.079</td>\n",
              "      <td>-0.630</td>\n",
              "      <td>0.033</td>\n",
              "      <td>1</td>\n",
              "      <td>0</td>\n",
              "      <td>0</td>\n",
              "      <td>0</td>\n",
              "      <td>0</td>\n",
              "      <td>0</td>\n",
              "      <td>0</td>\n",
              "      <td>0</td>\n",
              "      <td>1</td>\n",
              "      <td>0</td>\n",
              "      <td>0</td>\n",
              "      <td>0</td>\n",
              "      <td>0</td>\n",
              "      <td>0</td>\n",
              "      <td>1</td>\n",
              "      <td>1</td>\n",
              "      <td>0</td>\n",
              "      <td>0</td>\n",
              "      <td>0</td>\n",
              "      <td>0</td>\n",
              "      <td>0</td>\n",
              "      <td>1</td>\n",
              "      <td>0</td>\n",
              "      <td>0</td>\n",
              "      <td>0</td>\n",
              "      <td>0</td>\n",
              "      <td>0</td>\n",
              "      <td>0</td>\n",
              "      <td>0</td>\n",
              "      <td>0</td>\n",
              "      <td>0</td>\n",
              "      <td>0</td>\n",
              "      <td>0</td>\n",
              "      <td>1</td>\n",
              "      <td>0</td>\n",
              "      <td>0</td>\n",
              "      <td>0</td>\n",
              "      <td>0</td>\n",
              "      <td>0</td>\n",
              "      <td>0</td>\n",
              "      <td>0</td>\n",
              "      <td>0</td>\n",
              "      <td>0</td>\n",
              "      <td>0</td>\n",
              "      <td>1</td>\n",
              "      <td>0</td>\n",
              "      <td>0</td>\n",
              "    </tr>\n",
              "    <tr>\n",
              "      <th>1</th>\n",
              "      <td>300175</td>\n",
              "      <td>270338.426</td>\n",
              "      <td>-1.106</td>\n",
              "      <td>-2.116</td>\n",
              "      <td>1.258</td>\n",
              "      <td>1.470</td>\n",
              "      <td>-1.022</td>\n",
              "      <td>0.542</td>\n",
              "      <td>0.257</td>\n",
              "      <td>-1.997</td>\n",
              "      <td>3.434</td>\n",
              "      <td>1</td>\n",
              "      <td>0</td>\n",
              "      <td>0</td>\n",
              "      <td>0</td>\n",
              "      <td>0</td>\n",
              "      <td>0</td>\n",
              "      <td>0</td>\n",
              "      <td>0</td>\n",
              "      <td>0</td>\n",
              "      <td>1</td>\n",
              "      <td>0</td>\n",
              "      <td>0</td>\n",
              "      <td>0</td>\n",
              "      <td>1</td>\n",
              "      <td>0</td>\n",
              "      <td>0</td>\n",
              "      <td>0</td>\n",
              "      <td>0</td>\n",
              "      <td>1</td>\n",
              "      <td>1</td>\n",
              "      <td>0</td>\n",
              "      <td>0</td>\n",
              "      <td>0</td>\n",
              "      <td>0</td>\n",
              "      <td>0</td>\n",
              "      <td>0</td>\n",
              "      <td>0</td>\n",
              "      <td>0</td>\n",
              "      <td>0</td>\n",
              "      <td>0</td>\n",
              "      <td>0</td>\n",
              "      <td>0</td>\n",
              "      <td>0</td>\n",
              "      <td>1</td>\n",
              "      <td>0</td>\n",
              "      <td>0</td>\n",
              "      <td>0</td>\n",
              "      <td>0</td>\n",
              "      <td>0</td>\n",
              "      <td>0</td>\n",
              "      <td>0</td>\n",
              "      <td>0</td>\n",
              "      <td>0</td>\n",
              "      <td>0</td>\n",
              "      <td>1</td>\n",
              "      <td>0</td>\n",
              "      <td>0</td>\n",
              "    </tr>\n",
              "    <tr>\n",
              "      <th>2</th>\n",
              "      <td>361899</td>\n",
              "      <td>256165.867</td>\n",
              "      <td>-1.106</td>\n",
              "      <td>-2.116</td>\n",
              "      <td>6.043</td>\n",
              "      <td>3.108</td>\n",
              "      <td>3.898</td>\n",
              "      <td>1.100</td>\n",
              "      <td>1.243</td>\n",
              "      <td>0.327</td>\n",
              "      <td>2.102</td>\n",
              "      <td>0</td>\n",
              "      <td>0</td>\n",
              "      <td>1</td>\n",
              "      <td>0</td>\n",
              "      <td>0</td>\n",
              "      <td>0</td>\n",
              "      <td>0</td>\n",
              "      <td>0</td>\n",
              "      <td>0</td>\n",
              "      <td>1</td>\n",
              "      <td>0</td>\n",
              "      <td>0</td>\n",
              "      <td>0</td>\n",
              "      <td>0</td>\n",
              "      <td>1</td>\n",
              "      <td>0</td>\n",
              "      <td>0</td>\n",
              "      <td>0</td>\n",
              "      <td>0</td>\n",
              "      <td>1</td>\n",
              "      <td>0</td>\n",
              "      <td>1</td>\n",
              "      <td>0</td>\n",
              "      <td>0</td>\n",
              "      <td>0</td>\n",
              "      <td>0</td>\n",
              "      <td>0</td>\n",
              "      <td>0</td>\n",
              "      <td>0</td>\n",
              "      <td>0</td>\n",
              "      <td>0</td>\n",
              "      <td>0</td>\n",
              "      <td>0</td>\n",
              "      <td>0</td>\n",
              "      <td>0</td>\n",
              "      <td>0</td>\n",
              "      <td>0</td>\n",
              "      <td>0</td>\n",
              "      <td>0</td>\n",
              "      <td>0</td>\n",
              "      <td>0</td>\n",
              "      <td>0</td>\n",
              "      <td>0</td>\n",
              "      <td>1</td>\n",
              "      <td>0</td>\n",
              "      <td>0</td>\n",
              "      <td>0</td>\n",
              "    </tr>\n",
              "    <tr>\n",
              "      <th>3</th>\n",
              "      <td>308314</td>\n",
              "      <td>196622.721</td>\n",
              "      <td>-0.780</td>\n",
              "      <td>-2.032</td>\n",
              "      <td>11.077</td>\n",
              "      <td>1.470</td>\n",
              "      <td>0.767</td>\n",
              "      <td>1.309</td>\n",
              "      <td>1.952</td>\n",
              "      <td>5.250</td>\n",
              "      <td>-0.063</td>\n",
              "      <td>1</td>\n",
              "      <td>0</td>\n",
              "      <td>0</td>\n",
              "      <td>0</td>\n",
              "      <td>0</td>\n",
              "      <td>0</td>\n",
              "      <td>0</td>\n",
              "      <td>0</td>\n",
              "      <td>0</td>\n",
              "      <td>1</td>\n",
              "      <td>0</td>\n",
              "      <td>0</td>\n",
              "      <td>1</td>\n",
              "      <td>0</td>\n",
              "      <td>0</td>\n",
              "      <td>1</td>\n",
              "      <td>0</td>\n",
              "      <td>0</td>\n",
              "      <td>0</td>\n",
              "      <td>0</td>\n",
              "      <td>1</td>\n",
              "      <td>1</td>\n",
              "      <td>0</td>\n",
              "      <td>0</td>\n",
              "      <td>0</td>\n",
              "      <td>0</td>\n",
              "      <td>0</td>\n",
              "      <td>0</td>\n",
              "      <td>0</td>\n",
              "      <td>1</td>\n",
              "      <td>0</td>\n",
              "      <td>0</td>\n",
              "      <td>0</td>\n",
              "      <td>1</td>\n",
              "      <td>1</td>\n",
              "      <td>0</td>\n",
              "      <td>0</td>\n",
              "      <td>0</td>\n",
              "      <td>0</td>\n",
              "      <td>0</td>\n",
              "      <td>0</td>\n",
              "      <td>1</td>\n",
              "      <td>0</td>\n",
              "      <td>0</td>\n",
              "      <td>0</td>\n",
              "      <td>0</td>\n",
              "      <td>0</td>\n",
              "    </tr>\n",
              "    <tr>\n",
              "      <th>4</th>\n",
              "      <td>307201</td>\n",
              "      <td>159841.652</td>\n",
              "      <td>-1.106</td>\n",
              "      <td>-2.116</td>\n",
              "      <td>1.258</td>\n",
              "      <td>3.290</td>\n",
              "      <td>-0.265</td>\n",
              "      <td>0.472</td>\n",
              "      <td>0.758</td>\n",
              "      <td>-2.544</td>\n",
              "      <td>3.029</td>\n",
              "      <td>1</td>\n",
              "      <td>0</td>\n",
              "      <td>0</td>\n",
              "      <td>0</td>\n",
              "      <td>0</td>\n",
              "      <td>0</td>\n",
              "      <td>0</td>\n",
              "      <td>0</td>\n",
              "      <td>0</td>\n",
              "      <td>1</td>\n",
              "      <td>0</td>\n",
              "      <td>0</td>\n",
              "      <td>0</td>\n",
              "      <td>0</td>\n",
              "      <td>1</td>\n",
              "      <td>0</td>\n",
              "      <td>0</td>\n",
              "      <td>0</td>\n",
              "      <td>0</td>\n",
              "      <td>1</td>\n",
              "      <td>1</td>\n",
              "      <td>0</td>\n",
              "      <td>0</td>\n",
              "      <td>0</td>\n",
              "      <td>0</td>\n",
              "      <td>0</td>\n",
              "      <td>0</td>\n",
              "      <td>0</td>\n",
              "      <td>0</td>\n",
              "      <td>1</td>\n",
              "      <td>0</td>\n",
              "      <td>0</td>\n",
              "      <td>0</td>\n",
              "      <td>1</td>\n",
              "      <td>0</td>\n",
              "      <td>0</td>\n",
              "      <td>0</td>\n",
              "      <td>0</td>\n",
              "      <td>0</td>\n",
              "      <td>0</td>\n",
              "      <td>0</td>\n",
              "      <td>0</td>\n",
              "      <td>0</td>\n",
              "      <td>0</td>\n",
              "      <td>1</td>\n",
              "      <td>0</td>\n",
              "      <td>0</td>\n",
              "    </tr>\n",
              "  </tbody>\n",
              "</table>\n",
              "</div>\n",
              "      <button class=\"colab-df-convert\" onclick=\"convertToInteractive('df-9f5767b8-5081-4263-a6eb-8a99e744b20a')\"\n",
              "              title=\"Convert this dataframe to an interactive table.\"\n",
              "              style=\"display:none;\">\n",
              "        \n",
              "  <svg xmlns=\"http://www.w3.org/2000/svg\" height=\"24px\"viewBox=\"0 0 24 24\"\n",
              "       width=\"24px\">\n",
              "    <path d=\"M0 0h24v24H0V0z\" fill=\"none\"/>\n",
              "    <path d=\"M18.56 5.44l.94 2.06.94-2.06 2.06-.94-2.06-.94-.94-2.06-.94 2.06-2.06.94zm-11 1L8.5 8.5l.94-2.06 2.06-.94-2.06-.94L8.5 2.5l-.94 2.06-2.06.94zm10 10l.94 2.06.94-2.06 2.06-.94-2.06-.94-.94-2.06-.94 2.06-2.06.94z\"/><path d=\"M17.41 7.96l-1.37-1.37c-.4-.4-.92-.59-1.43-.59-.52 0-1.04.2-1.43.59L10.3 9.45l-7.72 7.72c-.78.78-.78 2.05 0 2.83L4 21.41c.39.39.9.59 1.41.59.51 0 1.02-.2 1.41-.59l7.78-7.78 2.81-2.81c.8-.78.8-2.07 0-2.86zM5.41 20L4 18.59l7.72-7.72 1.47 1.35L5.41 20z\"/>\n",
              "  </svg>\n",
              "      </button>\n",
              "      \n",
              "  <style>\n",
              "    .colab-df-container {\n",
              "      display:flex;\n",
              "      flex-wrap:wrap;\n",
              "      gap: 12px;\n",
              "    }\n",
              "\n",
              "    .colab-df-convert {\n",
              "      background-color: #E8F0FE;\n",
              "      border: none;\n",
              "      border-radius: 50%;\n",
              "      cursor: pointer;\n",
              "      display: none;\n",
              "      fill: #1967D2;\n",
              "      height: 32px;\n",
              "      padding: 0 0 0 0;\n",
              "      width: 32px;\n",
              "    }\n",
              "\n",
              "    .colab-df-convert:hover {\n",
              "      background-color: #E2EBFA;\n",
              "      box-shadow: 0px 1px 2px rgba(60, 64, 67, 0.3), 0px 1px 3px 1px rgba(60, 64, 67, 0.15);\n",
              "      fill: #174EA6;\n",
              "    }\n",
              "\n",
              "    [theme=dark] .colab-df-convert {\n",
              "      background-color: #3B4455;\n",
              "      fill: #D2E3FC;\n",
              "    }\n",
              "\n",
              "    [theme=dark] .colab-df-convert:hover {\n",
              "      background-color: #434B5C;\n",
              "      box-shadow: 0px 1px 3px 1px rgba(0, 0, 0, 0.15);\n",
              "      filter: drop-shadow(0px 1px 2px rgba(0, 0, 0, 0.3));\n",
              "      fill: #FFFFFF;\n",
              "    }\n",
              "  </style>\n",
              "\n",
              "      <script>\n",
              "        const buttonEl =\n",
              "          document.querySelector('#df-9f5767b8-5081-4263-a6eb-8a99e744b20a button.colab-df-convert');\n",
              "        buttonEl.style.display =\n",
              "          google.colab.kernel.accessAllowed ? 'block' : 'none';\n",
              "\n",
              "        async function convertToInteractive(key) {\n",
              "          const element = document.querySelector('#df-9f5767b8-5081-4263-a6eb-8a99e744b20a');\n",
              "          const dataTable =\n",
              "            await google.colab.kernel.invokeFunction('convertToInteractive',\n",
              "                                                     [key], {});\n",
              "          if (!dataTable) return;\n",
              "\n",
              "          const docLinkHtml = 'Like what you see? Visit the ' +\n",
              "            '<a target=\"_blank\" href=https://colab.research.google.com/notebooks/data_table.ipynb>data table notebook</a>'\n",
              "            + ' to learn more about interactive tables.';\n",
              "          element.innerHTML = '';\n",
              "          dataTable['output_type'] = 'display_data';\n",
              "          await google.colab.output.renderOutput(dataTable, element);\n",
              "          const docLink = document.createElement('div');\n",
              "          docLink.innerHTML = docLinkHtml;\n",
              "          element.appendChild(docLink);\n",
              "        }\n",
              "      </script>\n",
              "    </div>\n",
              "  </div>\n",
              "  "
            ]
          },
          "metadata": {},
          "execution_count": 85
        }
      ]
    },
    {
      "cell_type": "code",
      "source": [
        "TV_final.info()"
      ],
      "metadata": {
        "colab": {
          "base_uri": "https://localhost:8080/"
        },
        "id": "TzhSjl1HXmyh",
        "outputId": "6ad996d0-402a-458a-e97b-21f4e25d1730"
      },
      "execution_count": null,
      "outputs": [
        {
          "output_type": "stream",
          "name": "stdout",
          "text": [
            "<class 'pandas.core.frame.DataFrame'>\n",
            "RangeIndex: 4226 entries, 0 to 4225\n",
            "Data columns (total 58 columns):\n",
            " #   Column                         Non-Null Count  Dtype  \n",
            "---  ------                         --------------  -----  \n",
            " 0   video_id                       4226 non-null   int64  \n",
            " 1   cvt_per_day                    4226 non-null   float64\n",
            " 2   weighted_categorical_position  4226 non-null   float64\n",
            " 3   weighted_horizontal_position   4226 non-null   float64\n",
            " 4   imdb_votes                     4226 non-null   float64\n",
            " 5   budget                         4226 non-null   float64\n",
            " 6   boxoffice                      4226 non-null   float64\n",
            " 7   imdb_rating                    4226 non-null   float64\n",
            " 8   duration_in_mins               4226 non-null   float64\n",
            " 9   metacritic_score               4226 non-null   float64\n",
            " 10  star_category                  4226 non-null   float64\n",
            " 11  lionsgate                      4226 non-null   uint8  \n",
            " 12  mgm                            4226 non-null   uint8  \n",
            " 13  other                          4226 non-null   uint8  \n",
            " 14  paramount                      4226 non-null   uint8  \n",
            " 15  G                              4226 non-null   uint8  \n",
            " 16  NC-17                          4226 non-null   uint8  \n",
            " 17  NotRated                       4226 non-null   uint8  \n",
            " 18  PG                             4226 non-null   uint8  \n",
            " 19  PG-13                          4226 non-null   uint8  \n",
            " 20  R                              4226 non-null   uint8  \n",
            " 21  BAFTA                          4226 non-null   uint8  \n",
            " 22  Golden Globe                   4226 non-null   uint8  \n",
            " 23  Oscar                          4226 non-null   uint8  \n",
            " 24  no award                       4226 non-null   uint8  \n",
            " 25  other award                    4226 non-null   uint8  \n",
            " 26  Action                         4226 non-null   int64  \n",
            " 27  Adventure                      4226 non-null   int64  \n",
            " 28  Animation                      4226 non-null   int64  \n",
            " 29  Comedy                         4226 non-null   int64  \n",
            " 30  Crime                          4226 non-null   int64  \n",
            " 31  Documentary                    4226 non-null   int64  \n",
            " 32  Drama                          4226 non-null   int64  \n",
            " 33  Fantasy                        4226 non-null   int64  \n",
            " 34  Foreign/International          4226 non-null   int64  \n",
            " 35  Horror                         4226 non-null   int64  \n",
            " 36  Independent                    4226 non-null   int64  \n",
            " 37  Kids & Family                  4226 non-null   int64  \n",
            " 38  Music                          4226 non-null   int64  \n",
            " 39  Musicals                       4226 non-null   int64  \n",
            " 40  Mystery                        4226 non-null   int64  \n",
            " 41  Romance                        4226 non-null   int64  \n",
            " 42  Sci-Fi                         4226 non-null   int64  \n",
            " 43  Sport                          4226 non-null   int64  \n",
            " 44  Thriller                       4226 non-null   int64  \n",
            " 45  War                            4226 non-null   int64  \n",
            " 46  Western                        4226 non-null   int64  \n",
            " 47  Others                         4226 non-null   int64  \n",
            " 48  1916-1974                      4226 non-null   uint8  \n",
            " 49  1974-1991                      4226 non-null   uint8  \n",
            " 50  1991-2001                      4226 non-null   uint8  \n",
            " 51  2001-2006                      4226 non-null   uint8  \n",
            " 52  2006-2008                      4226 non-null   uint8  \n",
            " 53  2008-2010                      4226 non-null   uint8  \n",
            " 54  2010-2012                      4226 non-null   uint8  \n",
            " 55  2012-2013                      4226 non-null   uint8  \n",
            " 56  2013-2014                      4226 non-null   uint8  \n",
            " 57  2014-2017                      4226 non-null   uint8  \n",
            "dtypes: float64(10), int64(23), uint8(25)\n",
            "memory usage: 1.2 MB\n"
          ]
        }
      ]
    },
    {
      "cell_type": "markdown",
      "source": [
        "# Part 3. Model Training"
      ],
      "metadata": {
        "id": "_WJKNkXTLOJI"
      }
    },
    {
      "cell_type": "code",
      "source": [
        "train, test = train_test_split(TV_final, test_size=0.15, random_state = 3)\n",
        "\n",
        "model_train_x = train.drop(['video_id', 'cvt_per_day'], axis = 1)\n",
        "model_test_x = test.drop(['video_id', 'cvt_per_day'], axis = 1)\n",
        "\n",
        "model_train_y = train['cvt_per_day']\n",
        "model_test_y = test['cvt_per_day']\n",
        "\n",
        "print('Training data has ' + str(model_train_x.shape[0]) + ' observation with ' + str(model_train_x.shape[1]) + ' features.')\n",
        "print('Test data has ' + str(model_test_x.shape[0]) + ' observation with ' + str(model_test_x.shape[1]) + ' features.')"
      ],
      "metadata": {
        "id": "Fdy65Gm1E2R4",
        "colab": {
          "base_uri": "https://localhost:8080/"
        },
        "outputId": "6d9aad7b-1890-4062-b67c-2fea4db05de7"
      },
      "execution_count": null,
      "outputs": [
        {
          "output_type": "stream",
          "name": "stdout",
          "text": [
            "Training data has 3592 observation with 56 features.\n",
            "Test data has 634 observation with 56 features.\n"
          ]
        }
      ]
    },
    {
      "cell_type": "code",
      "source": [
        "lr_train, lr_validate = train_test_split(train, test_size = 0.15, random_state = 0)\n",
        "\n",
        "lr_train_x = lr_train.drop(['video_id', 'cvt_per_day'], axis = 1)\n",
        "lr_validate_x = lr_validate.drop(['video_id', 'cvt_per_day'], axis = 1)\n",
        "lr_train_y = lr_train['cvt_per_day']\n",
        "lr_validate_y = lr_validate['cvt_per_day']\n",
        "\n",
        "print('Training data has ' + str(lr_train_x.shape[0]) + ' observation with ' + str(lr_train_x.shape[1]) + ' features.')\n",
        "print('Validate data has ' + str(lr_validate_x.shape[0]) + ' observation with ' + str(lr_validate_x.shape[1]) + ' features.')"
      ],
      "metadata": {
        "id": "odAqDx33HL72",
        "colab": {
          "base_uri": "https://localhost:8080/"
        },
        "outputId": "40a8841a-11f8-46b0-cf6a-398fd4e9d094"
      },
      "execution_count": null,
      "outputs": [
        {
          "output_type": "stream",
          "name": "stdout",
          "text": [
            "Training data has 3053 observation with 56 features.\n",
            "Validate data has 539 observation with 56 features.\n"
          ]
        }
      ]
    },
    {
      "cell_type": "markdown",
      "source": [
        "## 3.1 Lasso Linear Regression"
      ],
      "metadata": {
        "id": "MZZY_ydI7vh2"
      }
    },
    {
      "cell_type": "code",
      "source": [
        "alphas1 = np.linspace (1, 201, num = 500)\n",
        "scores1 = np.empty_like(alphas1)\n",
        "opt_a1 = float('-inf')\n",
        "max_score1 = float('-inf')"
      ],
      "metadata": {
        "id": "Lp5eS1gfJspt"
      },
      "execution_count": null,
      "outputs": []
    },
    {
      "cell_type": "code",
      "source": [
        "for i, a in enumerate(alphas1):\n",
        "    lasso = Lasso()\n",
        "    lasso.set_params(alpha = a)\n",
        "    lasso.fit(lr_train_x, lr_train_y)\n",
        "    scores1[i] = lasso.score(lr_validate_x, lr_validate_y)\n",
        "    if scores1[i] > max_score1:\n",
        "        max_score1 = scores1[i]\n",
        "        opt_a1 = a\n",
        "        lasso_save1 = lasso #optional code"
      ],
      "metadata": {
        "id": "xdUjgy1rLrM8"
      },
      "execution_count": null,
      "outputs": []
    },
    {
      "cell_type": "code",
      "source": [
        "plt.plot(alphas1, scores1, color = 'cornflowerblue', linestyle = 'dashed', marker = 'o',markerfacecolor = 'cornflowerblue', markersize = 3)\n",
        "plt.xlabel('alpha')\n",
        "plt.ylabel('score')\n",
        "plt.grid(True)\n",
        "plt.title('score vs. alpha')\n",
        "plt.show()\n",
        "\n",
        "model1_para = opt_a1\n",
        "print('The optimized alpha of Lasso Linear Mode is ', opt_a1)\n",
        "print('The optimized score of Lasso Linear Mode is ', max_score1)"
      ],
      "metadata": {
        "colab": {
          "base_uri": "https://localhost:8080/",
          "height": 330
        },
        "id": "ba85pdvOMPHW",
        "outputId": "22d2310a-c50c-436f-adb8-2a3d2213631c"
      },
      "execution_count": null,
      "outputs": [
        {
          "output_type": "display_data",
          "data": {
            "text/plain": [
              "<Figure size 432x288 with 1 Axes>"
            ],
            "image/png": "[encoded data removed]"
          },
          "metadata": {
            "needs_background": "light"
          }
        },
        {
          "output_type": "stream",
          "name": "stdout",
          "text": [
            "The optimized alpha of Lasso Linear Mode is  125.64929859719439\n",
            "The optimized score of Lasso Linear Mode is  0.3646194368519905\n"
          ]
        }
      ]
    },
    {
      "cell_type": "code",
      "source": [
        "# use optimized alpha given above to retrain the data with both traning data and validate data\n",
        "lasso_f = Lasso()\n",
        "lasso_f.set_params(alpha = opt_a1)\n",
        "lasso_f.fit(model_train_x, model_train_y)"
      ],
      "metadata": {
        "colab": {
          "base_uri": "https://localhost:8080/"
        },
        "id": "syVaxHINoM9F",
        "outputId": "d073e4fd-a719-4b21-e4c5-34e30a19fe1b"
      },
      "execution_count": null,
      "outputs": [
        {
          "output_type": "execute_result",
          "data": {
            "text/plain": [
              "Lasso(alpha=125.64929859719439)"
            ]
          },
          "metadata": {},
          "execution_count": 216
        }
      ]
    },
    {
      "cell_type": "markdown",
      "source": [
        "## 3.2 Ridge Linear Regression"
      ],
      "metadata": {
        "id": "iNDGsTa274pc"
      }
    },
    {
      "cell_type": "code",
      "source": [
        "alphas2 = np.linspace (1, 201, num = 500)\n",
        "scores2 = np.empty_like(alphas2)\n",
        "opt_a2 = float('-inf')\n",
        "max_score2 = float('-inf')"
      ],
      "metadata": {
        "id": "oKV57ogX0lp-"
      },
      "execution_count": null,
      "outputs": []
    },
    {
      "cell_type": "code",
      "source": [
        "for i, a in enumerate(alphas2):\n",
        "  ridge = Ridge()\n",
        "  ridge.set_params(alpha = a)\n",
        "  ridge.fit(lr_train_x, lr_train_y)\n",
        "  scores2[i] = ridge.score(lr_validate_x, lr_validate_y)\n",
        "  if scores2[i] > max_score2:\n",
        "    max_score2 = scores2[i]\n",
        "    opt_a2 = a\n",
        "    ridge_save2 = ridge"
      ],
      "metadata": {
        "id": "XYPjwtUAqWI3"
      },
      "execution_count": null,
      "outputs": []
    },
    {
      "cell_type": "code",
      "source": [
        "plt.plot(alphas2, scores2, color = 'lightsalmon', linestyle = 'dashed', marker = 'o', markerfacecolor = 'lightsalmon', markersize = 3)\n",
        "plt.xlabel('alpha')\n",
        "plt.ylabel('score')\n",
        "plt.grid(True)\n",
        "plt.title('Score vs Alpha')\n",
        "plt.show()\n",
        "\n",
        "model2_para = opt_a2\n",
        "print('The optimized alpha of Ridge Linear Mode is ', opt_a2)\n",
        "print('The optimized score of Ridge Linear Mode is ', max_score2)"
      ],
      "metadata": {
        "colab": {
          "base_uri": "https://localhost:8080/",
          "height": 330
        },
        "id": "Ybe0945PqtYH",
        "outputId": "181d8510-17db-4196-b0a8-43c007e2c821"
      },
      "execution_count": null,
      "outputs": [
        {
          "output_type": "display_data",
          "data": {
            "text/plain": [
              "<Figure size 432x288 with 1 Axes>"
            ],
            "image/png": "[encoded data removed]"
          },
          "metadata": {
            "needs_background": "light"
          }
        },
        {
          "output_type": "stream",
          "name": "stdout",
          "text": [
            "The optimized alpha of Ridge Linear Mode is  172.5430861723447\n",
            "The optimized score of Ridge Linear Mode is  0.3529726994066543\n"
          ]
        }
      ]
    },
    {
      "cell_type": "code",
      "source": [
        "# use optimized alpha given above to retrain the data with both traning data and validate data\n",
        "ridge_f = Ridge()\n",
        "ridge_f.set_params(alpha = opt_a2)\n",
        "ridge_f.fit(model_train_x, model_train_y)"
      ],
      "metadata": {
        "colab": {
          "base_uri": "https://localhost:8080/"
        },
        "id": "T-78FzAd0SdI",
        "outputId": "e2ef987e-bfb4-409f-d700-caaa55ea01e1"
      },
      "execution_count": null,
      "outputs": [
        {
          "output_type": "execute_result",
          "data": {
            "text/plain": [
              "Ridge(alpha=172.5430861723447)"
            ]
          },
          "metadata": {},
          "execution_count": 221
        }
      ]
    },
    {
      "cell_type": "markdown",
      "source": [
        "## 3.3 Random Forest Regression"
      ],
      "metadata": {
        "id": "LHHykcFM78oh"
      }
    },
    {
      "cell_type": "code",
      "source": [
        "rf = RandomForestRegressor(random_state = 2, max_features = 'sqrt')\n",
        "param_grid = {'n_estimators': [55, 56, 57, 58, 59, 60, 61, 62, 63, 64, 65], 'max_depth': [15, 16, 17, 28, 19, 20, 21, 22]}\n",
        "clf = GridSearchCV(estimator = rf, param_grid = param_grid, cv = 5)\n",
        "clf.fit(model_train_x, model_train_y)"
      ],
      "metadata": {
        "colab": {
          "base_uri": "https://localhost:8080/"
        },
        "id": "tYhI5LuP3BZx",
        "outputId": "c1b6061b-c6fd-4702-d36b-4551799640ec"
      },
      "execution_count": null,
      "outputs": [
        {
          "output_type": "execute_result",
          "data": {
            "text/plain": [
              "GridSearchCV(cv=5,\n",
              "             estimator=RandomForestRegressor(max_features='sqrt',\n",
              "                                             random_state=2),\n",
              "             param_grid={'max_depth': [15, 16, 17, 28, 19, 20, 21, 22],\n",
              "                         'n_estimators': [55, 56, 57, 58, 59, 60, 61, 62, 63,\n",
              "                                          64, 65]})"
            ]
          },
          "metadata": {},
          "execution_count": 223
        }
      ]
    },
    {
      "cell_type": "code",
      "source": [
        "rst = clf.cv_results_\n",
        "print(rst)"
      ],
      "metadata": {
        "colab": {
          "base_uri": "https://localhost:8080/"
        },
        "id": "MzqqmV3tAqN3",
        "outputId": "f0cdaad3-0e4a-4d62-9503-cea4ad0c7c57"
      },
      "execution_count": null,
      "outputs": [
        {
          "output_type": "stream",
          "name": "stdout",
          "text": [
            "{'mean_fit_time': array([0.24208355, 0.23912134, 0.2448339 , 0.25159245, 0.25549574,\n",
            "       0.25639248, 0.26284957, 0.26556168, 0.26902199, 0.27718968,\n",
            "       0.27529278, 0.25207548, 0.25193763, 0.25694118, 0.26625328,\n",
            "       0.2655839 , 0.26954536, 0.2739552 , 0.27928882, 0.28205562,\n",
            "       0.2843329 , 0.29086108, 0.26001844, 0.26340895, 0.26979079,\n",
            "       0.27645125, 0.28100867, 0.28376532, 0.28841448, 0.29229536,\n",
            "       0.29769559, 0.30170679, 0.30624056, 0.30845966, 0.32011385,\n",
            "       0.32415419, 0.32626882, 0.33296657, 0.34098806, 0.34301076,\n",
            "       0.34641256, 0.35936999, 0.3638886 , 0.3668551 , 0.27615499,\n",
            "       0.28320823, 0.28383861, 0.28802719, 0.2946887 , 0.30033746,\n",
            "       0.30678191, 0.3113277 , 0.3180809 , 0.31904945, 0.32153058,\n",
            "       0.28328385, 0.29033523, 0.29335785, 0.296242  , 0.29928102,\n",
            "       0.30865254, 0.31435642, 0.32142706, 0.32230673, 0.32673841,\n",
            "       0.33139682, 0.28789678, 0.29630857, 0.30047216, 0.30183091,\n",
            "       0.31367083, 0.31512756, 0.32137265, 0.32878132, 0.3339118 ,\n",
            "       0.33533154, 0.34379435, 0.29345636, 0.296979  , 0.30614743,\n",
            "       0.31145482, 0.31690578, 0.32100334, 0.32587056, 0.33101983,\n",
            "       0.33983417, 0.34387212, 0.35056472]), 'std_fit_time': array([0.00520456, 0.00327582, 0.0021637 , 0.00477132, 0.00497004,\n",
            "       0.00273074, 0.00422021, 0.00438443, 0.00381308, 0.00387407,\n",
            "       0.00198641, 0.00445883, 0.00215101, 0.00411075, 0.00617994,\n",
            "       0.00514014, 0.00372228, 0.00438787, 0.00365903, 0.00455839,\n",
            "       0.00275805, 0.00366969, 0.00345301, 0.00307969, 0.00579684,\n",
            "       0.00788717, 0.00511598, 0.0054213 , 0.00436033, 0.00572998,\n",
            "       0.00486695, 0.00291024, 0.00618729, 0.00371048, 0.00297032,\n",
            "       0.00482029, 0.00371742, 0.00484923, 0.00732335, 0.00591185,\n",
            "       0.00561252, 0.01071555, 0.00445415, 0.01047263, 0.00354196,\n",
            "       0.00382428, 0.00452686, 0.00368428, 0.00328418, 0.00157051,\n",
            "       0.0081209 , 0.00564587, 0.00556   , 0.00230421, 0.00340553,\n",
            "       0.003323  , 0.00711475, 0.00302383, 0.0029096 , 0.00285339,\n",
            "       0.0047811 , 0.00397151, 0.00920789, 0.00685243, 0.00245037,\n",
            "       0.00494087, 0.00537813, 0.00297437, 0.00346519, 0.00364031,\n",
            "       0.00382721, 0.00451556, 0.00443684, 0.00478424, 0.00542444,\n",
            "       0.00407146, 0.0056873 , 0.00668598, 0.00352878, 0.00194085,\n",
            "       0.0090456 , 0.0058686 , 0.00472212, 0.00492083, 0.00561881,\n",
            "       0.00484944, 0.00597888, 0.00851517]), 'mean_score_time': array([0.01423364, 0.01438475, 0.01471038, 0.01472225, 0.01575089,\n",
            "       0.01622076, 0.01510201, 0.01606555, 0.01552033, 0.0156157 ,\n",
            "       0.01746254, 0.0146534 , 0.01467295, 0.01558008, 0.01609702,\n",
            "       0.01572475, 0.01549087, 0.01712327, 0.01630874, 0.01606903,\n",
            "       0.01629982, 0.01643338, 0.01562581, 0.0154119 , 0.01542711,\n",
            "       0.01618233, 0.01619916, 0.01620188, 0.01692448, 0.01679988,\n",
            "       0.01749196, 0.0177155 , 0.01824851, 0.01849723, 0.01858721,\n",
            "       0.01932416, 0.01919937, 0.01960711, 0.0198822 , 0.02024794,\n",
            "       0.0219635 , 0.02110181, 0.021421  , 0.02127366, 0.01603937,\n",
            "       0.01640654, 0.01633835, 0.01689496, 0.0168622 , 0.01718802,\n",
            "       0.01752858, 0.01830006, 0.01856761, 0.01832623, 0.0182116 ,\n",
            "       0.01755338, 0.01704245, 0.01713338, 0.01767955, 0.01753993,\n",
            "       0.01796589, 0.01826634, 0.01820173, 0.01856065, 0.01890054,\n",
            "       0.01914706, 0.01698694, 0.01752644, 0.01862345, 0.01769404,\n",
            "       0.01816258, 0.01842575, 0.01851759, 0.01868911, 0.01997647,\n",
            "       0.01928229, 0.01962218, 0.01794219, 0.01747804, 0.01785393,\n",
            "       0.01980534, 0.0184247 , 0.01966853, 0.02018151, 0.01903958,\n",
            "       0.01924596, 0.01980877, 0.01993489]), 'std_score_time': array([3.54629293e-04, 7.49074812e-04, 6.04576216e-04, 3.05169620e-04,\n",
            "       1.69640667e-03, 2.69519489e-03, 1.10730644e-04, 1.33361976e-03,\n",
            "       2.23364084e-04, 1.79066353e-04, 2.75900322e-03, 2.84212683e-04,\n",
            "       1.93890420e-04, 1.42577795e-03, 1.26699313e-03, 8.55952565e-04,\n",
            "       2.27652097e-04, 2.76547406e-03, 6.02023264e-04, 2.41939609e-04,\n",
            "       2.89400387e-04, 1.82695638e-04, 1.08220284e-03, 2.83503227e-04,\n",
            "       1.44172643e-04, 7.34624874e-04, 5.11376304e-04, 2.20111338e-04,\n",
            "       5.36001546e-04, 5.48169463e-04, 3.99553478e-04, 1.08696693e-03,\n",
            "       1.91121804e-03, 4.41661238e-04, 1.95901024e-04, 3.57794011e-04,\n",
            "       3.53688317e-04, 2.33403942e-04, 3.69018574e-04, 7.50654602e-04,\n",
            "       2.26407054e-03, 7.93328321e-04, 5.80725788e-04, 5.24623024e-04,\n",
            "       3.00807422e-04, 1.41492538e-04, 2.28380807e-04, 1.03579480e-04,\n",
            "       1.19841558e-04, 2.11503131e-04, 2.34082290e-04, 1.44749301e-03,\n",
            "       3.79015760e-04, 2.78355111e-04, 1.81434064e-04, 1.25028155e-03,\n",
            "       3.85906389e-04, 1.46650925e-04, 7.88415391e-04, 7.94542068e-05,\n",
            "       2.03763939e-04, 3.53319204e-04, 1.53624959e-04, 1.80231263e-04,\n",
            "       5.29180498e-04, 2.53690929e-04, 2.03108596e-04, 5.68602217e-04,\n",
            "       2.16811276e-03, 3.39229321e-04, 1.43381104e-04, 2.58783150e-04,\n",
            "       1.41861146e-04, 2.07300390e-04, 1.41284280e-03, 2.15252258e-04,\n",
            "       2.44158161e-04, 1.18946039e-03, 2.47948830e-04, 1.62101520e-04,\n",
            "       2.48180101e-03, 1.71400999e-04, 1.19010647e-03, 1.72134862e-03,\n",
            "       1.67569180e-04, 3.06365948e-04, 4.96496831e-04, 3.20066478e-04]), 'param_max_depth': masked_array(data=[15, 15, 15, 15, 15, 15, 15, 15, 15, 15, 15, 16, 16, 16,\n",
            "                   16, 16, 16, 16, 16, 16, 16, 16, 17, 17, 17, 17, 17, 17,\n",
            "                   17, 17, 17, 17, 17, 28, 28, 28, 28, 28, 28, 28, 28, 28,\n",
            "                   28, 28, 19, 19, 19, 19, 19, 19, 19, 19, 19, 19, 19, 20,\n",
            "                   20, 20, 20, 20, 20, 20, 20, 20, 20, 20, 21, 21, 21, 21,\n",
            "                   21, 21, 21, 21, 21, 21, 21, 22, 22, 22, 22, 22, 22, 22,\n",
            "                   22, 22, 22, 22],\n",
            "             mask=[False, False, False, False, False, False, False, False,\n",
            "                   False, False, False, False, False, False, False, False,\n",
            "                   False, False, False, False, False, False, False, False,\n",
            "                   False, False, False, False, False, False, False, False,\n",
            "                   False, False, False, False, False, False, False, False,\n",
            "                   False, False, False, False, False, False, False, False,\n",
            "                   False, False, False, False, False, False, False, False,\n",
            "                   False, False, False, False, False, False, False, False,\n",
            "                   False, False, False, False, False, False, False, False,\n",
            "                   False, False, False, False, False, False, False, False,\n",
            "                   False, False, False, False, False, False, False, False],\n",
            "       fill_value='?',\n",
            "            dtype=object), 'param_n_estimators': masked_array(data=[55, 56, 57, 58, 59, 60, 61, 62, 63, 64, 65, 55, 56, 57,\n",
            "                   58, 59, 60, 61, 62, 63, 64, 65, 55, 56, 57, 58, 59, 60,\n",
            "                   61, 62, 63, 64, 65, 55, 56, 57, 58, 59, 60, 61, 62, 63,\n",
            "                   64, 65, 55, 56, 57, 58, 59, 60, 61, 62, 63, 64, 65, 55,\n",
            "                   56, 57, 58, 59, 60, 61, 62, 63, 64, 65, 55, 56, 57, 58,\n",
            "                   59, 60, 61, 62, 63, 64, 65, 55, 56, 57, 58, 59, 60, 61,\n",
            "                   62, 63, 64, 65],\n",
            "             mask=[False, False, False, False, False, False, False, False,\n",
            "                   False, False, False, False, False, False, False, False,\n",
            "                   False, False, False, False, False, False, False, False,\n",
            "                   False, False, False, False, False, False, False, False,\n",
            "                   False, False, False, False, False, False, False, False,\n",
            "                   False, False, False, False, False, False, False, False,\n",
            "                   False, False, False, False, False, False, False, False,\n",
            "                   False, False, False, False, False, False, False, False,\n",
            "                   False, False, False, False, False, False, False, False,\n",
            "                   False, False, False, False, False, False, False, False,\n",
            "                   False, False, False, False, False, False, False, False],\n",
            "       fill_value='?',\n",
            "            dtype=object), 'params': [{'max_depth': 15, 'n_estimators': 55}, {'max_depth': 15, 'n_estimators': 56}, {'max_depth': 15, 'n_estimators': 57}, {'max_depth': 15, 'n_estimators': 58}, {'max_depth': 15, 'n_estimators': 59}, {'max_depth': 15, 'n_estimators': 60}, {'max_depth': 15, 'n_estimators': 61}, {'max_depth': 15, 'n_estimators': 62}, {'max_depth': 15, 'n_estimators': 63}, {'max_depth': 15, 'n_estimators': 64}, {'max_depth': 15, 'n_estimators': 65}, {'max_depth': 16, 'n_estimators': 55}, {'max_depth': 16, 'n_estimators': 56}, {'max_depth': 16, 'n_estimators': 57}, {'max_depth': 16, 'n_estimators': 58}, {'max_depth': 16, 'n_estimators': 59}, {'max_depth': 16, 'n_estimators': 60}, {'max_depth': 16, 'n_estimators': 61}, {'max_depth': 16, 'n_estimators': 62}, {'max_depth': 16, 'n_estimators': 63}, {'max_depth': 16, 'n_estimators': 64}, {'max_depth': 16, 'n_estimators': 65}, {'max_depth': 17, 'n_estimators': 55}, {'max_depth': 17, 'n_estimators': 56}, {'max_depth': 17, 'n_estimators': 57}, {'max_depth': 17, 'n_estimators': 58}, {'max_depth': 17, 'n_estimators': 59}, {'max_depth': 17, 'n_estimators': 60}, {'max_depth': 17, 'n_estimators': 61}, {'max_depth': 17, 'n_estimators': 62}, {'max_depth': 17, 'n_estimators': 63}, {'max_depth': 17, 'n_estimators': 64}, {'max_depth': 17, 'n_estimators': 65}, {'max_depth': 28, 'n_estimators': 55}, {'max_depth': 28, 'n_estimators': 56}, {'max_depth': 28, 'n_estimators': 57}, {'max_depth': 28, 'n_estimators': 58}, {'max_depth': 28, 'n_estimators': 59}, {'max_depth': 28, 'n_estimators': 60}, {'max_depth': 28, 'n_estimators': 61}, {'max_depth': 28, 'n_estimators': 62}, {'max_depth': 28, 'n_estimators': 63}, {'max_depth': 28, 'n_estimators': 64}, {'max_depth': 28, 'n_estimators': 65}, {'max_depth': 19, 'n_estimators': 55}, {'max_depth': 19, 'n_estimators': 56}, {'max_depth': 19, 'n_estimators': 57}, {'max_depth': 19, 'n_estimators': 58}, {'max_depth': 19, 'n_estimators': 59}, {'max_depth': 19, 'n_estimators': 60}, {'max_depth': 19, 'n_estimators': 61}, {'max_depth': 19, 'n_estimators': 62}, {'max_depth': 19, 'n_estimators': 63}, {'max_depth': 19, 'n_estimators': 64}, {'max_depth': 19, 'n_estimators': 65}, {'max_depth': 20, 'n_estimators': 55}, {'max_depth': 20, 'n_estimators': 56}, {'max_depth': 20, 'n_estimators': 57}, {'max_depth': 20, 'n_estimators': 58}, {'max_depth': 20, 'n_estimators': 59}, {'max_depth': 20, 'n_estimators': 60}, {'max_depth': 20, 'n_estimators': 61}, {'max_depth': 20, 'n_estimators': 62}, {'max_depth': 20, 'n_estimators': 63}, {'max_depth': 20, 'n_estimators': 64}, {'max_depth': 20, 'n_estimators': 65}, {'max_depth': 21, 'n_estimators': 55}, {'max_depth': 21, 'n_estimators': 56}, {'max_depth': 21, 'n_estimators': 57}, {'max_depth': 21, 'n_estimators': 58}, {'max_depth': 21, 'n_estimators': 59}, {'max_depth': 21, 'n_estimators': 60}, {'max_depth': 21, 'n_estimators': 61}, {'max_depth': 21, 'n_estimators': 62}, {'max_depth': 21, 'n_estimators': 63}, {'max_depth': 21, 'n_estimators': 64}, {'max_depth': 21, 'n_estimators': 65}, {'max_depth': 22, 'n_estimators': 55}, {'max_depth': 22, 'n_estimators': 56}, {'max_depth': 22, 'n_estimators': 57}, {'max_depth': 22, 'n_estimators': 58}, {'max_depth': 22, 'n_estimators': 59}, {'max_depth': 22, 'n_estimators': 60}, {'max_depth': 22, 'n_estimators': 61}, {'max_depth': 22, 'n_estimators': 62}, {'max_depth': 22, 'n_estimators': 63}, {'max_depth': 22, 'n_estimators': 64}, {'max_depth': 22, 'n_estimators': 65}], 'split0_test_score': array([0.38681599, 0.38723614, 0.38698964, 0.38494218, 0.38436152,\n",
            "       0.38480411, 0.38656084, 0.38510328, 0.38447554, 0.38328984,\n",
            "       0.38079124, 0.4403119 , 0.43670628, 0.43548766, 0.4332969 ,\n",
            "       0.43381435, 0.43359511, 0.43270907, 0.4346375 , 0.43156178,\n",
            "       0.43659399, 0.43335253, 0.40283123, 0.40141231, 0.40447322,\n",
            "       0.40372447, 0.39720797, 0.39995383, 0.40174975, 0.40138589,\n",
            "       0.40106514, 0.40422036, 0.40422236, 0.46757956, 0.46956639,\n",
            "       0.47027019, 0.4681961 , 0.4694906 , 0.46851962, 0.46719732,\n",
            "       0.46345939, 0.464064  , 0.46753212, 0.4694345 , 0.41510799,\n",
            "       0.40982777, 0.4125919 , 0.41107861, 0.40375497, 0.39962435,\n",
            "       0.39763593, 0.40237397, 0.4047292 , 0.40898454, 0.40556619,\n",
            "       0.44504414, 0.4411411 , 0.44233469, 0.43639715, 0.43515681,\n",
            "       0.43466184, 0.43699695, 0.43928483, 0.44042641, 0.44513337,\n",
            "       0.44420915, 0.43367684, 0.43312922, 0.43486192, 0.43231876,\n",
            "       0.43252972, 0.43105   , 0.43367854, 0.43066313, 0.42586411,\n",
            "       0.42967086, 0.42886978, 0.42822248, 0.4291007 , 0.43086856,\n",
            "       0.4309363 , 0.43099541, 0.42889115, 0.43264376, 0.42920277,\n",
            "       0.43360917, 0.43394952, 0.43433815]), 'split1_test_score': array([0.53880744, 0.53720842, 0.52974978, 0.53744909, 0.53674746,\n",
            "       0.53683925, 0.53927565, 0.54274834, 0.54486861, 0.54994048,\n",
            "       0.552256  , 0.53639425, 0.53744991, 0.53582768, 0.54562846,\n",
            "       0.54610248, 0.54566226, 0.54839907, 0.55107906, 0.54885751,\n",
            "       0.54731524, 0.54781369, 0.5417852 , 0.54023738, 0.54033195,\n",
            "       0.55128569, 0.55157597, 0.55052727, 0.55202921, 0.55622162,\n",
            "       0.55693403, 0.55326709, 0.5523803 , 0.56217566, 0.56170616,\n",
            "       0.56258353, 0.57087814, 0.56779375, 0.56877832, 0.57110813,\n",
            "       0.5741759 , 0.57160002, 0.56741449, 0.57276001, 0.57853479,\n",
            "       0.57790109, 0.5765048 , 0.58401929, 0.58055158, 0.58107982,\n",
            "       0.58195358, 0.58295563, 0.58352591, 0.5820914 , 0.58296373,\n",
            "       0.5312288 , 0.53006749, 0.52766753, 0.53490059, 0.54324345,\n",
            "       0.5437284 , 0.54657128, 0.54963435, 0.55018741, 0.55034025,\n",
            "       0.54854558, 0.58236417, 0.58135258, 0.58060081, 0.58775353,\n",
            "       0.58526947, 0.58349182, 0.58468582, 0.58721505, 0.58730944,\n",
            "       0.58925438, 0.58972189, 0.54256728, 0.54127196, 0.54151436,\n",
            "       0.55484651, 0.55338978, 0.55067024, 0.55388953, 0.55573569,\n",
            "       0.55819926, 0.55946874, 0.56486326]), 'split2_test_score': array([0.37110057, 0.37104986, 0.37602494, 0.37482117, 0.37517873,\n",
            "       0.37441449, 0.37169843, 0.36710644, 0.368319  , 0.37236135,\n",
            "       0.37528413, 0.3789281 , 0.38175347, 0.38491185, 0.38100805,\n",
            "       0.38027908, 0.38395838, 0.38270842, 0.38109868, 0.38268655,\n",
            "       0.38555706, 0.38774298, 0.39232084, 0.39125052, 0.3939851 ,\n",
            "       0.39158277, 0.39444018, 0.39157571, 0.38806137, 0.38641411,\n",
            "       0.38438773, 0.38432203, 0.3819759 , 0.4154848 , 0.41598704,\n",
            "       0.418344  , 0.41463898, 0.41351698, 0.41229602, 0.4118622 ,\n",
            "       0.40888684, 0.40988313, 0.41109429, 0.41033738, 0.40811453,\n",
            "       0.40567915, 0.40804071, 0.40797256, 0.40959068, 0.40688964,\n",
            "       0.40247305, 0.40076303, 0.39735881, 0.39835229, 0.40269148,\n",
            "       0.42556502, 0.42331956, 0.42501681, 0.42715983, 0.42652861,\n",
            "       0.42837459, 0.42827003, 0.42576772, 0.42421672, 0.42390101,\n",
            "       0.42288714, 0.39269695, 0.39189378, 0.39493868, 0.39273454,\n",
            "       0.39304403, 0.39244073, 0.39181746, 0.38921597, 0.38450247,\n",
            "       0.38824105, 0.39125772, 0.39177834, 0.38776307, 0.39058144,\n",
            "       0.38828213, 0.39165619, 0.3913109 , 0.38876556, 0.38603812,\n",
            "       0.38527742, 0.38488275, 0.38517222]), 'split3_test_score': array([0.63433201, 0.63533423, 0.63728784, 0.63650984, 0.63355478,\n",
            "       0.63183211, 0.63000774, 0.6337061 , 0.63296415, 0.63279856,\n",
            "       0.63447118, 0.62653208, 0.63059496, 0.63045938, 0.63140264,\n",
            "       0.63310207, 0.63393187, 0.63336241, 0.63416888, 0.629261  ,\n",
            "       0.62909202, 0.63077963, 0.64378854, 0.64426202, 0.64387217,\n",
            "       0.64366653, 0.64366262, 0.6409863 , 0.63830957, 0.64038788,\n",
            "       0.63801878, 0.64054852, 0.63643814, 0.63993929, 0.63728061,\n",
            "       0.63765307, 0.63750188, 0.64029072, 0.63696044, 0.63403854,\n",
            "       0.6358805 , 0.63273576, 0.63459394, 0.63277347, 0.62508323,\n",
            "       0.62889394, 0.63302893, 0.63363259, 0.63363193, 0.6329977 ,\n",
            "       0.62971341, 0.63030226, 0.62838823, 0.62781118, 0.62787772,\n",
            "       0.63730277, 0.63766279, 0.63838961, 0.64032921, 0.6415338 ,\n",
            "       0.64415746, 0.642532  , 0.64718457, 0.64437696, 0.64494042,\n",
            "       0.64872537, 0.62466883, 0.6231035 , 0.62536716, 0.62533115,\n",
            "       0.62521613, 0.62214377, 0.61976567, 0.62288523, 0.6187448 ,\n",
            "       0.6218945 , 0.62421633, 0.62436074, 0.62724098, 0.62741868,\n",
            "       0.62776083, 0.63242739, 0.63521329, 0.6316092 , 0.63237015,\n",
            "       0.62937741, 0.63083545, 0.63293887]), 'split4_test_score': array([0.2911109 , 0.27632567, 0.27127677, 0.26681915, 0.26441987,\n",
            "       0.2648364 , 0.2682967 , 0.25786596, 0.25698759, 0.26181513,\n",
            "       0.26017866, 0.28547133, 0.29219886, 0.28683168, 0.27582107,\n",
            "       0.27565108, 0.27490317, 0.27729605, 0.26769374, 0.26867182,\n",
            "       0.27527442, 0.28037107, 0.27924368, 0.2837304 , 0.28005679,\n",
            "       0.2743285 , 0.27057964, 0.26426487, 0.26731851, 0.25808874,\n",
            "       0.25931551, 0.259889  , 0.26277416, 0.28709987, 0.2705734 ,\n",
            "       0.26427592, 0.26715152, 0.26804635, 0.26525292, 0.26857699,\n",
            "       0.26053504, 0.26003655, 0.26691838, 0.25486917, 0.26315939,\n",
            "       0.26178415, 0.25846733, 0.2548694 , 0.24942362, 0.24130819,\n",
            "       0.24721831, 0.23659716, 0.23784504, 0.24038408, 0.24201541,\n",
            "       0.24909601, 0.25329762, 0.2529786 , 0.25124781, 0.24493975,\n",
            "       0.24763425, 0.25041156, 0.24326929, 0.24716169, 0.25329831,\n",
            "       0.25349306, 0.27738144, 0.26024791, 0.25891923, 0.26006646,\n",
            "       0.25166494, 0.24953067, 0.25182495, 0.24543042, 0.24196234,\n",
            "       0.24967937, 0.25351124, 0.17983956, 0.18798891, 0.18468031,\n",
            "       0.18651038, 0.17900413, 0.1745515 , 0.17981857, 0.17307523,\n",
            "       0.16813535, 0.17599209, 0.17825093]), 'mean_test_score': array([0.44443338, 0.44143086, 0.44026579, 0.44010829, 0.43885247,\n",
            "       0.43854527, 0.43916787, 0.43730603, 0.43752298, 0.44004107,\n",
            "       0.44059624, 0.45352753, 0.4557407 , 0.45470365, 0.45343143,\n",
            "       0.45378981, 0.45441016, 0.454895  , 0.45373557, 0.45220773,\n",
            "       0.45476655, 0.45601198, 0.4519939 , 0.45217852, 0.45254384,\n",
            "       0.45291759, 0.45149328, 0.4494616 , 0.44949368, 0.44849965,\n",
            "       0.44794424, 0.4484494 , 0.44755817, 0.47445584, 0.47102272,\n",
            "       0.47062534, 0.47167332, 0.47182768, 0.47036146, 0.47055664,\n",
            "       0.46858754, 0.46766389, 0.46951064, 0.46803491, 0.45799999,\n",
            "       0.45681722, 0.45772673, 0.45831449, 0.45539056, 0.45237994,\n",
            "       0.45179886, 0.45059841, 0.45036944, 0.4515247 , 0.45222291,\n",
            "       0.45764735, 0.45709771, 0.45727745, 0.45800692, 0.45828048,\n",
            "       0.45971131, 0.46095636, 0.46102815, 0.46127384, 0.46352267,\n",
            "       0.46357206, 0.46215765, 0.4579454 , 0.45893756, 0.45964089,\n",
            "       0.45754486, 0.4557314 , 0.45635449, 0.45508196, 0.45167663,\n",
            "       0.45574803, 0.45751539, 0.43335368, 0.43467312, 0.43501267,\n",
            "       0.43766723, 0.43749458, 0.43612741, 0.43734532, 0.43528439,\n",
            "       0.43491972, 0.43702571, 0.43911269]), 'std_test_score': array([0.12423623, 0.12800167, 0.12833362, 0.13067795, 0.13034014,\n",
            "       0.12976683, 0.12880839, 0.13382296, 0.13410189, 0.13326594,\n",
            "       0.13449774, 0.11897906, 0.11818017, 0.11907337, 0.12439456,\n",
            "       0.1250686 , 0.12503957, 0.12477029, 0.12828433, 0.12620136,\n",
            "       0.1235251 , 0.1224705 , 0.12701822, 0.12594811, 0.12633683,\n",
            "       0.1297208 , 0.13105518, 0.13190573, 0.1306952 , 0.13472621,\n",
            "       0.13403356, 0.13380013, 0.13189957, 0.12141389, 0.12575862,\n",
            "       0.12780307, 0.12840162, 0.12846923, 0.12875216, 0.12734915,\n",
            "       0.13115804, 0.13000933, 0.12751287, 0.13181558, 0.13018186,\n",
            "       0.13200963, 0.13345355, 0.13615695, 0.13756563, 0.14042096,\n",
            "       0.13842955, 0.14171634, 0.14105397, 0.13952915, 0.13911519,\n",
            "       0.1283527 , 0.12716791, 0.12708928, 0.12909059, 0.13255764,\n",
            "       0.13241253, 0.13135539, 0.13538114, 0.13347976, 0.13156901,\n",
            "       0.1324127 , 0.12699424, 0.13158228, 0.13204816, 0.13335593,\n",
            "       0.13535131, 0.13501809, 0.13392812, 0.13748125, 0.1381787 ,\n",
            "       0.13647718, 0.13571743, 0.15128487, 0.1493522 , 0.15034645,\n",
            "       0.15194112, 0.15517165, 0.1569956 , 0.15493427, 0.15783988,\n",
            "       0.15915503, 0.15711232, 0.15771051]), 'rank_test_score': array([67, 68, 70, 71, 75, 76, 73, 81, 78, 72, 69, 46, 36, 42, 47, 44, 43,\n",
            "       40, 45, 52, 41, 34, 54, 53, 49, 48, 58, 62, 61, 63, 65, 64, 66,  1,\n",
            "        4,  5,  3,  2,  7,  6,  9, 11,  8, 10, 24, 32, 26, 21, 38, 50, 55,\n",
            "       59, 60, 57, 51, 27, 31, 30, 23, 22, 18, 17, 16, 15, 13, 12, 14, 25,\n",
            "       20, 19, 28, 37, 33, 39, 56, 35, 29, 88, 87, 85, 77, 79, 83, 80, 84,\n",
            "       86, 82, 74], dtype=int32)}\n"
          ]
        }
      ]
    },
    {
      "cell_type": "code",
      "source": [
        "max_depth = [15, 16, 17, 28, 19, 20, 21, 22]\n",
        "n_estimators = [55, 56, 57, 58, 59, 60, 61, 62, 63, 64, 65]\n",
        "scores = clf.cv_results_['mean_test_score'].reshape(len(max_depth), len(n_estimators))\n",
        "plt.figure(1)\n",
        "plt.subplot(1, 1, 1)\n",
        "\n",
        "for i, j in enumerate(max_depth):\n",
        "  plt.plot(n_estimators, scores[i], '-o', label = 'max_depth: ' + str(j))\n",
        "\n",
        "plt.legend(bbox_to_anchor = (1.05, 1), loc = 'upper left', borderaxespad = 0.)\n",
        "plt.xlabel('n_estimators')\n",
        "plt.ylabel('mean_test_score')\n",
        "plt.show()\n",
        "\n",
        "print('The best parameter for max_depth is : ' + str(clf.best_params_['max_depth']))\n",
        "print('The best parameter for n_estimators is: ' + str(clf.best_params_['n_estimators']))"
      ],
      "metadata": {
        "colab": {
          "base_uri": "https://localhost:8080/",
          "height": 315
        },
        "id": "PqarlMfGAyN3",
        "outputId": "35f5e06b-9aaf-48f6-89f9-abcbf0aa28a8"
      },
      "execution_count": null,
      "outputs": [
        {
          "output_type": "display_data",
          "data": {
            "text/plain": [
              "<Figure size 432x288 with 1 Axes>"
            ],
            "image/png": "[encoded data removed]"
          },
          "metadata": {
            "needs_background": "light"
          }
        },
        {
          "output_type": "stream",
          "name": "stdout",
          "text": [
            "The best parameter for max_depth is : 28\n",
            "The best parameter for n_estimators is: 55\n"
          ]
        }
      ]
    },
    {
      "cell_type": "markdown",
      "source": [
        "# Part 4. Model Evaluation"
      ],
      "metadata": {
        "id": "9uJFEg6nDfwv"
      }
    },
    {
      "cell_type": "markdown",
      "source": [
        "## 4.1 Evaluate All Models"
      ],
      "metadata": {
        "id": "vhJ04GS1DlBh"
      }
    },
    {
      "cell_type": "code",
      "source": [
        "x_train, x_test, y_train, y_test = model_train_x, model_test_x, model_train_y, model_test_y"
      ],
      "metadata": {
        "id": "EBmI1KPADrbY"
      },
      "execution_count": null,
      "outputs": []
    },
    {
      "cell_type": "code",
      "source": [
        "# Lasso Linear Regression\n",
        "lasso = Lasso(alpha = model1_para)\n",
        "lasso.fit(x_train, y_train)\n",
        "pred_lasso_y = lasso.predict(x_test)\n",
        "lasso_score = lasso.score(x_test, y_test)\n",
        "MSE_lasso = mean_squared_error(y_test, pred_lasso_y)\n",
        "RMSE_lasso = np.sqrt(MSE_lasso)\n",
        "\n",
        "print('Lasso score: ', lasso_score)\n",
        "print('Mean Square Error of Lasso: ', MSE_lasso)\n",
        "print('Root Mean Squared Error of Lasso: ', RMSE_lasso)"
      ],
      "metadata": {
        "colab": {
          "base_uri": "https://localhost:8080/"
        },
        "id": "LKX9bVobD7ZS",
        "outputId": "27f7dedb-a1e1-4630-bee1-145911c01b19"
      },
      "execution_count": null,
      "outputs": [
        {
          "output_type": "stream",
          "name": "stdout",
          "text": [
            "Lasso score:  0.09898048413763116\n",
            "Mean Square Error of Lasso:  239104131.54554778\n",
            "Root Mean Squared Error of Lasso:  15462.99232184857\n"
          ]
        }
      ]
    },
    {
      "cell_type": "code",
      "source": [
        "# Ridge Linear Regression\n",
        "ridge = Ridge(alpha = model2_para)\n",
        "ridge.fit(x_train, y_train)\n",
        "pred_ridge_y = ridge.predict(x_test)\n",
        "ridge_score = ridge.score(x_test, y_test)\n",
        "MSE_ridge = mean_squared_error(y_test, pred_ridge_y)\n",
        "RMSE_ridge = np.sqrt(MSE_ridge)\n",
        "\n",
        "print('Ridge score: ', ridge_score)\n",
        "print('Mean Square Error of Ridge: ', MSE_ridge)\n",
        "print('Root Mean Squared Error of Ridge: ', RMSE_ridge)"
      ],
      "metadata": {
        "colab": {
          "base_uri": "https://localhost:8080/"
        },
        "id": "Qcu5wclTIuq1",
        "outputId": "47e59493-c271-4f2a-84d0-848947f7d5b1"
      },
      "execution_count": null,
      "outputs": [
        {
          "output_type": "stream",
          "name": "stdout",
          "text": [
            "Ridge score:  0.1138238752321652\n",
            "Mean Square Error of Ridge:  235165131.2526933\n",
            "Root Mean Squared Error of Ridge:  15335.094758516925\n"
          ]
        }
      ]
    },
    {
      "cell_type": "code",
      "source": [
        "# Random Forest Regression\n",
        "rf = RandomForestRegressor(n_estimators = clf.best_params_['n_estimators'], max_depth = clf.best_params_['max_depth'], max_features = 'sqrt', random_state = 2, n_jobs = -1)\n",
        "rf.fit(x_train, y_train)\n",
        "pred_rf_y = rf.predict(x_test)\n",
        "rf_score = rf.score(x_test, y_test)\n",
        "MSE_rf = mean_squared_error(y_test, pred_rf_y)\n",
        "RMSE_rf = np.sqrt(MSE_rf)\n",
        "\n",
        "print('Random Forest score: ', rf_score)\n",
        "print('Mean Square Error of Random Forest: ', MSE_rf)\n",
        "print('Root Mean Squared Error of Random Forest: ', RMSE_rf)"
      ],
      "metadata": {
        "colab": {
          "base_uri": "https://localhost:8080/"
        },
        "id": "SBDDhf9kIxZS",
        "outputId": "a6f58186-6b6b-4c85-f700-c2737930d1a7"
      },
      "execution_count": null,
      "outputs": [
        {
          "output_type": "stream",
          "name": "stdout",
          "text": [
            "Random Forest score:  0.5080172553188199\n",
            "Mean Square Error of Random Forest:  130557779.08406298\n",
            "Root Mean Squared Error of Random Forest:  11426.188300744172\n"
          ]
        }
      ]
    },
    {
      "cell_type": "markdown",
      "source": [
        "## 4.2 Model Comparison"
      ],
      "metadata": {
        "id": "L38a6_4_RLJ2"
      }
    },
    {
      "cell_type": "code",
      "source": [
        "lst_score = [lasso_score, ridge_score, rf_score]\n",
        "MSE_lst =  [MSE_lasso, MSE_ridge, MSE_rf]\n",
        "RMSE_lst =  [RMSE_lasso, RMSE_ridge, RMSE_rf]\n",
        "model_lst = ['Lasso_linear', 'Ridge linear', 'Random forest']\n",
        "\n",
        "plt.figure(1)\n",
        "plt.plot(model_lst, lst_score, 'ro--')\n",
        "plt.legend(['r-squre / score'], bbox_to_anchor = (1.05, 1))\n",
        "plt.xlabel('Model Names',fontsize = 14)\n",
        "plt.ylabel('score / r square', fontsize = 14)\n",
        "plt.grid(True)\n",
        "plt.show()\n",
        "\n",
        "print(\" \")\n",
        "\n",
        "plt.figure(2)\n",
        "plt.plot(model_lst, MSE_lst, 'g^--')\n",
        "plt.legend(['mean square error (MSE)'], bbox_to_anchor = (1.55, 1))\n",
        "plt.xlabel('Model Names', fontsize = 14)\n",
        "plt.ylabel('mean square error', fontsize = 14)\n",
        "plt.grid(True)\n",
        "plt.show()\n",
        "\n",
        "print(\" \")\n",
        "\n",
        "plt.figure(3)\n",
        "plt.plot(model_lst, RMSE_lst, 'bs--')\n",
        "plt.legend(['root mean square error (RMSE)'], bbox_to_anchor = (1.05, 1))\n",
        "plt.xlabel('Model Names', fontsize = 14)\n",
        "plt.ylabel('root mean square error', fontsize =14)\n",
        "plt.grid(True)\n",
        "plt.show()"
      ],
      "metadata": {
        "colab": {
          "base_uri": "https://localhost:8080/",
          "height": 864
        },
        "id": "a3cJNVJ3RPQg",
        "outputId": "f66780f9-08c7-4b9e-c23e-c0ba780d6ca1"
      },
      "execution_count": null,
      "outputs": [
        {
          "output_type": "display_data",
          "data": {
            "text/plain": [
              "<Figure size 432x288 with 1 Axes>"
            ],
            "image/png": "[encoded data removed]"
          },
          "metadata": {
            "needs_background": "light"
          }
        },
        {
          "output_type": "stream",
          "name": "stdout",
          "text": [
            " \n"
          ]
        },
        {
          "output_type": "display_data",
          "data": {
            "text/plain": [
              "<Figure size 432x288 with 1 Axes>"
            ],
            "image/png": "[encoded data removed]"
          },
          "metadata": {
            "needs_background": "light"
          }
        },
        {
          "output_type": "stream",
          "name": "stdout",
          "text": [
            " \n"
          ]
        },
        {
          "output_type": "display_data",
          "data": {
            "text/plain": [
              "<Figure size 432x288 with 1 Axes>"
            ],
            "image/png": "[encoded data removed]"
          },
          "metadata": {
            "needs_background": "light"
          }
        }
      ]
    },
    {
      "cell_type": "markdown",
      "source": [
        "## 4.3 Feature Importance"
      ],
      "metadata": {
        "id": "76xBo07TVGGi"
      }
    },
    {
      "cell_type": "code",
      "source": [
        "importances = rf.feature_importances_\n",
        "feature_name = x_train.columns.values\n",
        "\n",
        "df = {'importances': importances, 'feature_name': feature_name}\n",
        "\n",
        "feature_imp = pd.DataFrame(data = df)\n",
        "feature_imp_sorted = feature_imp.sort_values(by = ['importances'], ascending = False)\n",
        "\n",
        "ft = feature_imp_sorted['feature_name'][:20]\n",
        "imp = feature_imp_sorted['importances'][:20]\n",
        "\n",
        "# Figure Size\n",
        "fig, ax = plt.subplots(figsize = (20, 15))\n",
        "\n",
        "# Horizontal Bar Plot\n",
        "ax.barh(ft, imp)\n",
        "\n",
        "# Descending Order\n",
        "ax.invert_yaxis()\n",
        "\n",
        "# Add Annotation\n",
        "for i in ax.patches:\n",
        "  plt.text(i.get_width() + 0.002, i.get_y() + 0.5, \n",
        "           str(round((i.get_width()), 3)), fontsize = 10, \n",
        "           fontweight = 'bold', color = 'grey')"
      ],
      "metadata": {
        "colab": {
          "base_uri": "https://localhost:8080/",
          "height": 778
        },
        "id": "gmajiIJHYMNE",
        "outputId": "96de120b-b5d2-411d-b46a-225c4b0ad78f"
      },
      "execution_count": null,
      "outputs": [
        {
          "output_type": "display_data",
          "data": {
            "text/plain": [
              "<Figure size 1440x1080 with 1 Axes>"
            ],
            "image/png": "[encoded data removed]"
          },
          "metadata": {
            "needs_background": "light"
          }
        }
      ]
    }
  ]
}